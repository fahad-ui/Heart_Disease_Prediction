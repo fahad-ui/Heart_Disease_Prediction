{
  "nbformat": 4,
  "nbformat_minor": 0,
  "metadata": {
    "colab": {
      "name": "Heart_Disease_Prediction.ipynb",
      "provenance": [],
      "collapsed_sections": []
    },
    "kernelspec": {
      "name": "python3",
      "display_name": "Python 3"
    },
    "language_info": {
      "name": "python"
    }
  },
  "cells": [
    {
      "cell_type": "code",
      "metadata": {
        "id": "KlZU01OQ2zlv"
      },
      "source": [
        "import numpy as np\n",
        "import pandas as pd\n",
        "import matplotlib.pyplot as plt\n",
        "%matplotlib inline\n",
        "import seaborn as sns\n",
        "sns.set()"
      ],
      "execution_count": null,
      "outputs": []
    },
    {
      "cell_type": "code",
      "metadata": {
        "colab": {
          "resources": {
            "http://localhost:8080/nbextensions/google.colab/files.js": {
              "data": "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",
              "ok": true,
              "headers": [
                [
                  "content-type",
                  "application/javascript"
                ]
              ],
              "status": 200,
              "status_text": ""
            }
          },
          "base_uri": "https://localhost:8080/",
          "height": 73
        },
        "id": "_rx7rYyT3WGl",
        "outputId": "4fe41f88-02c7-4b1a-a8af-84d6c26c7762"
      },
      "source": [
        "from google.colab import files\n",
        "files = files.upload()"
      ],
      "execution_count": null,
      "outputs": [
        {
          "output_type": "display_data",
          "data": {
            "text/html": [
              "\n",
              "     <input type=\"file\" id=\"files-8497b551-a1af-4a6e-8c21-254d74841081\" name=\"files[]\" multiple disabled\n",
              "        style=\"border:none\" />\n",
              "     <output id=\"result-8497b551-a1af-4a6e-8c21-254d74841081\">\n",
              "      Upload widget is only available when the cell has been executed in the\n",
              "      current browser session. Please rerun this cell to enable.\n",
              "      </output>\n",
              "      <script src=\"/nbextensions/google.colab/files.js\"></script> "
            ],
            "text/plain": [
              "<IPython.core.display.HTML object>"
            ]
          },
          "metadata": {
            "tags": []
          }
        },
        {
          "output_type": "stream",
          "text": [
            "Saving Heart Disease Dataset.csv to Heart Disease Dataset.csv\n"
          ],
          "name": "stdout"
        }
      ]
    },
    {
      "cell_type": "code",
      "metadata": {
        "id": "sJLD544S3eqI"
      },
      "source": [
        "df = pd.read_csv('Heart Disease Dataset.csv')"
      ],
      "execution_count": null,
      "outputs": []
    },
    {
      "cell_type": "code",
      "metadata": {
        "colab": {
          "base_uri": "https://localhost:8080/",
          "height": 423
        },
        "id": "kG2aVhdl392M",
        "outputId": "c38489b6-c71c-437b-fb21-15f38bdc1b0d"
      },
      "source": [
        "df"
      ],
      "execution_count": null,
      "outputs": [
        {
          "output_type": "execute_result",
          "data": {
            "text/html": [
              "<div>\n",
              "<style scoped>\n",
              "    .dataframe tbody tr th:only-of-type {\n",
              "        vertical-align: middle;\n",
              "    }\n",
              "\n",
              "    .dataframe tbody tr th {\n",
              "        vertical-align: top;\n",
              "    }\n",
              "\n",
              "    .dataframe thead th {\n",
              "        text-align: right;\n",
              "    }\n",
              "</style>\n",
              "<table border=\"1\" class=\"dataframe\">\n",
              "  <thead>\n",
              "    <tr style=\"text-align: right;\">\n",
              "      <th></th>\n",
              "      <th>age</th>\n",
              "      <th>sex</th>\n",
              "      <th>cp</th>\n",
              "      <th>trestbps</th>\n",
              "      <th>chol</th>\n",
              "      <th>fbs</th>\n",
              "      <th>restecg</th>\n",
              "      <th>thalach</th>\n",
              "      <th>exang</th>\n",
              "      <th>oldpeak</th>\n",
              "      <th>slope</th>\n",
              "      <th>ca</th>\n",
              "      <th>thal</th>\n",
              "      <th>target</th>\n",
              "    </tr>\n",
              "  </thead>\n",
              "  <tbody>\n",
              "    <tr>\n",
              "      <th>0</th>\n",
              "      <td>63</td>\n",
              "      <td>1</td>\n",
              "      <td>3</td>\n",
              "      <td>145</td>\n",
              "      <td>233</td>\n",
              "      <td>1</td>\n",
              "      <td>0</td>\n",
              "      <td>150</td>\n",
              "      <td>0</td>\n",
              "      <td>2.3</td>\n",
              "      <td>0</td>\n",
              "      <td>0</td>\n",
              "      <td>1</td>\n",
              "      <td>1</td>\n",
              "    </tr>\n",
              "    <tr>\n",
              "      <th>1</th>\n",
              "      <td>37</td>\n",
              "      <td>1</td>\n",
              "      <td>2</td>\n",
              "      <td>130</td>\n",
              "      <td>250</td>\n",
              "      <td>0</td>\n",
              "      <td>1</td>\n",
              "      <td>187</td>\n",
              "      <td>0</td>\n",
              "      <td>3.5</td>\n",
              "      <td>0</td>\n",
              "      <td>0</td>\n",
              "      <td>2</td>\n",
              "      <td>1</td>\n",
              "    </tr>\n",
              "    <tr>\n",
              "      <th>2</th>\n",
              "      <td>41</td>\n",
              "      <td>0</td>\n",
              "      <td>1</td>\n",
              "      <td>130</td>\n",
              "      <td>204</td>\n",
              "      <td>0</td>\n",
              "      <td>0</td>\n",
              "      <td>172</td>\n",
              "      <td>0</td>\n",
              "      <td>1.4</td>\n",
              "      <td>2</td>\n",
              "      <td>0</td>\n",
              "      <td>2</td>\n",
              "      <td>1</td>\n",
              "    </tr>\n",
              "    <tr>\n",
              "      <th>3</th>\n",
              "      <td>56</td>\n",
              "      <td>1</td>\n",
              "      <td>1</td>\n",
              "      <td>120</td>\n",
              "      <td>236</td>\n",
              "      <td>0</td>\n",
              "      <td>1</td>\n",
              "      <td>178</td>\n",
              "      <td>0</td>\n",
              "      <td>0.8</td>\n",
              "      <td>2</td>\n",
              "      <td>0</td>\n",
              "      <td>2</td>\n",
              "      <td>1</td>\n",
              "    </tr>\n",
              "    <tr>\n",
              "      <th>4</th>\n",
              "      <td>57</td>\n",
              "      <td>0</td>\n",
              "      <td>0</td>\n",
              "      <td>120</td>\n",
              "      <td>354</td>\n",
              "      <td>0</td>\n",
              "      <td>1</td>\n",
              "      <td>163</td>\n",
              "      <td>1</td>\n",
              "      <td>0.6</td>\n",
              "      <td>2</td>\n",
              "      <td>0</td>\n",
              "      <td>2</td>\n",
              "      <td>1</td>\n",
              "    </tr>\n",
              "    <tr>\n",
              "      <th>...</th>\n",
              "      <td>...</td>\n",
              "      <td>...</td>\n",
              "      <td>...</td>\n",
              "      <td>...</td>\n",
              "      <td>...</td>\n",
              "      <td>...</td>\n",
              "      <td>...</td>\n",
              "      <td>...</td>\n",
              "      <td>...</td>\n",
              "      <td>...</td>\n",
              "      <td>...</td>\n",
              "      <td>...</td>\n",
              "      <td>...</td>\n",
              "      <td>...</td>\n",
              "    </tr>\n",
              "    <tr>\n",
              "      <th>298</th>\n",
              "      <td>57</td>\n",
              "      <td>0</td>\n",
              "      <td>0</td>\n",
              "      <td>140</td>\n",
              "      <td>241</td>\n",
              "      <td>0</td>\n",
              "      <td>1</td>\n",
              "      <td>123</td>\n",
              "      <td>1</td>\n",
              "      <td>0.2</td>\n",
              "      <td>1</td>\n",
              "      <td>0</td>\n",
              "      <td>3</td>\n",
              "      <td>0</td>\n",
              "    </tr>\n",
              "    <tr>\n",
              "      <th>299</th>\n",
              "      <td>45</td>\n",
              "      <td>1</td>\n",
              "      <td>3</td>\n",
              "      <td>110</td>\n",
              "      <td>264</td>\n",
              "      <td>0</td>\n",
              "      <td>1</td>\n",
              "      <td>132</td>\n",
              "      <td>0</td>\n",
              "      <td>1.2</td>\n",
              "      <td>1</td>\n",
              "      <td>0</td>\n",
              "      <td>3</td>\n",
              "      <td>0</td>\n",
              "    </tr>\n",
              "    <tr>\n",
              "      <th>300</th>\n",
              "      <td>68</td>\n",
              "      <td>1</td>\n",
              "      <td>0</td>\n",
              "      <td>144</td>\n",
              "      <td>193</td>\n",
              "      <td>1</td>\n",
              "      <td>1</td>\n",
              "      <td>141</td>\n",
              "      <td>0</td>\n",
              "      <td>3.4</td>\n",
              "      <td>1</td>\n",
              "      <td>2</td>\n",
              "      <td>3</td>\n",
              "      <td>0</td>\n",
              "    </tr>\n",
              "    <tr>\n",
              "      <th>301</th>\n",
              "      <td>57</td>\n",
              "      <td>1</td>\n",
              "      <td>0</td>\n",
              "      <td>130</td>\n",
              "      <td>131</td>\n",
              "      <td>0</td>\n",
              "      <td>1</td>\n",
              "      <td>115</td>\n",
              "      <td>1</td>\n",
              "      <td>1.2</td>\n",
              "      <td>1</td>\n",
              "      <td>1</td>\n",
              "      <td>3</td>\n",
              "      <td>0</td>\n",
              "    </tr>\n",
              "    <tr>\n",
              "      <th>302</th>\n",
              "      <td>57</td>\n",
              "      <td>0</td>\n",
              "      <td>1</td>\n",
              "      <td>130</td>\n",
              "      <td>236</td>\n",
              "      <td>0</td>\n",
              "      <td>0</td>\n",
              "      <td>174</td>\n",
              "      <td>0</td>\n",
              "      <td>0.0</td>\n",
              "      <td>1</td>\n",
              "      <td>1</td>\n",
              "      <td>2</td>\n",
              "      <td>0</td>\n",
              "    </tr>\n",
              "  </tbody>\n",
              "</table>\n",
              "<p>303 rows × 14 columns</p>\n",
              "</div>"
            ],
            "text/plain": [
              "     age  sex  cp  trestbps  chol  fbs  ...  exang  oldpeak  slope  ca  thal  target\n",
              "0     63    1   3       145   233    1  ...      0      2.3      0   0     1       1\n",
              "1     37    1   2       130   250    0  ...      0      3.5      0   0     2       1\n",
              "2     41    0   1       130   204    0  ...      0      1.4      2   0     2       1\n",
              "3     56    1   1       120   236    0  ...      0      0.8      2   0     2       1\n",
              "4     57    0   0       120   354    0  ...      1      0.6      2   0     2       1\n",
              "..   ...  ...  ..       ...   ...  ...  ...    ...      ...    ...  ..   ...     ...\n",
              "298   57    0   0       140   241    0  ...      1      0.2      1   0     3       0\n",
              "299   45    1   3       110   264    0  ...      0      1.2      1   0     3       0\n",
              "300   68    1   0       144   193    1  ...      0      3.4      1   2     3       0\n",
              "301   57    1   0       130   131    0  ...      1      1.2      1   1     3       0\n",
              "302   57    0   1       130   236    0  ...      0      0.0      1   1     2       0\n",
              "\n",
              "[303 rows x 14 columns]"
            ]
          },
          "metadata": {
            "tags": []
          },
          "execution_count": 6
        }
      ]
    },
    {
      "cell_type": "code",
      "metadata": {
        "colab": {
          "base_uri": "https://localhost:8080/"
        },
        "id": "CzXMab4C3-8t",
        "outputId": "a9459df8-19e6-4ddb-ce41-1b9056054cc7"
      },
      "source": [
        " df['target'].value_counts()"
      ],
      "execution_count": null,
      "outputs": [
        {
          "output_type": "execute_result",
          "data": {
            "text/plain": [
              "1    165\n",
              "0    138\n",
              "Name: target, dtype: int64"
            ]
          },
          "metadata": {
            "tags": []
          },
          "execution_count": 7
        }
      ]
    },
    {
      "cell_type": "code",
      "metadata": {
        "colab": {
          "base_uri": "https://localhost:8080/"
        },
        "id": "cQbx7sEi5frz",
        "outputId": "66355f3a-1831-478b-a425-a97a73f9e0bf"
      },
      "source": [
        "df.shape"
      ],
      "execution_count": null,
      "outputs": [
        {
          "output_type": "execute_result",
          "data": {
            "text/plain": [
              "(303, 14)"
            ]
          },
          "metadata": {
            "tags": []
          },
          "execution_count": 8
        }
      ]
    },
    {
      "cell_type": "code",
      "metadata": {
        "colab": {
          "base_uri": "https://localhost:8080/",
          "height": 320
        },
        "id": "tx0XrMVN5nlU",
        "outputId": "a4a3d4b5-eb47-4858-a19c-3675b98ca13d"
      },
      "source": [
        "df.describe()"
      ],
      "execution_count": null,
      "outputs": [
        {
          "output_type": "execute_result",
          "data": {
            "text/html": [
              "<div>\n",
              "<style scoped>\n",
              "    .dataframe tbody tr th:only-of-type {\n",
              "        vertical-align: middle;\n",
              "    }\n",
              "\n",
              "    .dataframe tbody tr th {\n",
              "        vertical-align: top;\n",
              "    }\n",
              "\n",
              "    .dataframe thead th {\n",
              "        text-align: right;\n",
              "    }\n",
              "</style>\n",
              "<table border=\"1\" class=\"dataframe\">\n",
              "  <thead>\n",
              "    <tr style=\"text-align: right;\">\n",
              "      <th></th>\n",
              "      <th>age</th>\n",
              "      <th>sex</th>\n",
              "      <th>cp</th>\n",
              "      <th>trestbps</th>\n",
              "      <th>chol</th>\n",
              "      <th>fbs</th>\n",
              "      <th>restecg</th>\n",
              "      <th>thalach</th>\n",
              "      <th>exang</th>\n",
              "      <th>oldpeak</th>\n",
              "      <th>slope</th>\n",
              "      <th>ca</th>\n",
              "      <th>thal</th>\n",
              "      <th>target</th>\n",
              "    </tr>\n",
              "  </thead>\n",
              "  <tbody>\n",
              "    <tr>\n",
              "      <th>count</th>\n",
              "      <td>303.000000</td>\n",
              "      <td>303.000000</td>\n",
              "      <td>303.000000</td>\n",
              "      <td>303.000000</td>\n",
              "      <td>303.000000</td>\n",
              "      <td>303.000000</td>\n",
              "      <td>303.000000</td>\n",
              "      <td>303.000000</td>\n",
              "      <td>303.000000</td>\n",
              "      <td>303.000000</td>\n",
              "      <td>303.000000</td>\n",
              "      <td>303.000000</td>\n",
              "      <td>303.000000</td>\n",
              "      <td>303.000000</td>\n",
              "    </tr>\n",
              "    <tr>\n",
              "      <th>mean</th>\n",
              "      <td>54.366337</td>\n",
              "      <td>0.683168</td>\n",
              "      <td>0.966997</td>\n",
              "      <td>131.623762</td>\n",
              "      <td>246.264026</td>\n",
              "      <td>0.148515</td>\n",
              "      <td>0.528053</td>\n",
              "      <td>149.646865</td>\n",
              "      <td>0.326733</td>\n",
              "      <td>1.039604</td>\n",
              "      <td>1.399340</td>\n",
              "      <td>0.729373</td>\n",
              "      <td>2.313531</td>\n",
              "      <td>0.544554</td>\n",
              "    </tr>\n",
              "    <tr>\n",
              "      <th>std</th>\n",
              "      <td>9.082101</td>\n",
              "      <td>0.466011</td>\n",
              "      <td>1.032052</td>\n",
              "      <td>17.538143</td>\n",
              "      <td>51.830751</td>\n",
              "      <td>0.356198</td>\n",
              "      <td>0.525860</td>\n",
              "      <td>22.905161</td>\n",
              "      <td>0.469794</td>\n",
              "      <td>1.161075</td>\n",
              "      <td>0.616226</td>\n",
              "      <td>1.022606</td>\n",
              "      <td>0.612277</td>\n",
              "      <td>0.498835</td>\n",
              "    </tr>\n",
              "    <tr>\n",
              "      <th>min</th>\n",
              "      <td>29.000000</td>\n",
              "      <td>0.000000</td>\n",
              "      <td>0.000000</td>\n",
              "      <td>94.000000</td>\n",
              "      <td>126.000000</td>\n",
              "      <td>0.000000</td>\n",
              "      <td>0.000000</td>\n",
              "      <td>71.000000</td>\n",
              "      <td>0.000000</td>\n",
              "      <td>0.000000</td>\n",
              "      <td>0.000000</td>\n",
              "      <td>0.000000</td>\n",
              "      <td>0.000000</td>\n",
              "      <td>0.000000</td>\n",
              "    </tr>\n",
              "    <tr>\n",
              "      <th>25%</th>\n",
              "      <td>47.500000</td>\n",
              "      <td>0.000000</td>\n",
              "      <td>0.000000</td>\n",
              "      <td>120.000000</td>\n",
              "      <td>211.000000</td>\n",
              "      <td>0.000000</td>\n",
              "      <td>0.000000</td>\n",
              "      <td>133.500000</td>\n",
              "      <td>0.000000</td>\n",
              "      <td>0.000000</td>\n",
              "      <td>1.000000</td>\n",
              "      <td>0.000000</td>\n",
              "      <td>2.000000</td>\n",
              "      <td>0.000000</td>\n",
              "    </tr>\n",
              "    <tr>\n",
              "      <th>50%</th>\n",
              "      <td>55.000000</td>\n",
              "      <td>1.000000</td>\n",
              "      <td>1.000000</td>\n",
              "      <td>130.000000</td>\n",
              "      <td>240.000000</td>\n",
              "      <td>0.000000</td>\n",
              "      <td>1.000000</td>\n",
              "      <td>153.000000</td>\n",
              "      <td>0.000000</td>\n",
              "      <td>0.800000</td>\n",
              "      <td>1.000000</td>\n",
              "      <td>0.000000</td>\n",
              "      <td>2.000000</td>\n",
              "      <td>1.000000</td>\n",
              "    </tr>\n",
              "    <tr>\n",
              "      <th>75%</th>\n",
              "      <td>61.000000</td>\n",
              "      <td>1.000000</td>\n",
              "      <td>2.000000</td>\n",
              "      <td>140.000000</td>\n",
              "      <td>274.500000</td>\n",
              "      <td>0.000000</td>\n",
              "      <td>1.000000</td>\n",
              "      <td>166.000000</td>\n",
              "      <td>1.000000</td>\n",
              "      <td>1.600000</td>\n",
              "      <td>2.000000</td>\n",
              "      <td>1.000000</td>\n",
              "      <td>3.000000</td>\n",
              "      <td>1.000000</td>\n",
              "    </tr>\n",
              "    <tr>\n",
              "      <th>max</th>\n",
              "      <td>77.000000</td>\n",
              "      <td>1.000000</td>\n",
              "      <td>3.000000</td>\n",
              "      <td>200.000000</td>\n",
              "      <td>564.000000</td>\n",
              "      <td>1.000000</td>\n",
              "      <td>2.000000</td>\n",
              "      <td>202.000000</td>\n",
              "      <td>1.000000</td>\n",
              "      <td>6.200000</td>\n",
              "      <td>2.000000</td>\n",
              "      <td>4.000000</td>\n",
              "      <td>3.000000</td>\n",
              "      <td>1.000000</td>\n",
              "    </tr>\n",
              "  </tbody>\n",
              "</table>\n",
              "</div>"
            ],
            "text/plain": [
              "              age         sex          cp  ...          ca        thal      target\n",
              "count  303.000000  303.000000  303.000000  ...  303.000000  303.000000  303.000000\n",
              "mean    54.366337    0.683168    0.966997  ...    0.729373    2.313531    0.544554\n",
              "std      9.082101    0.466011    1.032052  ...    1.022606    0.612277    0.498835\n",
              "min     29.000000    0.000000    0.000000  ...    0.000000    0.000000    0.000000\n",
              "25%     47.500000    0.000000    0.000000  ...    0.000000    2.000000    0.000000\n",
              "50%     55.000000    1.000000    1.000000  ...    0.000000    2.000000    1.000000\n",
              "75%     61.000000    1.000000    2.000000  ...    1.000000    3.000000    1.000000\n",
              "max     77.000000    1.000000    3.000000  ...    4.000000    3.000000    1.000000\n",
              "\n",
              "[8 rows x 14 columns]"
            ]
          },
          "metadata": {
            "tags": []
          },
          "execution_count": 9
        }
      ]
    },
    {
      "cell_type": "code",
      "metadata": {
        "colab": {
          "base_uri": "https://localhost:8080/"
        },
        "id": "6eaw_ju85w5P",
        "outputId": "ed888cf4-2186-4ab5-d067-0f89a2d5d8c5"
      },
      "source": [
        "df.isnull().sum()"
      ],
      "execution_count": null,
      "outputs": [
        {
          "output_type": "execute_result",
          "data": {
            "text/plain": [
              "age         0\n",
              "sex         0\n",
              "cp          0\n",
              "trestbps    0\n",
              "chol        0\n",
              "fbs         0\n",
              "restecg     0\n",
              "thalach     0\n",
              "exang       0\n",
              "oldpeak     0\n",
              "slope       0\n",
              "ca          0\n",
              "thal        0\n",
              "target      0\n",
              "dtype: int64"
            ]
          },
          "metadata": {
            "tags": []
          },
          "execution_count": 10
        }
      ]
    },
    {
      "cell_type": "code",
      "metadata": {
        "colab": {
          "base_uri": "https://localhost:8080/"
        },
        "id": "SBkBkPaaFCQg",
        "outputId": "17b39087-e5ed-4140-aace-8e641cb420e4"
      },
      "source": [
        "info = [\"age\",\"1: male, 0: female\",\"chest pain type, 1: typical angina, 2: atypical angina, 3: non-anginal pain, 4: asymptomatic\",\"resting blood pressure\",\" serum cholestoral in mg/dl\",\"fasting blood sugar > 120 mg/dl\",\"resting electrocardiographic results (values 0,1,2)\",\" maximum heart rate achieved\",\"exercise induced angina\",\"oldpeak = ST depression induced by exercise relative to rest\",\"the slope of the peak exercise ST segment\",\"number of major vessels (0-3) colored by flourosopy\",\"thal: 3 = normal; 6 = fixed defect; 7 = reversable defect\"]\n",
        "\n",
        "\n",
        "\n",
        "for i in range(len(info)):\n",
        "    print(df.columns[i]+\":\\t\\t\\t\"+info[i])"
      ],
      "execution_count": null,
      "outputs": [
        {
          "output_type": "stream",
          "text": [
            "age:\t\t\tage\n",
            "sex:\t\t\t1: male, 0: female\n",
            "cp:\t\t\tchest pain type, 1: typical angina, 2: atypical angina, 3: non-anginal pain, 4: asymptomatic\n",
            "trestbps:\t\t\tresting blood pressure\n",
            "chol:\t\t\t serum cholestoral in mg/dl\n",
            "fbs:\t\t\tfasting blood sugar > 120 mg/dl\n",
            "restecg:\t\t\tresting electrocardiographic results (values 0,1,2)\n",
            "thalach:\t\t\t maximum heart rate achieved\n",
            "exang:\t\t\texercise induced angina\n",
            "oldpeak:\t\t\toldpeak = ST depression induced by exercise relative to rest\n",
            "slope:\t\t\tthe slope of the peak exercise ST segment\n",
            "ca:\t\t\tnumber of major vessels (0-3) colored by flourosopy\n",
            "thal:\t\t\tthal: 3 = normal; 6 = fixed defect; 7 = reversable defect\n"
          ],
          "name": "stdout"
        }
      ]
    },
    {
      "cell_type": "code",
      "metadata": {
        "colab": {
          "base_uri": "https://localhost:8080/",
          "height": 845
        },
        "id": "Bj279S6y6AwO",
        "outputId": "dc192a4e-d0fe-458d-c4a2-1d636c802767"
      },
      "source": [
        "df.hist(figsize=(14,14))\n",
        "plt.show()"
      ],
      "execution_count": null,
      "outputs": [
        {
          "output_type": "display_data",
          "data": {
            "text/plain": [
              "<Figure size 1008x1008 with 0 Axes>"
            ]
          },
          "metadata": {
            "tags": []
          }
        },
        {
          "output_type": "display_data",
          "data": {
            "image/png": "[encoded data removed]",
            "text/plain": [
              "<Figure size 1008x1008 with 16 Axes>"
            ]
          },
          "metadata": {
            "tags": [],
            "needs_background": "light"
          }
        }
      ]
    },
    {
      "cell_type": "code",
      "metadata": {
        "colab": {
          "base_uri": "https://localhost:8080/",
          "height": 285
        },
        "id": "WVpULVFq6RiO",
        "outputId": "9348ada5-2e53-4a40-a6a7-b69db0bd361e"
      },
      "source": [
        "sns.barplot(x = df['sex'], y = df['target'])\n",
        "plt.show()"
      ],
      "execution_count": null,
      "outputs": [
        {
          "output_type": "display_data",
          "data": {
            "image/png": "[encoded data removed]",
            "text/plain": [
              "<Figure size 432x288 with 1 Axes>"
            ]
          },
          "metadata": {
            "tags": [],
            "needs_background": "light"
          }
        }
      ]
    },
    {
      "cell_type": "code",
      "metadata": {
        "colab": {
          "base_uri": "https://localhost:8080/",
          "height": 303
        },
        "id": "pH8KJ9yo7hp-",
        "outputId": "a41446bf-d166-4ba4-e3d3-675828567c2b"
      },
      "source": [
        "sns.barplot(x=df['sex'],y=df['age'],hue=df['target'])"
      ],
      "execution_count": null,
      "outputs": [
        {
          "output_type": "execute_result",
          "data": {
            "text/plain": [
              "<matplotlib.axes._subplots.AxesSubplot at 0x7f4826fb6e10>"
            ]
          },
          "metadata": {
            "tags": []
          },
          "execution_count": 18
        },
        {
          "output_type": "display_data",
          "data": {
            "image/png": "[encoded data removed]",
            "text/plain": [
              "<Figure size 432x288 with 1 Axes>"
            ]
          },
          "metadata": {
            "tags": [],
            "needs_background": "light"
          }
        }
      ]
    },
    {
      "cell_type": "code",
      "metadata": {
        "colab": {
          "base_uri": "https://localhost:8080/",
          "height": 742
        },
        "id": "tuNkv4fz8TXg",
        "outputId": "d8d15d55-6929-4caa-de62-172f3a1fa79f"
      },
      "source": [
        " plt.figure(figsize=(12,12))\n",
        " sns.heatmap(df.corr(),annot=True,cmap='terrain')\n",
        " plt.show()"
      ],
      "execution_count": null,
      "outputs": [
        {
          "output_type": "display_data",
          "data": {
            "image/png": "[encoded data removed]",
            "text/plain": [
              "<Figure size 864x864 with 2 Axes>"
            ]
          },
          "metadata": {
            "tags": [],
            "needs_background": "light"
          }
        }
      ]
    },
    {
      "cell_type": "code",
      "metadata": {
        "colab": {
          "base_uri": "https://localhost:8080/",
          "height": 803
        },
        "id": "UvvDXG8P9Rd_",
        "outputId": "fc9e9763-a288-48de-f3c3-e56fc32dad95"
      },
      "source": [
        "plt.figure(figsize=(12,10))\n",
        "\n",
        "plt.subplot(221)\n",
        "sns.distplot(df[df['target']==0].age,kde=True)\n",
        "plt.title('Age of patients without heart disease')\n",
        "\n",
        "plt.subplot(222)\n",
        "sns.distplot(df[df['target']==1].age,kde=True)\n",
        "plt.title('Age of patients with heart disease')\n",
        "\n",
        "plt.subplot(223)\n",
        "sns.distplot(df[df['target']==0].thalach,kde=True)\n",
        "plt.title('Max_Heart_Rate of patients without heart disease')\n",
        "\n",
        "plt.subplot(224)\n",
        "sns.distplot(df[df['target']==1].thalach,kde=True)\n",
        "plt.title('Max_Heart_Rate of patients with heart disease')\n",
        "\n"
      ],
      "execution_count": null,
      "outputs": [
        {
          "output_type": "stream",
          "text": [
            "/usr/local/lib/python3.7/dist-packages/seaborn/distributions.py:2557: FutureWarning: `distplot` is a deprecated function and will be removed in a future version. Please adapt your code to use either `displot` (a figure-level function with similar flexibility) or `histplot` (an axes-level function for histograms).\n",
            "  warnings.warn(msg, FutureWarning)\n",
            "/usr/local/lib/python3.7/dist-packages/seaborn/distributions.py:2557: FutureWarning: `distplot` is a deprecated function and will be removed in a future version. Please adapt your code to use either `displot` (a figure-level function with similar flexibility) or `histplot` (an axes-level function for histograms).\n",
            "  warnings.warn(msg, FutureWarning)\n",
            "/usr/local/lib/python3.7/dist-packages/seaborn/distributions.py:2557: FutureWarning: `distplot` is a deprecated function and will be removed in a future version. Please adapt your code to use either `displot` (a figure-level function with similar flexibility) or `histplot` (an axes-level function for histograms).\n",
            "  warnings.warn(msg, FutureWarning)\n",
            "/usr/local/lib/python3.7/dist-packages/seaborn/distributions.py:2557: FutureWarning: `distplot` is a deprecated function and will be removed in a future version. Please adapt your code to use either `displot` (a figure-level function with similar flexibility) or `histplot` (an axes-level function for histograms).\n",
            "  warnings.warn(msg, FutureWarning)\n"
          ],
          "name": "stderr"
        },
        {
          "output_type": "execute_result",
          "data": {
            "text/plain": [
              "Text(0.5, 1.0, 'Max_Heart_Rate of patients with heart disease')"
            ]
          },
          "metadata": {
            "tags": []
          },
          "execution_count": 37
        },
        {
          "output_type": "display_data",
          "data": {
            "image/png": "[encoded data removed]",
            "text/plain": [
              "<Figure size 864x720 with 4 Axes>"
            ]
          },
          "metadata": {
            "tags": [],
            "needs_background": "light"
          }
        }
      ]
    },
    {
      "cell_type": "code",
      "metadata": {
        "colab": {
          "base_uri": "https://localhost:8080/",
          "height": 357
        },
        "id": "zV_GICeDBw20",
        "outputId": "6384b649-8582-4471-fb92-29f996d65c7f"
      },
      "source": [
        "sns.barplot(df[\"cp\"],df['target'])"
      ],
      "execution_count": null,
      "outputs": [
        {
          "output_type": "stream",
          "text": [
            "/usr/local/lib/python3.7/dist-packages/seaborn/_decorators.py:43: FutureWarning: Pass the following variables as keyword args: x, y. From version 0.12, the only valid positional argument will be `data`, and passing other arguments without an explicit keyword will result in an error or misinterpretation.\n",
            "  FutureWarning\n"
          ],
          "name": "stderr"
        },
        {
          "output_type": "execute_result",
          "data": {
            "text/plain": [
              "<matplotlib.axes._subplots.AxesSubplot at 0x7f481b62c550>"
            ]
          },
          "metadata": {
            "tags": []
          },
          "execution_count": 40
        },
        {
          "output_type": "display_data",
          "data": {
            "image/png": "[encoded data removed]",
            "text/plain": [
              "<Figure size 432x288 with 1 Axes>"
            ]
          },
          "metadata": {
            "tags": [],
            "needs_background": "light"
          }
        }
      ]
    },
    {
      "cell_type": "code",
      "metadata": {
        "colab": {
          "base_uri": "https://localhost:8080/",
          "height": 411
        },
        "id": "0uj127hPFrye",
        "outputId": "19568a60-232e-401b-f756-63381b05f6cc"
      },
      "source": [
        "plt.figure(figsize=(10,6))\n",
        "sns.violinplot(x=\"target\", y=\"thalach\", data=df, inner=None)\n",
        "sns.swarmplot(x=\"target\", y=\"thalach\", data=df, color='w', alpha=0.5)\n"
      ],
      "execution_count": null,
      "outputs": [
        {
          "output_type": "execute_result",
          "data": {
            "text/plain": [
              "<matplotlib.axes._subplots.AxesSubplot at 0x7f481914db50>"
            ]
          },
          "metadata": {
            "tags": []
          },
          "execution_count": 42
        },
        {
          "output_type": "display_data",
          "data": {
            "image/png": "[encoded data removed]",
            "text/plain": [
              "<Figure size 720x432 with 1 Axes>"
            ]
          },
          "metadata": {
            "tags": [],
            "needs_background": "light"
          }
        }
      ]
    },
    {
      "cell_type": "code",
      "metadata": {
        "colab": {
          "base_uri": "https://localhost:8080/",
          "height": 290
        },
        "id": "M-IaPfglGYzk",
        "outputId": "dec1566b-863f-4d8c-f36e-dbae0c50b650"
      },
      "source": [
        "plt.figure(figsize=(8,9))\n",
        "\n",
        "plt.subplot(221)\n",
        "sns.barplot(x=\"exang\", y=\"target\", data=df)\n",
        "plt.legend(['yes = 1', 'no = 0'])\n",
        "plt.subplot(222)\n",
        "sns.countplot(x=\"slope\", hue='target', data=df)\n",
        "plt.show()\n"
      ],
      "execution_count": null,
      "outputs": [
        {
          "output_type": "display_data",
          "data": {
            "image/png": "[encoded data removed]",
            "text/plain": [
              "<Figure size 576x648 with 2 Axes>"
            ]
          },
          "metadata": {
            "tags": [],
            "needs_background": "light"
          }
        }
      ]
    },
    {
      "cell_type": "code",
      "metadata": {
        "colab": {
          "base_uri": "https://localhost:8080/"
        },
        "id": "0Mi-R6jwWdLl",
        "outputId": "ad08c659-0354-402c-cd73-7121aa4fa0c0"
      },
      "source": [
        "df['cp'].value_counts()"
      ],
      "execution_count": null,
      "outputs": [
        {
          "output_type": "execute_result",
          "data": {
            "text/plain": [
              "0    143\n",
              "2     87\n",
              "1     50\n",
              "3     23\n",
              "Name: cp, dtype: int64"
            ]
          },
          "metadata": {
            "tags": []
          },
          "execution_count": 104
        }
      ]
    },
    {
      "cell_type": "code",
      "metadata": {
        "colab": {
          "base_uri": "https://localhost:8080/",
          "height": 357
        },
        "id": "EQLHJr-jVy6R",
        "outputId": "7e5b1386-0ce1-4082-c820-5da7c0d21cf8"
      },
      "source": [
        "plt.figure(figsize=(6,5))\n",
        "sns.countplot(x=df['target'],hue='cp',data=df)"
      ],
      "execution_count": null,
      "outputs": [
        {
          "output_type": "execute_result",
          "data": {
            "text/plain": [
              "<matplotlib.axes._subplots.AxesSubplot at 0x7f48127055d0>"
            ]
          },
          "metadata": {
            "tags": []
          },
          "execution_count": 101
        },
        {
          "output_type": "display_data",
          "data": {
            "image/png": "[encoded data removed]",
            "text/plain": [
              "<Figure size 432x360 with 1 Axes>"
            ]
          },
          "metadata": {
            "tags": [],
            "needs_background": "light"
          }
        }
      ]
    },
    {
      "cell_type": "code",
      "metadata": {
        "colab": {
          "base_uri": "https://localhost:8080/",
          "height": 303
        },
        "id": "Bk7Of4iqXBds",
        "outputId": "c8ea9394-67a9-42a6-e82b-e21e5db70272"
      },
      "source": [
        "sns.countplot(x=df['sex'],hue='cp',data=df)"
      ],
      "execution_count": null,
      "outputs": [
        {
          "output_type": "execute_result",
          "data": {
            "text/plain": [
              "<matplotlib.axes._subplots.AxesSubplot at 0x7f481268d8d0>"
            ]
          },
          "metadata": {
            "tags": []
          },
          "execution_count": 105
        },
        {
          "output_type": "display_data",
          "data": {
            "image/png": "[encoded data removed]",
            "text/plain": [
              "<Figure size 432x288 with 1 Axes>"
            ]
          },
          "metadata": {
            "tags": [],
            "needs_background": "light"
          }
        }
      ]
    },
    {
      "cell_type": "code",
      "metadata": {
        "colab": {
          "base_uri": "https://localhost:8080/",
          "height": 303
        },
        "id": "FjlCHsCBXjdu",
        "outputId": "86fb7add-edbf-4a7b-9eb5-26abc1320529"
      },
      "source": [
        "sns.barplot(x=df['sex'],y=df['oldpeak'],hue='cp',data=df)"
      ],
      "execution_count": null,
      "outputs": [
        {
          "output_type": "execute_result",
          "data": {
            "text/plain": [
              "<matplotlib.axes._subplots.AxesSubplot at 0x7f4812610490>"
            ]
          },
          "metadata": {
            "tags": []
          },
          "execution_count": 106
        },
        {
          "output_type": "display_data",
          "data": {
            "image/png": "[encoded data removed]",
            "text/plain": [
              "<Figure size 432x288 with 1 Axes>"
            ]
          },
          "metadata": {
            "tags": [],
            "needs_background": "light"
          }
        }
      ]
    },
    {
      "cell_type": "code",
      "metadata": {
        "colab": {
          "base_uri": "https://localhost:8080/",
          "height": 303
        },
        "id": "xk9vg11HYDGC",
        "outputId": "85538884-a196-4d86-de3d-01111a96d29c"
      },
      "source": [
        "sns.barplot(x=df['fbs'],y=df['chol'],hue='cp',data=df)"
      ],
      "execution_count": null,
      "outputs": [
        {
          "output_type": "execute_result",
          "data": {
            "text/plain": [
              "<matplotlib.axes._subplots.AxesSubplot at 0x7f48124cd450>"
            ]
          },
          "metadata": {
            "tags": []
          },
          "execution_count": 111
        },
        {
          "output_type": "display_data",
          "data": {
            "image/png": "[encoded data removed]",
            "text/plain": [
              "<Figure size 432x288 with 1 Axes>"
            ]
          },
          "metadata": {
            "tags": [],
            "needs_background": "light"
          }
        }
      ]
    },
    {
      "cell_type": "code",
      "metadata": {
        "colab": {
          "base_uri": "https://localhost:8080/",
          "height": 303
        },
        "id": "f5xW7HrVZd3H",
        "outputId": "2258072e-a1a1-482e-8fde-c8145ad87434"
      },
      "source": [
        "sns.barplot(x=df['target'],y=df['exang'],data=df)"
      ],
      "execution_count": null,
      "outputs": [
        {
          "output_type": "execute_result",
          "data": {
            "text/plain": [
              "<matplotlib.axes._subplots.AxesSubplot at 0x7f4812466b90>"
            ]
          },
          "metadata": {
            "tags": []
          },
          "execution_count": 112
        },
        {
          "output_type": "display_data",
          "data": {
            "image/png": "[encoded data removed]",
            "text/plain": [
              "<Figure size 432x288 with 1 Axes>"
            ]
          },
          "metadata": {
            "tags": [],
            "needs_background": "light"
          }
        }
      ]
    },
    {
      "cell_type": "code",
      "metadata": {
        "colab": {
          "base_uri": "https://localhost:8080/",
          "height": 303
        },
        "id": "LdTyniHyZ_5v",
        "outputId": "c88a972f-b40f-4fb4-a8b4-fd84237eb53c"
      },
      "source": [
        "sns.barplot(x=df['sex'],y=df['exang'],data=df)"
      ],
      "execution_count": null,
      "outputs": [
        {
          "output_type": "execute_result",
          "data": {
            "text/plain": [
              "<matplotlib.axes._subplots.AxesSubplot at 0x7f481242cf50>"
            ]
          },
          "metadata": {
            "tags": []
          },
          "execution_count": 113
        },
        {
          "output_type": "display_data",
          "data": {
            "image/png": "[encoded data removed]",
            "text/plain": [
              "<Figure size 432x288 with 1 Axes>"
            ]
          },
          "metadata": {
            "tags": [],
            "needs_background": "light"
          }
        }
      ]
    },
    {
      "cell_type": "code",
      "metadata": {
        "colab": {
          "base_uri": "https://localhost:8080/"
        },
        "id": "kP0MSVR0KX3O",
        "outputId": "3bba310c-dd92-4df7-f005-0f10035dd0d7"
      },
      "source": [
        "df.columns"
      ],
      "execution_count": null,
      "outputs": [
        {
          "output_type": "execute_result",
          "data": {
            "text/plain": [
              "Index(['age', 'sex', 'cp', 'trestbps', 'chol', 'fbs', 'restecg', 'thalach',\n",
              "       'exang', 'oldpeak', 'slope', 'ca', 'thal', 'target'],\n",
              "      dtype='object')"
            ]
          },
          "metadata": {
            "tags": []
          },
          "execution_count": 114
        }
      ]
    },
    {
      "cell_type": "code",
      "metadata": {
        "id": "CSOx5bUpHMkM"
      },
      "source": [
        "X = df.iloc[:,:-1].values\n",
        "y = df.iloc[:,-1].values"
      ],
      "execution_count": null,
      "outputs": []
    },
    {
      "cell_type": "code",
      "metadata": {
        "colab": {
          "base_uri": "https://localhost:8080/"
        },
        "id": "I7LAklxrILkE",
        "outputId": "1884be43-27d3-4531-c96b-7f3fcee15812"
      },
      "source": [
        "X"
      ],
      "execution_count": null,
      "outputs": [
        {
          "output_type": "execute_result",
          "data": {
            "text/plain": [
              "array([[63.,  1.,  3., ...,  0.,  0.,  1.],\n",
              "       [37.,  1.,  2., ...,  0.,  0.,  2.],\n",
              "       [41.,  0.,  1., ...,  2.,  0.,  2.],\n",
              "       ...,\n",
              "       [68.,  1.,  0., ...,  1.,  2.,  3.],\n",
              "       [57.,  1.,  0., ...,  1.,  1.,  3.],\n",
              "       [57.,  0.,  1., ...,  1.,  1.,  2.]])"
            ]
          },
          "metadata": {
            "tags": []
          },
          "execution_count": 117
        }
      ]
    },
    {
      "cell_type": "markdown",
      "metadata": {
        "id": "4uQmFwCZLjUH"
      },
      "source": [
        "**Train,Test,Split the data**"
      ]
    },
    {
      "cell_type": "code",
      "metadata": {
        "id": "5NuQMpJlKtIP"
      },
      "source": [
        "from sklearn.model_selection import train_test_split"
      ],
      "execution_count": null,
      "outputs": []
    },
    {
      "cell_type": "code",
      "metadata": {
        "id": "fohEGep5LttW"
      },
      "source": [
        "X_train,X_test,y_train,y_test = train_test_split(X,y,test_size=0.3,random_state=101)"
      ],
      "execution_count": null,
      "outputs": []
    },
    {
      "cell_type": "code",
      "metadata": {
        "colab": {
          "base_uri": "https://localhost:8080/"
        },
        "id": "Lr2VbC0PL513",
        "outputId": "1e405b63-7a06-4af3-c0bd-7b3a0b1517b6"
      },
      "source": [
        "X_train.shape"
      ],
      "execution_count": null,
      "outputs": [
        {
          "output_type": "execute_result",
          "data": {
            "text/plain": [
              "(212, 13)"
            ]
          },
          "metadata": {
            "tags": []
          },
          "execution_count": 120
        }
      ]
    },
    {
      "cell_type": "code",
      "metadata": {
        "colab": {
          "base_uri": "https://localhost:8080/"
        },
        "id": "v1Nk3u7HMUMN",
        "outputId": "99bee170-3517-4f0a-9334-a0c2e5d127eb"
      },
      "source": [
        "X_test.shape"
      ],
      "execution_count": null,
      "outputs": [
        {
          "output_type": "execute_result",
          "data": {
            "text/plain": [
              "(91, 13)"
            ]
          },
          "metadata": {
            "tags": []
          },
          "execution_count": 121
        }
      ]
    },
    {
      "cell_type": "markdown",
      "metadata": {
        "id": "Og_Sdpd3N4_L"
      },
      "source": [
        "**Preprocessing**"
      ]
    },
    {
      "cell_type": "code",
      "metadata": {
        "id": "lT3JsPyrMY78"
      },
      "source": [
        "from sklearn.preprocessing import StandardScaler"
      ],
      "execution_count": null,
      "outputs": []
    },
    {
      "cell_type": "code",
      "metadata": {
        "id": "kfA5-_RfOAmy"
      },
      "source": [
        "sc = StandardScaler()\n",
        "X_train = sc.fit_transform(X_train)\n",
        "X_test  = sc.transform(X_test)"
      ],
      "execution_count": null,
      "outputs": []
    },
    {
      "cell_type": "markdown",
      "metadata": {
        "id": "zRTCwLxac19o"
      },
      "source": [
        "  ## ***Decision Tree Classifier***"
      ]
    },
    {
      "cell_type": "code",
      "metadata": {
        "id": "SQoTt21QSXns"
      },
      "source": [
        "from sklearn.tree import DecisionTreeClassifier\n",
        "from sklearn import metrics"
      ],
      "execution_count": null,
      "outputs": []
    },
    {
      "cell_type": "code",
      "metadata": {
        "colab": {
          "base_uri": "https://localhost:8080/"
        },
        "id": "KslF9RK3SYHl",
        "outputId": "1a6967e1-9c7b-4632-d357-adc336fc3e53"
      },
      "source": [
        "dtc = DecisionTreeClassifier()\n",
        "dtc.fit(X_train,y_train)"
      ],
      "execution_count": null,
      "outputs": [
        {
          "output_type": "execute_result",
          "data": {
            "text/plain": [
              "DecisionTreeClassifier(ccp_alpha=0.0, class_weight=None, criterion='gini',\n",
              "                       max_depth=None, max_features=None, max_leaf_nodes=None,\n",
              "                       min_impurity_decrease=0.0, min_impurity_split=None,\n",
              "                       min_samples_leaf=1, min_samples_split=2,\n",
              "                       min_weight_fraction_leaf=0.0, presort='deprecated',\n",
              "                       random_state=None, splitter='best')"
            ]
          },
          "metadata": {
            "tags": []
          },
          "execution_count": 137
        }
      ]
    },
    {
      "cell_type": "code",
      "metadata": {
        "id": "up_4VIpTSYU8"
      },
      "source": [
        "y_pred = dtc.predict(X_test)"
      ],
      "execution_count": null,
      "outputs": []
    },
    {
      "cell_type": "code",
      "metadata": {
        "id": "PRVyIlN1RkYt"
      },
      "source": [
        "accuracy_dt = metrics.accuracy_score(y_test,y_pred)"
      ],
      "execution_count": null,
      "outputs": []
    },
    {
      "cell_type": "code",
      "metadata": {
        "colab": {
          "base_uri": "https://localhost:8080/"
        },
        "id": "TDZFQS3DR_ST",
        "outputId": "f8d670a4-d6dd-4dae-bed3-60b12cd2b4f2"
      },
      "source": [
        "accuracy_dt"
      ],
      "execution_count": null,
      "outputs": [
        {
          "output_type": "execute_result",
          "data": {
            "text/plain": [
              "0.8241758241758241"
            ]
          },
          "metadata": {
            "tags": []
          },
          "execution_count": 144
        }
      ]
    },
    {
      "cell_type": "markdown",
      "metadata": {
        "id": "59xMuhQodtj7"
      },
      "source": [
        "**The Decision tree predicted an accuracy of 82%**"
      ]
    },
    {
      "cell_type": "markdown",
      "metadata": {
        "id": "dx3dDterd5df"
      },
      "source": [
        "## ***Random Forest***"
      ]
    },
    {
      "cell_type": "code",
      "metadata": {
        "id": "6rCqYo1NTROU"
      },
      "source": [
        "from sklearn.ensemble import RandomForestClassifier"
      ],
      "execution_count": null,
      "outputs": []
    },
    {
      "cell_type": "code",
      "metadata": {
        "colab": {
          "base_uri": "https://localhost:8080/"
        },
        "id": "vCqjpGgaeZ5p",
        "outputId": "06d9e8be-6114-4894-cfe3-18868f5769ef"
      },
      "source": [
        "rfc = RandomForestClassifier(criterion='entropy')\n",
        "rfc.fit(X_train,y_train)"
      ],
      "execution_count": null,
      "outputs": [
        {
          "output_type": "execute_result",
          "data": {
            "text/plain": [
              "RandomForestClassifier(bootstrap=True, ccp_alpha=0.0, class_weight=None,\n",
              "                       criterion='entropy', max_depth=None, max_features='auto',\n",
              "                       max_leaf_nodes=None, max_samples=None,\n",
              "                       min_impurity_decrease=0.0, min_impurity_split=None,\n",
              "                       min_samples_leaf=1, min_samples_split=2,\n",
              "                       min_weight_fraction_leaf=0.0, n_estimators=100,\n",
              "                       n_jobs=None, oob_score=False, random_state=None,\n",
              "                       verbose=0, warm_start=False)"
            ]
          },
          "metadata": {
            "tags": []
          },
          "execution_count": 193
        }
      ]
    },
    {
      "cell_type": "code",
      "metadata": {
        "id": "E5BVKSk3egwN"
      },
      "source": [
        "y_pred_rfc = rfc.predict(X_test)"
      ],
      "execution_count": null,
      "outputs": []
    },
    {
      "cell_type": "code",
      "metadata": {
        "id": "96v0rDjleo5u"
      },
      "source": [
        "accuracy_rfc = metrics.accuracy_score(y_test,y_pred)"
      ],
      "execution_count": null,
      "outputs": []
    },
    {
      "cell_type": "code",
      "metadata": {
        "colab": {
          "base_uri": "https://localhost:8080/"
        },
        "id": "SOOpGCMqewBC",
        "outputId": "4c03b72d-66e8-4293-c5b3-eaacf6b791e1"
      },
      "source": [
        "accuracy_rfc"
      ],
      "execution_count": null,
      "outputs": [
        {
          "output_type": "execute_result",
          "data": {
            "text/plain": [
              "0.8351648351648352"
            ]
          },
          "metadata": {
            "tags": []
          },
          "execution_count": 196
        }
      ]
    },
    {
      "cell_type": "markdown",
      "metadata": {
        "id": "F9dgwdPwe9xB"
      },
      "source": [
        "**Hyperparameter Tuning**"
      ]
    },
    {
      "cell_type": "code",
      "metadata": {
        "id": "LEagtOKvextB"
      },
      "source": [
        "from sklearn.model_selection import RandomizedSearchCV"
      ],
      "execution_count": null,
      "outputs": []
    },
    {
      "cell_type": "code",
      "metadata": {
        "id": "70l1L1xzfGK-"
      },
      "source": [
        "#Number of trees in random_forest\n",
        "n_estimators = [int(x) for x in np.linspace(start=100,stop=1300,num=12)]\n",
        "#Number of features to consider at every split\n",
        "max_features = ['auto','sqrt']\n",
        "#Maximim number of levels in tree\n",
        "max_depth = [int(x) for x in np.linspace(start=5,stop=100,num=6)]\n",
        "#Minimum number of samples required to split a node\n",
        "min_samples_split = [2,5,10,15,20,25,30,35,40,45,100]\n",
        "#Minimum number of samples required at each leaf node\n",
        "min_samples_leaf = [1,2,5,10,15,20,25,30,35,40,45]\n"
      ],
      "execution_count": null,
      "outputs": []
    },
    {
      "cell_type": "code",
      "metadata": {
        "colab": {
          "base_uri": "https://localhost:8080/"
        },
        "id": "vrPm_05qfJR9",
        "outputId": "68986b96-3b3e-4d6e-9fe4-9d1203b7dbbc"
      },
      "source": [
        "random_grid = {'n_estimators':n_estimators,\n",
        "               'max_features':max_features,\n",
        "               'max_depth':max_depth,\n",
        "               'min_samples_split':min_samples_split,\n",
        "               'min_samples_leaf':min_samples_leaf  \n",
        "              }\n",
        "\n",
        "print(random_grid)"
      ],
      "execution_count": null,
      "outputs": [
        {
          "output_type": "stream",
          "text": [
            "{'n_estimators': [100, 209, 318, 427, 536, 645, 754, 863, 972, 1081, 1190, 1300], 'max_features': ['auto', 'sqrt'], 'max_depth': [5, 24, 43, 62, 81, 100], 'min_samples_split': [2, 5, 10, 15, 20, 25, 30, 35, 40, 45, 100], 'min_samples_leaf': [1, 2, 5, 10, 15, 20, 25, 30, 35, 40, 45]}\n"
          ],
          "name": "stdout"
        }
      ]
    },
    {
      "cell_type": "code",
      "metadata": {
        "id": "q46igsqxfL8S"
      },
      "source": [
        "rf_random = RandomizedSearchCV(estimator=rfc,param_distributions=random_grid,n_iter=50,cv=20,verbose=2,random_state=42,n_jobs=1)"
      ],
      "execution_count": null,
      "outputs": []
    },
    {
      "cell_type": "code",
      "metadata": {
        "colab": {
          "base_uri": "https://localhost:8080/"
        },
        "id": "HlVOWkzbiS5r",
        "outputId": "1ea08751-ccd5-43d3-c58e-dab532083b16"
      },
      "source": [
        "rf_random.fit(X_train,y_train)"
      ],
      "execution_count": null,
      "outputs": [
        {
          "output_type": "stream",
          "text": [
            "Fitting 20 folds for each of 50 candidates, totalling 1000 fits\n",
            "[CV] n_estimators=427, min_samples_split=35, min_samples_leaf=40, max_features=auto, max_depth=100 \n"
          ],
          "name": "stdout"
        },
        {
          "output_type": "stream",
          "text": [
            "[Parallel(n_jobs=1)]: Using backend SequentialBackend with 1 concurrent workers.\n"
          ],
          "name": "stderr"
        },
        {
          "output_type": "stream",
          "text": [
            "[CV]  n_estimators=427, min_samples_split=35, min_samples_leaf=40, max_features=auto, max_depth=100, total=   0.6s\n",
            "[CV] n_estimators=427, min_samples_split=35, min_samples_leaf=40, max_features=auto, max_depth=100 \n"
          ],
          "name": "stdout"
        },
        {
          "output_type": "stream",
          "text": [
            "[Parallel(n_jobs=1)]: Done   1 out of   1 | elapsed:    0.6s remaining:    0.0s\n"
          ],
          "name": "stderr"
        },
        {
          "output_type": "stream",
          "text": [
            "[CV]  n_estimators=427, min_samples_split=35, min_samples_leaf=40, max_features=auto, max_depth=100, total=   0.6s\n",
            "[CV] n_estimators=427, min_samples_split=35, min_samples_leaf=40, max_features=auto, max_depth=100 \n",
            "[CV]  n_estimators=427, min_samples_split=35, min_samples_leaf=40, max_features=auto, max_depth=100, total=   0.6s\n",
            "[CV] n_estimators=427, min_samples_split=35, min_samples_leaf=40, max_features=auto, max_depth=100 \n",
            "[CV]  n_estimators=427, min_samples_split=35, min_samples_leaf=40, max_features=auto, max_depth=100, total=   0.6s\n",
            "[CV] n_estimators=427, min_samples_split=35, min_samples_leaf=40, max_features=auto, max_depth=100 \n",
            "[CV]  n_estimators=427, min_samples_split=35, min_samples_leaf=40, max_features=auto, max_depth=100, total=   0.6s\n",
            "[CV] n_estimators=427, min_samples_split=35, min_samples_leaf=40, max_features=auto, max_depth=100 \n",
            "[CV]  n_estimators=427, min_samples_split=35, min_samples_leaf=40, max_features=auto, max_depth=100, total=   0.6s\n",
            "[CV] n_estimators=427, min_samples_split=35, min_samples_leaf=40, max_features=auto, max_depth=100 \n",
            "[CV]  n_estimators=427, min_samples_split=35, min_samples_leaf=40, max_features=auto, max_depth=100, total=   0.6s\n",
            "[CV] n_estimators=427, min_samples_split=35, min_samples_leaf=40, max_features=auto, max_depth=100 \n",
            "[CV]  n_estimators=427, min_samples_split=35, min_samples_leaf=40, max_features=auto, max_depth=100, total=   0.6s\n",
            "[CV] n_estimators=427, min_samples_split=35, min_samples_leaf=40, max_features=auto, max_depth=100 \n",
            "[CV]  n_estimators=427, min_samples_split=35, min_samples_leaf=40, max_features=auto, max_depth=100, total=   0.6s\n",
            "[CV] n_estimators=427, min_samples_split=35, min_samples_leaf=40, max_features=auto, max_depth=100 \n",
            "[CV]  n_estimators=427, min_samples_split=35, min_samples_leaf=40, max_features=auto, max_depth=100, total=   0.6s\n",
            "[CV] n_estimators=427, min_samples_split=35, min_samples_leaf=40, max_features=auto, max_depth=100 \n",
            "[CV]  n_estimators=427, min_samples_split=35, min_samples_leaf=40, max_features=auto, max_depth=100, total=   0.6s\n",
            "[CV] n_estimators=427, min_samples_split=35, min_samples_leaf=40, max_features=auto, max_depth=100 \n",
            "[CV]  n_estimators=427, min_samples_split=35, min_samples_leaf=40, max_features=auto, max_depth=100, total=   0.6s\n",
            "[CV] n_estimators=427, min_samples_split=35, min_samples_leaf=40, max_features=auto, max_depth=100 \n",
            "[CV]  n_estimators=427, min_samples_split=35, min_samples_leaf=40, max_features=auto, max_depth=100, total=   0.6s\n",
            "[CV] n_estimators=427, min_samples_split=35, min_samples_leaf=40, max_features=auto, max_depth=100 \n",
            "[CV]  n_estimators=427, min_samples_split=35, min_samples_leaf=40, max_features=auto, max_depth=100, total=   0.6s\n",
            "[CV] n_estimators=427, min_samples_split=35, min_samples_leaf=40, max_features=auto, max_depth=100 \n",
            "[CV]  n_estimators=427, min_samples_split=35, min_samples_leaf=40, max_features=auto, max_depth=100, total=   0.6s\n",
            "[CV] n_estimators=427, min_samples_split=35, min_samples_leaf=40, max_features=auto, max_depth=100 \n",
            "[CV]  n_estimators=427, min_samples_split=35, min_samples_leaf=40, max_features=auto, max_depth=100, total=   0.6s\n",
            "[CV] n_estimators=427, min_samples_split=35, min_samples_leaf=40, max_features=auto, max_depth=100 \n",
            "[CV]  n_estimators=427, min_samples_split=35, min_samples_leaf=40, max_features=auto, max_depth=100, total=   0.6s\n",
            "[CV] n_estimators=427, min_samples_split=35, min_samples_leaf=40, max_features=auto, max_depth=100 \n",
            "[CV]  n_estimators=427, min_samples_split=35, min_samples_leaf=40, max_features=auto, max_depth=100, total=   0.6s\n",
            "[CV] n_estimators=427, min_samples_split=35, min_samples_leaf=40, max_features=auto, max_depth=100 \n",
            "[CV]  n_estimators=427, min_samples_split=35, min_samples_leaf=40, max_features=auto, max_depth=100, total=   0.6s\n",
            "[CV] n_estimators=427, min_samples_split=35, min_samples_leaf=40, max_features=auto, max_depth=100 \n",
            "[CV]  n_estimators=427, min_samples_split=35, min_samples_leaf=40, max_features=auto, max_depth=100, total=   0.6s\n",
            "[CV] n_estimators=972, min_samples_split=25, min_samples_leaf=25, max_features=auto, max_depth=5 \n",
            "[CV]  n_estimators=972, min_samples_split=25, min_samples_leaf=25, max_features=auto, max_depth=5, total=   1.3s\n",
            "[CV] n_estimators=972, min_samples_split=25, min_samples_leaf=25, max_features=auto, max_depth=5 \n",
            "[CV]  n_estimators=972, min_samples_split=25, min_samples_leaf=25, max_features=auto, max_depth=5, total=   1.3s\n",
            "[CV] n_estimators=972, min_samples_split=25, min_samples_leaf=25, max_features=auto, max_depth=5 \n",
            "[CV]  n_estimators=972, min_samples_split=25, min_samples_leaf=25, max_features=auto, max_depth=5, total=   1.3s\n",
            "[CV] n_estimators=972, min_samples_split=25, min_samples_leaf=25, max_features=auto, max_depth=5 \n",
            "[CV]  n_estimators=972, min_samples_split=25, min_samples_leaf=25, max_features=auto, max_depth=5, total=   1.3s\n",
            "[CV] n_estimators=972, min_samples_split=25, min_samples_leaf=25, max_features=auto, max_depth=5 \n",
            "[CV]  n_estimators=972, min_samples_split=25, min_samples_leaf=25, max_features=auto, max_depth=5, total=   1.3s\n",
            "[CV] n_estimators=972, min_samples_split=25, min_samples_leaf=25, max_features=auto, max_depth=5 \n",
            "[CV]  n_estimators=972, min_samples_split=25, min_samples_leaf=25, max_features=auto, max_depth=5, total=   1.3s\n",
            "[CV] n_estimators=972, min_samples_split=25, min_samples_leaf=25, max_features=auto, max_depth=5 \n",
            "[CV]  n_estimators=972, min_samples_split=25, min_samples_leaf=25, max_features=auto, max_depth=5, total=   1.3s\n",
            "[CV] n_estimators=972, min_samples_split=25, min_samples_leaf=25, max_features=auto, max_depth=5 \n",
            "[CV]  n_estimators=972, min_samples_split=25, min_samples_leaf=25, max_features=auto, max_depth=5, total=   1.3s\n",
            "[CV] n_estimators=972, min_samples_split=25, min_samples_leaf=25, max_features=auto, max_depth=5 \n",
            "[CV]  n_estimators=972, min_samples_split=25, min_samples_leaf=25, max_features=auto, max_depth=5, total=   1.3s\n",
            "[CV] n_estimators=972, min_samples_split=25, min_samples_leaf=25, max_features=auto, max_depth=5 \n",
            "[CV]  n_estimators=972, min_samples_split=25, min_samples_leaf=25, max_features=auto, max_depth=5, total=   1.3s\n",
            "[CV] n_estimators=972, min_samples_split=25, min_samples_leaf=25, max_features=auto, max_depth=5 \n",
            "[CV]  n_estimators=972, min_samples_split=25, min_samples_leaf=25, max_features=auto, max_depth=5, total=   1.6s\n",
            "[CV] n_estimators=972, min_samples_split=25, min_samples_leaf=25, max_features=auto, max_depth=5 \n",
            "[CV]  n_estimators=972, min_samples_split=25, min_samples_leaf=25, max_features=auto, max_depth=5, total=   1.4s\n",
            "[CV] n_estimators=972, min_samples_split=25, min_samples_leaf=25, max_features=auto, max_depth=5 \n",
            "[CV]  n_estimators=972, min_samples_split=25, min_samples_leaf=25, max_features=auto, max_depth=5, total=   1.3s\n",
            "[CV] n_estimators=972, min_samples_split=25, min_samples_leaf=25, max_features=auto, max_depth=5 \n",
            "[CV]  n_estimators=972, min_samples_split=25, min_samples_leaf=25, max_features=auto, max_depth=5, total=   1.3s\n",
            "[CV] n_estimators=972, min_samples_split=25, min_samples_leaf=25, max_features=auto, max_depth=5 \n",
            "[CV]  n_estimators=972, min_samples_split=25, min_samples_leaf=25, max_features=auto, max_depth=5, total=   1.3s\n",
            "[CV] n_estimators=972, min_samples_split=25, min_samples_leaf=25, max_features=auto, max_depth=5 \n",
            "[CV]  n_estimators=972, min_samples_split=25, min_samples_leaf=25, max_features=auto, max_depth=5, total=   1.4s\n",
            "[CV] n_estimators=972, min_samples_split=25, min_samples_leaf=25, max_features=auto, max_depth=5 \n",
            "[CV]  n_estimators=972, min_samples_split=25, min_samples_leaf=25, max_features=auto, max_depth=5, total=   1.3s\n",
            "[CV] n_estimators=972, min_samples_split=25, min_samples_leaf=25, max_features=auto, max_depth=5 \n",
            "[CV]  n_estimators=972, min_samples_split=25, min_samples_leaf=25, max_features=auto, max_depth=5, total=   1.4s\n",
            "[CV] n_estimators=972, min_samples_split=25, min_samples_leaf=25, max_features=auto, max_depth=5 \n",
            "[CV]  n_estimators=972, min_samples_split=25, min_samples_leaf=25, max_features=auto, max_depth=5, total=   1.4s\n",
            "[CV] n_estimators=972, min_samples_split=25, min_samples_leaf=25, max_features=auto, max_depth=5 \n",
            "[CV]  n_estimators=972, min_samples_split=25, min_samples_leaf=25, max_features=auto, max_depth=5, total=   1.3s\n",
            "[CV] n_estimators=318, min_samples_split=45, min_samples_leaf=30, max_features=sqrt, max_depth=24 \n",
            "[CV]  n_estimators=318, min_samples_split=45, min_samples_leaf=30, max_features=sqrt, max_depth=24, total=   0.4s\n",
            "[CV] n_estimators=318, min_samples_split=45, min_samples_leaf=30, max_features=sqrt, max_depth=24 \n",
            "[CV]  n_estimators=318, min_samples_split=45, min_samples_leaf=30, max_features=sqrt, max_depth=24, total=   0.4s\n",
            "[CV] n_estimators=318, min_samples_split=45, min_samples_leaf=30, max_features=sqrt, max_depth=24 \n",
            "[CV]  n_estimators=318, min_samples_split=45, min_samples_leaf=30, max_features=sqrt, max_depth=24, total=   0.4s\n",
            "[CV] n_estimators=318, min_samples_split=45, min_samples_leaf=30, max_features=sqrt, max_depth=24 \n",
            "[CV]  n_estimators=318, min_samples_split=45, min_samples_leaf=30, max_features=sqrt, max_depth=24, total=   0.4s\n",
            "[CV] n_estimators=318, min_samples_split=45, min_samples_leaf=30, max_features=sqrt, max_depth=24 \n",
            "[CV]  n_estimators=318, min_samples_split=45, min_samples_leaf=30, max_features=sqrt, max_depth=24, total=   0.5s\n",
            "[CV] n_estimators=318, min_samples_split=45, min_samples_leaf=30, max_features=sqrt, max_depth=24 \n",
            "[CV]  n_estimators=318, min_samples_split=45, min_samples_leaf=30, max_features=sqrt, max_depth=24, total=   0.4s\n",
            "[CV] n_estimators=318, min_samples_split=45, min_samples_leaf=30, max_features=sqrt, max_depth=24 \n",
            "[CV]  n_estimators=318, min_samples_split=45, min_samples_leaf=30, max_features=sqrt, max_depth=24, total=   0.4s\n",
            "[CV] n_estimators=318, min_samples_split=45, min_samples_leaf=30, max_features=sqrt, max_depth=24 \n",
            "[CV]  n_estimators=318, min_samples_split=45, min_samples_leaf=30, max_features=sqrt, max_depth=24, total=   0.4s\n",
            "[CV] n_estimators=318, min_samples_split=45, min_samples_leaf=30, max_features=sqrt, max_depth=24 \n",
            "[CV]  n_estimators=318, min_samples_split=45, min_samples_leaf=30, max_features=sqrt, max_depth=24, total=   0.4s\n",
            "[CV] n_estimators=318, min_samples_split=45, min_samples_leaf=30, max_features=sqrt, max_depth=24 \n",
            "[CV]  n_estimators=318, min_samples_split=45, min_samples_leaf=30, max_features=sqrt, max_depth=24, total=   0.4s\n",
            "[CV] n_estimators=318, min_samples_split=45, min_samples_leaf=30, max_features=sqrt, max_depth=24 \n",
            "[CV]  n_estimators=318, min_samples_split=45, min_samples_leaf=30, max_features=sqrt, max_depth=24, total=   0.4s\n",
            "[CV] n_estimators=318, min_samples_split=45, min_samples_leaf=30, max_features=sqrt, max_depth=24 \n",
            "[CV]  n_estimators=318, min_samples_split=45, min_samples_leaf=30, max_features=sqrt, max_depth=24, total=   0.4s\n",
            "[CV] n_estimators=318, min_samples_split=45, min_samples_leaf=30, max_features=sqrt, max_depth=24 \n",
            "[CV]  n_estimators=318, min_samples_split=45, min_samples_leaf=30, max_features=sqrt, max_depth=24, total=   0.4s\n",
            "[CV] n_estimators=318, min_samples_split=45, min_samples_leaf=30, max_features=sqrt, max_depth=24 \n",
            "[CV]  n_estimators=318, min_samples_split=45, min_samples_leaf=30, max_features=sqrt, max_depth=24, total=   0.5s\n",
            "[CV] n_estimators=318, min_samples_split=45, min_samples_leaf=30, max_features=sqrt, max_depth=24 \n",
            "[CV]  n_estimators=318, min_samples_split=45, min_samples_leaf=30, max_features=sqrt, max_depth=24, total=   0.4s\n",
            "[CV] n_estimators=318, min_samples_split=45, min_samples_leaf=30, max_features=sqrt, max_depth=24 \n",
            "[CV]  n_estimators=318, min_samples_split=45, min_samples_leaf=30, max_features=sqrt, max_depth=24, total=   0.5s\n",
            "[CV] n_estimators=318, min_samples_split=45, min_samples_leaf=30, max_features=sqrt, max_depth=24 \n",
            "[CV]  n_estimators=318, min_samples_split=45, min_samples_leaf=30, max_features=sqrt, max_depth=24, total=   0.4s\n",
            "[CV] n_estimators=318, min_samples_split=45, min_samples_leaf=30, max_features=sqrt, max_depth=24 \n",
            "[CV]  n_estimators=318, min_samples_split=45, min_samples_leaf=30, max_features=sqrt, max_depth=24, total=   0.4s\n",
            "[CV] n_estimators=318, min_samples_split=45, min_samples_leaf=30, max_features=sqrt, max_depth=24 \n",
            "[CV]  n_estimators=318, min_samples_split=45, min_samples_leaf=30, max_features=sqrt, max_depth=24, total=   0.4s\n",
            "[CV] n_estimators=318, min_samples_split=45, min_samples_leaf=30, max_features=sqrt, max_depth=24 \n",
            "[CV]  n_estimators=318, min_samples_split=45, min_samples_leaf=30, max_features=sqrt, max_depth=24, total=   0.4s\n",
            "[CV] n_estimators=100, min_samples_split=35, min_samples_leaf=5, max_features=auto, max_depth=81 \n",
            "[CV]  n_estimators=100, min_samples_split=35, min_samples_leaf=5, max_features=auto, max_depth=81, total=   0.1s\n",
            "[CV] n_estimators=100, min_samples_split=35, min_samples_leaf=5, max_features=auto, max_depth=81 \n",
            "[CV]  n_estimators=100, min_samples_split=35, min_samples_leaf=5, max_features=auto, max_depth=81, total=   0.2s\n",
            "[CV] n_estimators=100, min_samples_split=35, min_samples_leaf=5, max_features=auto, max_depth=81 \n",
            "[CV]  n_estimators=100, min_samples_split=35, min_samples_leaf=5, max_features=auto, max_depth=81, total=   0.1s\n",
            "[CV] n_estimators=100, min_samples_split=35, min_samples_leaf=5, max_features=auto, max_depth=81 \n",
            "[CV]  n_estimators=100, min_samples_split=35, min_samples_leaf=5, max_features=auto, max_depth=81, total=   0.1s\n",
            "[CV] n_estimators=100, min_samples_split=35, min_samples_leaf=5, max_features=auto, max_depth=81 \n",
            "[CV]  n_estimators=100, min_samples_split=35, min_samples_leaf=5, max_features=auto, max_depth=81, total=   0.1s\n",
            "[CV] n_estimators=100, min_samples_split=35, min_samples_leaf=5, max_features=auto, max_depth=81 \n",
            "[CV]  n_estimators=100, min_samples_split=35, min_samples_leaf=5, max_features=auto, max_depth=81, total=   0.2s\n",
            "[CV] n_estimators=100, min_samples_split=35, min_samples_leaf=5, max_features=auto, max_depth=81 \n",
            "[CV]  n_estimators=100, min_samples_split=35, min_samples_leaf=5, max_features=auto, max_depth=81, total=   0.1s\n",
            "[CV] n_estimators=100, min_samples_split=35, min_samples_leaf=5, max_features=auto, max_depth=81 \n",
            "[CV]  n_estimators=100, min_samples_split=35, min_samples_leaf=5, max_features=auto, max_depth=81, total=   0.1s\n",
            "[CV] n_estimators=100, min_samples_split=35, min_samples_leaf=5, max_features=auto, max_depth=81 \n",
            "[CV]  n_estimators=100, min_samples_split=35, min_samples_leaf=5, max_features=auto, max_depth=81, total=   0.1s\n",
            "[CV] n_estimators=100, min_samples_split=35, min_samples_leaf=5, max_features=auto, max_depth=81 \n",
            "[CV]  n_estimators=100, min_samples_split=35, min_samples_leaf=5, max_features=auto, max_depth=81, total=   0.1s\n",
            "[CV] n_estimators=100, min_samples_split=35, min_samples_leaf=5, max_features=auto, max_depth=81 \n",
            "[CV]  n_estimators=100, min_samples_split=35, min_samples_leaf=5, max_features=auto, max_depth=81, total=   0.1s\n",
            "[CV] n_estimators=100, min_samples_split=35, min_samples_leaf=5, max_features=auto, max_depth=81 \n",
            "[CV]  n_estimators=100, min_samples_split=35, min_samples_leaf=5, max_features=auto, max_depth=81, total=   0.1s\n",
            "[CV] n_estimators=100, min_samples_split=35, min_samples_leaf=5, max_features=auto, max_depth=81 \n",
            "[CV]  n_estimators=100, min_samples_split=35, min_samples_leaf=5, max_features=auto, max_depth=81, total=   0.1s\n",
            "[CV] n_estimators=100, min_samples_split=35, min_samples_leaf=5, max_features=auto, max_depth=81 \n",
            "[CV]  n_estimators=100, min_samples_split=35, min_samples_leaf=5, max_features=auto, max_depth=81, total=   0.1s\n",
            "[CV] n_estimators=100, min_samples_split=35, min_samples_leaf=5, max_features=auto, max_depth=81 \n",
            "[CV]  n_estimators=100, min_samples_split=35, min_samples_leaf=5, max_features=auto, max_depth=81, total=   0.1s\n",
            "[CV] n_estimators=100, min_samples_split=35, min_samples_leaf=5, max_features=auto, max_depth=81 \n",
            "[CV]  n_estimators=100, min_samples_split=35, min_samples_leaf=5, max_features=auto, max_depth=81, total=   0.2s\n",
            "[CV] n_estimators=100, min_samples_split=35, min_samples_leaf=5, max_features=auto, max_depth=81 \n",
            "[CV]  n_estimators=100, min_samples_split=35, min_samples_leaf=5, max_features=auto, max_depth=81, total=   0.1s\n",
            "[CV] n_estimators=100, min_samples_split=35, min_samples_leaf=5, max_features=auto, max_depth=81 \n",
            "[CV]  n_estimators=100, min_samples_split=35, min_samples_leaf=5, max_features=auto, max_depth=81, total=   0.1s\n",
            "[CV] n_estimators=100, min_samples_split=35, min_samples_leaf=5, max_features=auto, max_depth=81 \n",
            "[CV]  n_estimators=100, min_samples_split=35, min_samples_leaf=5, max_features=auto, max_depth=81, total=   0.1s\n",
            "[CV] n_estimators=100, min_samples_split=35, min_samples_leaf=5, max_features=auto, max_depth=81 \n",
            "[CV]  n_estimators=100, min_samples_split=35, min_samples_leaf=5, max_features=auto, max_depth=81, total=   0.1s\n",
            "[CV] n_estimators=536, min_samples_split=25, min_samples_leaf=35, max_features=sqrt, max_depth=62 \n",
            "[CV]  n_estimators=536, min_samples_split=25, min_samples_leaf=35, max_features=sqrt, max_depth=62, total=   0.7s\n",
            "[CV] n_estimators=536, min_samples_split=25, min_samples_leaf=35, max_features=sqrt, max_depth=62 \n",
            "[CV]  n_estimators=536, min_samples_split=25, min_samples_leaf=35, max_features=sqrt, max_depth=62, total=   0.7s\n",
            "[CV] n_estimators=536, min_samples_split=25, min_samples_leaf=35, max_features=sqrt, max_depth=62 \n",
            "[CV]  n_estimators=536, min_samples_split=25, min_samples_leaf=35, max_features=sqrt, max_depth=62, total=   0.7s\n",
            "[CV] n_estimators=536, min_samples_split=25, min_samples_leaf=35, max_features=sqrt, max_depth=62 \n",
            "[CV]  n_estimators=536, min_samples_split=25, min_samples_leaf=35, max_features=sqrt, max_depth=62, total=   0.7s\n",
            "[CV] n_estimators=536, min_samples_split=25, min_samples_leaf=35, max_features=sqrt, max_depth=62 \n",
            "[CV]  n_estimators=536, min_samples_split=25, min_samples_leaf=35, max_features=sqrt, max_depth=62, total=   0.8s\n",
            "[CV] n_estimators=536, min_samples_split=25, min_samples_leaf=35, max_features=sqrt, max_depth=62 \n",
            "[CV]  n_estimators=536, min_samples_split=25, min_samples_leaf=35, max_features=sqrt, max_depth=62, total=   0.7s\n",
            "[CV] n_estimators=536, min_samples_split=25, min_samples_leaf=35, max_features=sqrt, max_depth=62 \n",
            "[CV]  n_estimators=536, min_samples_split=25, min_samples_leaf=35, max_features=sqrt, max_depth=62, total=   0.7s\n",
            "[CV] n_estimators=536, min_samples_split=25, min_samples_leaf=35, max_features=sqrt, max_depth=62 \n",
            "[CV]  n_estimators=536, min_samples_split=25, min_samples_leaf=35, max_features=sqrt, max_depth=62, total=   0.7s\n",
            "[CV] n_estimators=536, min_samples_split=25, min_samples_leaf=35, max_features=sqrt, max_depth=62 \n",
            "[CV]  n_estimators=536, min_samples_split=25, min_samples_leaf=35, max_features=sqrt, max_depth=62, total=   0.7s\n",
            "[CV] n_estimators=536, min_samples_split=25, min_samples_leaf=35, max_features=sqrt, max_depth=62 \n",
            "[CV]  n_estimators=536, min_samples_split=25, min_samples_leaf=35, max_features=sqrt, max_depth=62, total=   0.7s\n",
            "[CV] n_estimators=536, min_samples_split=25, min_samples_leaf=35, max_features=sqrt, max_depth=62 \n",
            "[CV]  n_estimators=536, min_samples_split=25, min_samples_leaf=35, max_features=sqrt, max_depth=62, total=   0.7s\n",
            "[CV] n_estimators=536, min_samples_split=25, min_samples_leaf=35, max_features=sqrt, max_depth=62 \n",
            "[CV]  n_estimators=536, min_samples_split=25, min_samples_leaf=35, max_features=sqrt, max_depth=62, total=   0.7s\n",
            "[CV] n_estimators=536, min_samples_split=25, min_samples_leaf=35, max_features=sqrt, max_depth=62 \n",
            "[CV]  n_estimators=536, min_samples_split=25, min_samples_leaf=35, max_features=sqrt, max_depth=62, total=   0.7s\n",
            "[CV] n_estimators=536, min_samples_split=25, min_samples_leaf=35, max_features=sqrt, max_depth=62 \n",
            "[CV]  n_estimators=536, min_samples_split=25, min_samples_leaf=35, max_features=sqrt, max_depth=62, total=   0.7s\n",
            "[CV] n_estimators=536, min_samples_split=25, min_samples_leaf=35, max_features=sqrt, max_depth=62 \n",
            "[CV]  n_estimators=536, min_samples_split=25, min_samples_leaf=35, max_features=sqrt, max_depth=62, total=   0.7s\n",
            "[CV] n_estimators=536, min_samples_split=25, min_samples_leaf=35, max_features=sqrt, max_depth=62 \n",
            "[CV]  n_estimators=536, min_samples_split=25, min_samples_leaf=35, max_features=sqrt, max_depth=62, total=   0.7s\n",
            "[CV] n_estimators=536, min_samples_split=25, min_samples_leaf=35, max_features=sqrt, max_depth=62 \n",
            "[CV]  n_estimators=536, min_samples_split=25, min_samples_leaf=35, max_features=sqrt, max_depth=62, total=   0.7s\n",
            "[CV] n_estimators=536, min_samples_split=25, min_samples_leaf=35, max_features=sqrt, max_depth=62 \n",
            "[CV]  n_estimators=536, min_samples_split=25, min_samples_leaf=35, max_features=sqrt, max_depth=62, total=   0.7s\n",
            "[CV] n_estimators=536, min_samples_split=25, min_samples_leaf=35, max_features=sqrt, max_depth=62 \n",
            "[CV]  n_estimators=536, min_samples_split=25, min_samples_leaf=35, max_features=sqrt, max_depth=62, total=   0.7s\n",
            "[CV] n_estimators=536, min_samples_split=25, min_samples_leaf=35, max_features=sqrt, max_depth=62 \n",
            "[CV]  n_estimators=536, min_samples_split=25, min_samples_leaf=35, max_features=sqrt, max_depth=62, total=   0.7s\n",
            "[CV] n_estimators=209, min_samples_split=25, min_samples_leaf=10, max_features=auto, max_depth=43 \n",
            "[CV]  n_estimators=209, min_samples_split=25, min_samples_leaf=10, max_features=auto, max_depth=43, total=   0.3s\n",
            "[CV] n_estimators=209, min_samples_split=25, min_samples_leaf=10, max_features=auto, max_depth=43 \n",
            "[CV]  n_estimators=209, min_samples_split=25, min_samples_leaf=10, max_features=auto, max_depth=43, total=   0.3s\n",
            "[CV] n_estimators=209, min_samples_split=25, min_samples_leaf=10, max_features=auto, max_depth=43 \n",
            "[CV]  n_estimators=209, min_samples_split=25, min_samples_leaf=10, max_features=auto, max_depth=43, total=   0.3s\n",
            "[CV] n_estimators=209, min_samples_split=25, min_samples_leaf=10, max_features=auto, max_depth=43 \n",
            "[CV]  n_estimators=209, min_samples_split=25, min_samples_leaf=10, max_features=auto, max_depth=43, total=   0.3s\n",
            "[CV] n_estimators=209, min_samples_split=25, min_samples_leaf=10, max_features=auto, max_depth=43 \n",
            "[CV]  n_estimators=209, min_samples_split=25, min_samples_leaf=10, max_features=auto, max_depth=43, total=   0.3s\n",
            "[CV] n_estimators=209, min_samples_split=25, min_samples_leaf=10, max_features=auto, max_depth=43 \n",
            "[CV]  n_estimators=209, min_samples_split=25, min_samples_leaf=10, max_features=auto, max_depth=43, total=   0.3s\n",
            "[CV] n_estimators=209, min_samples_split=25, min_samples_leaf=10, max_features=auto, max_depth=43 \n",
            "[CV]  n_estimators=209, min_samples_split=25, min_samples_leaf=10, max_features=auto, max_depth=43, total=   0.3s\n",
            "[CV] n_estimators=209, min_samples_split=25, min_samples_leaf=10, max_features=auto, max_depth=43 \n",
            "[CV]  n_estimators=209, min_samples_split=25, min_samples_leaf=10, max_features=auto, max_depth=43, total=   0.3s\n",
            "[CV] n_estimators=209, min_samples_split=25, min_samples_leaf=10, max_features=auto, max_depth=43 \n",
            "[CV]  n_estimators=209, min_samples_split=25, min_samples_leaf=10, max_features=auto, max_depth=43, total=   0.3s\n",
            "[CV] n_estimators=209, min_samples_split=25, min_samples_leaf=10, max_features=auto, max_depth=43 \n",
            "[CV]  n_estimators=209, min_samples_split=25, min_samples_leaf=10, max_features=auto, max_depth=43, total=   0.3s\n",
            "[CV] n_estimators=209, min_samples_split=25, min_samples_leaf=10, max_features=auto, max_depth=43 \n",
            "[CV]  n_estimators=209, min_samples_split=25, min_samples_leaf=10, max_features=auto, max_depth=43, total=   0.3s\n",
            "[CV] n_estimators=209, min_samples_split=25, min_samples_leaf=10, max_features=auto, max_depth=43 \n",
            "[CV]  n_estimators=209, min_samples_split=25, min_samples_leaf=10, max_features=auto, max_depth=43, total=   0.3s\n",
            "[CV] n_estimators=209, min_samples_split=25, min_samples_leaf=10, max_features=auto, max_depth=43 \n",
            "[CV]  n_estimators=209, min_samples_split=25, min_samples_leaf=10, max_features=auto, max_depth=43, total=   0.3s\n",
            "[CV] n_estimators=209, min_samples_split=25, min_samples_leaf=10, max_features=auto, max_depth=43 \n",
            "[CV]  n_estimators=209, min_samples_split=25, min_samples_leaf=10, max_features=auto, max_depth=43, total=   0.3s\n",
            "[CV] n_estimators=209, min_samples_split=25, min_samples_leaf=10, max_features=auto, max_depth=43 \n",
            "[CV]  n_estimators=209, min_samples_split=25, min_samples_leaf=10, max_features=auto, max_depth=43, total=   0.3s\n",
            "[CV] n_estimators=209, min_samples_split=25, min_samples_leaf=10, max_features=auto, max_depth=43 \n",
            "[CV]  n_estimators=209, min_samples_split=25, min_samples_leaf=10, max_features=auto, max_depth=43, total=   0.3s\n",
            "[CV] n_estimators=209, min_samples_split=25, min_samples_leaf=10, max_features=auto, max_depth=43 \n",
            "[CV]  n_estimators=209, min_samples_split=25, min_samples_leaf=10, max_features=auto, max_depth=43, total=   0.3s\n",
            "[CV] n_estimators=209, min_samples_split=25, min_samples_leaf=10, max_features=auto, max_depth=43 \n",
            "[CV]  n_estimators=209, min_samples_split=25, min_samples_leaf=10, max_features=auto, max_depth=43, total=   0.3s\n",
            "[CV] n_estimators=209, min_samples_split=25, min_samples_leaf=10, max_features=auto, max_depth=43 \n",
            "[CV]  n_estimators=209, min_samples_split=25, min_samples_leaf=10, max_features=auto, max_depth=43, total=   0.3s\n",
            "[CV] n_estimators=209, min_samples_split=25, min_samples_leaf=10, max_features=auto, max_depth=43 \n",
            "[CV]  n_estimators=209, min_samples_split=25, min_samples_leaf=10, max_features=auto, max_depth=43, total=   0.3s\n",
            "[CV] n_estimators=318, min_samples_split=35, min_samples_leaf=25, max_features=sqrt, max_depth=100 \n",
            "[CV]  n_estimators=318, min_samples_split=35, min_samples_leaf=25, max_features=sqrt, max_depth=100, total=   0.4s\n",
            "[CV] n_estimators=318, min_samples_split=35, min_samples_leaf=25, max_features=sqrt, max_depth=100 \n",
            "[CV]  n_estimators=318, min_samples_split=35, min_samples_leaf=25, max_features=sqrt, max_depth=100, total=   0.4s\n",
            "[CV] n_estimators=318, min_samples_split=35, min_samples_leaf=25, max_features=sqrt, max_depth=100 \n",
            "[CV]  n_estimators=318, min_samples_split=35, min_samples_leaf=25, max_features=sqrt, max_depth=100, total=   0.4s\n",
            "[CV] n_estimators=318, min_samples_split=35, min_samples_leaf=25, max_features=sqrt, max_depth=100 \n",
            "[CV]  n_estimators=318, min_samples_split=35, min_samples_leaf=25, max_features=sqrt, max_depth=100, total=   0.5s\n",
            "[CV] n_estimators=318, min_samples_split=35, min_samples_leaf=25, max_features=sqrt, max_depth=100 \n",
            "[CV]  n_estimators=318, min_samples_split=35, min_samples_leaf=25, max_features=sqrt, max_depth=100, total=   0.4s\n",
            "[CV] n_estimators=318, min_samples_split=35, min_samples_leaf=25, max_features=sqrt, max_depth=100 \n",
            "[CV]  n_estimators=318, min_samples_split=35, min_samples_leaf=25, max_features=sqrt, max_depth=100, total=   0.4s\n",
            "[CV] n_estimators=318, min_samples_split=35, min_samples_leaf=25, max_features=sqrt, max_depth=100 \n",
            "[CV]  n_estimators=318, min_samples_split=35, min_samples_leaf=25, max_features=sqrt, max_depth=100, total=   0.4s\n",
            "[CV] n_estimators=318, min_samples_split=35, min_samples_leaf=25, max_features=sqrt, max_depth=100 \n",
            "[CV]  n_estimators=318, min_samples_split=35, min_samples_leaf=25, max_features=sqrt, max_depth=100, total=   0.5s\n",
            "[CV] n_estimators=318, min_samples_split=35, min_samples_leaf=25, max_features=sqrt, max_depth=100 \n",
            "[CV]  n_estimators=318, min_samples_split=35, min_samples_leaf=25, max_features=sqrt, max_depth=100, total=   0.4s\n",
            "[CV] n_estimators=318, min_samples_split=35, min_samples_leaf=25, max_features=sqrt, max_depth=100 \n",
            "[CV]  n_estimators=318, min_samples_split=35, min_samples_leaf=25, max_features=sqrt, max_depth=100, total=   0.4s\n",
            "[CV] n_estimators=318, min_samples_split=35, min_samples_leaf=25, max_features=sqrt, max_depth=100 \n",
            "[CV]  n_estimators=318, min_samples_split=35, min_samples_leaf=25, max_features=sqrt, max_depth=100, total=   0.4s\n",
            "[CV] n_estimators=318, min_samples_split=35, min_samples_leaf=25, max_features=sqrt, max_depth=100 \n",
            "[CV]  n_estimators=318, min_samples_split=35, min_samples_leaf=25, max_features=sqrt, max_depth=100, total=   0.5s\n",
            "[CV] n_estimators=318, min_samples_split=35, min_samples_leaf=25, max_features=sqrt, max_depth=100 \n",
            "[CV]  n_estimators=318, min_samples_split=35, min_samples_leaf=25, max_features=sqrt, max_depth=100, total=   0.4s\n",
            "[CV] n_estimators=318, min_samples_split=35, min_samples_leaf=25, max_features=sqrt, max_depth=100 \n",
            "[CV]  n_estimators=318, min_samples_split=35, min_samples_leaf=25, max_features=sqrt, max_depth=100, total=   0.4s\n",
            "[CV] n_estimators=318, min_samples_split=35, min_samples_leaf=25, max_features=sqrt, max_depth=100 \n",
            "[CV]  n_estimators=318, min_samples_split=35, min_samples_leaf=25, max_features=sqrt, max_depth=100, total=   0.4s\n",
            "[CV] n_estimators=318, min_samples_split=35, min_samples_leaf=25, max_features=sqrt, max_depth=100 \n",
            "[CV]  n_estimators=318, min_samples_split=35, min_samples_leaf=25, max_features=sqrt, max_depth=100, total=   0.4s\n",
            "[CV] n_estimators=318, min_samples_split=35, min_samples_leaf=25, max_features=sqrt, max_depth=100 \n",
            "[CV]  n_estimators=318, min_samples_split=35, min_samples_leaf=25, max_features=sqrt, max_depth=100, total=   0.4s\n",
            "[CV] n_estimators=318, min_samples_split=35, min_samples_leaf=25, max_features=sqrt, max_depth=100 \n",
            "[CV]  n_estimators=318, min_samples_split=35, min_samples_leaf=25, max_features=sqrt, max_depth=100, total=   0.4s\n",
            "[CV] n_estimators=318, min_samples_split=35, min_samples_leaf=25, max_features=sqrt, max_depth=100 \n",
            "[CV]  n_estimators=318, min_samples_split=35, min_samples_leaf=25, max_features=sqrt, max_depth=100, total=   0.4s\n",
            "[CV] n_estimators=318, min_samples_split=35, min_samples_leaf=25, max_features=sqrt, max_depth=100 \n",
            "[CV]  n_estimators=318, min_samples_split=35, min_samples_leaf=25, max_features=sqrt, max_depth=100, total=   0.4s\n",
            "[CV] n_estimators=1190, min_samples_split=25, min_samples_leaf=1, max_features=sqrt, max_depth=24 \n",
            "[CV]  n_estimators=1190, min_samples_split=25, min_samples_leaf=1, max_features=sqrt, max_depth=24, total=   1.7s\n",
            "[CV] n_estimators=1190, min_samples_split=25, min_samples_leaf=1, max_features=sqrt, max_depth=24 \n",
            "[CV]  n_estimators=1190, min_samples_split=25, min_samples_leaf=1, max_features=sqrt, max_depth=24, total=   1.7s\n",
            "[CV] n_estimators=1190, min_samples_split=25, min_samples_leaf=1, max_features=sqrt, max_depth=24 \n",
            "[CV]  n_estimators=1190, min_samples_split=25, min_samples_leaf=1, max_features=sqrt, max_depth=24, total=   1.7s\n",
            "[CV] n_estimators=1190, min_samples_split=25, min_samples_leaf=1, max_features=sqrt, max_depth=24 \n",
            "[CV]  n_estimators=1190, min_samples_split=25, min_samples_leaf=1, max_features=sqrt, max_depth=24, total=   1.7s\n",
            "[CV] n_estimators=1190, min_samples_split=25, min_samples_leaf=1, max_features=sqrt, max_depth=24 \n",
            "[CV]  n_estimators=1190, min_samples_split=25, min_samples_leaf=1, max_features=sqrt, max_depth=24, total=   1.7s\n",
            "[CV] n_estimators=1190, min_samples_split=25, min_samples_leaf=1, max_features=sqrt, max_depth=24 \n",
            "[CV]  n_estimators=1190, min_samples_split=25, min_samples_leaf=1, max_features=sqrt, max_depth=24, total=   1.7s\n",
            "[CV] n_estimators=1190, min_samples_split=25, min_samples_leaf=1, max_features=sqrt, max_depth=24 \n",
            "[CV]  n_estimators=1190, min_samples_split=25, min_samples_leaf=1, max_features=sqrt, max_depth=24, total=   1.7s\n",
            "[CV] n_estimators=1190, min_samples_split=25, min_samples_leaf=1, max_features=sqrt, max_depth=24 \n",
            "[CV]  n_estimators=1190, min_samples_split=25, min_samples_leaf=1, max_features=sqrt, max_depth=24, total=   1.7s\n",
            "[CV] n_estimators=1190, min_samples_split=25, min_samples_leaf=1, max_features=sqrt, max_depth=24 \n",
            "[CV]  n_estimators=1190, min_samples_split=25, min_samples_leaf=1, max_features=sqrt, max_depth=24, total=   1.7s\n",
            "[CV] n_estimators=1190, min_samples_split=25, min_samples_leaf=1, max_features=sqrt, max_depth=24 \n",
            "[CV]  n_estimators=1190, min_samples_split=25, min_samples_leaf=1, max_features=sqrt, max_depth=24, total=   1.7s\n",
            "[CV] n_estimators=1190, min_samples_split=25, min_samples_leaf=1, max_features=sqrt, max_depth=24 \n",
            "[CV]  n_estimators=1190, min_samples_split=25, min_samples_leaf=1, max_features=sqrt, max_depth=24, total=   1.7s\n",
            "[CV] n_estimators=1190, min_samples_split=25, min_samples_leaf=1, max_features=sqrt, max_depth=24 \n",
            "[CV]  n_estimators=1190, min_samples_split=25, min_samples_leaf=1, max_features=sqrt, max_depth=24, total=   1.7s\n",
            "[CV] n_estimators=1190, min_samples_split=25, min_samples_leaf=1, max_features=sqrt, max_depth=24 \n",
            "[CV]  n_estimators=1190, min_samples_split=25, min_samples_leaf=1, max_features=sqrt, max_depth=24, total=   1.7s\n",
            "[CV] n_estimators=1190, min_samples_split=25, min_samples_leaf=1, max_features=sqrt, max_depth=24 \n",
            "[CV]  n_estimators=1190, min_samples_split=25, min_samples_leaf=1, max_features=sqrt, max_depth=24, total=   1.7s\n",
            "[CV] n_estimators=1190, min_samples_split=25, min_samples_leaf=1, max_features=sqrt, max_depth=24 \n",
            "[CV]  n_estimators=1190, min_samples_split=25, min_samples_leaf=1, max_features=sqrt, max_depth=24, total=   1.7s\n",
            "[CV] n_estimators=1190, min_samples_split=25, min_samples_leaf=1, max_features=sqrt, max_depth=24 \n",
            "[CV]  n_estimators=1190, min_samples_split=25, min_samples_leaf=1, max_features=sqrt, max_depth=24, total=   1.7s\n",
            "[CV] n_estimators=1190, min_samples_split=25, min_samples_leaf=1, max_features=sqrt, max_depth=24 \n",
            "[CV]  n_estimators=1190, min_samples_split=25, min_samples_leaf=1, max_features=sqrt, max_depth=24, total=   1.7s\n",
            "[CV] n_estimators=1190, min_samples_split=25, min_samples_leaf=1, max_features=sqrt, max_depth=24 \n",
            "[CV]  n_estimators=1190, min_samples_split=25, min_samples_leaf=1, max_features=sqrt, max_depth=24, total=   1.9s\n",
            "[CV] n_estimators=1190, min_samples_split=25, min_samples_leaf=1, max_features=sqrt, max_depth=24 \n",
            "[CV]  n_estimators=1190, min_samples_split=25, min_samples_leaf=1, max_features=sqrt, max_depth=24, total=   1.7s\n",
            "[CV] n_estimators=1190, min_samples_split=25, min_samples_leaf=1, max_features=sqrt, max_depth=24 \n",
            "[CV]  n_estimators=1190, min_samples_split=25, min_samples_leaf=1, max_features=sqrt, max_depth=24, total=   1.7s\n",
            "[CV] n_estimators=1300, min_samples_split=10, min_samples_leaf=45, max_features=sqrt, max_depth=81 \n",
            "[CV]  n_estimators=1300, min_samples_split=10, min_samples_leaf=45, max_features=sqrt, max_depth=81, total=   1.7s\n",
            "[CV] n_estimators=1300, min_samples_split=10, min_samples_leaf=45, max_features=sqrt, max_depth=81 \n",
            "[CV]  n_estimators=1300, min_samples_split=10, min_samples_leaf=45, max_features=sqrt, max_depth=81, total=   1.7s\n",
            "[CV] n_estimators=1300, min_samples_split=10, min_samples_leaf=45, max_features=sqrt, max_depth=81 \n",
            "[CV]  n_estimators=1300, min_samples_split=10, min_samples_leaf=45, max_features=sqrt, max_depth=81, total=   1.8s\n",
            "[CV] n_estimators=1300, min_samples_split=10, min_samples_leaf=45, max_features=sqrt, max_depth=81 \n",
            "[CV]  n_estimators=1300, min_samples_split=10, min_samples_leaf=45, max_features=sqrt, max_depth=81, total=   1.8s\n",
            "[CV] n_estimators=1300, min_samples_split=10, min_samples_leaf=45, max_features=sqrt, max_depth=81 \n",
            "[CV]  n_estimators=1300, min_samples_split=10, min_samples_leaf=45, max_features=sqrt, max_depth=81, total=   1.7s\n",
            "[CV] n_estimators=1300, min_samples_split=10, min_samples_leaf=45, max_features=sqrt, max_depth=81 \n",
            "[CV]  n_estimators=1300, min_samples_split=10, min_samples_leaf=45, max_features=sqrt, max_depth=81, total=   1.7s\n",
            "[CV] n_estimators=1300, min_samples_split=10, min_samples_leaf=45, max_features=sqrt, max_depth=81 \n",
            "[CV]  n_estimators=1300, min_samples_split=10, min_samples_leaf=45, max_features=sqrt, max_depth=81, total=   1.7s\n",
            "[CV] n_estimators=1300, min_samples_split=10, min_samples_leaf=45, max_features=sqrt, max_depth=81 \n",
            "[CV]  n_estimators=1300, min_samples_split=10, min_samples_leaf=45, max_features=sqrt, max_depth=81, total=   1.8s\n",
            "[CV] n_estimators=1300, min_samples_split=10, min_samples_leaf=45, max_features=sqrt, max_depth=81 \n",
            "[CV]  n_estimators=1300, min_samples_split=10, min_samples_leaf=45, max_features=sqrt, max_depth=81, total=   1.7s\n",
            "[CV] n_estimators=1300, min_samples_split=10, min_samples_leaf=45, max_features=sqrt, max_depth=81 \n",
            "[CV]  n_estimators=1300, min_samples_split=10, min_samples_leaf=45, max_features=sqrt, max_depth=81, total=   1.7s\n",
            "[CV] n_estimators=1300, min_samples_split=10, min_samples_leaf=45, max_features=sqrt, max_depth=81 \n",
            "[CV]  n_estimators=1300, min_samples_split=10, min_samples_leaf=45, max_features=sqrt, max_depth=81, total=   1.7s\n",
            "[CV] n_estimators=1300, min_samples_split=10, min_samples_leaf=45, max_features=sqrt, max_depth=81 \n",
            "[CV]  n_estimators=1300, min_samples_split=10, min_samples_leaf=45, max_features=sqrt, max_depth=81, total=   1.7s\n",
            "[CV] n_estimators=1300, min_samples_split=10, min_samples_leaf=45, max_features=sqrt, max_depth=81 \n",
            "[CV]  n_estimators=1300, min_samples_split=10, min_samples_leaf=45, max_features=sqrt, max_depth=81, total=   1.7s\n",
            "[CV] n_estimators=1300, min_samples_split=10, min_samples_leaf=45, max_features=sqrt, max_depth=81 \n",
            "[CV]  n_estimators=1300, min_samples_split=10, min_samples_leaf=45, max_features=sqrt, max_depth=81, total=   1.7s\n",
            "[CV] n_estimators=1300, min_samples_split=10, min_samples_leaf=45, max_features=sqrt, max_depth=81 \n",
            "[CV]  n_estimators=1300, min_samples_split=10, min_samples_leaf=45, max_features=sqrt, max_depth=81, total=   1.7s\n",
            "[CV] n_estimators=1300, min_samples_split=10, min_samples_leaf=45, max_features=sqrt, max_depth=81 \n",
            "[CV]  n_estimators=1300, min_samples_split=10, min_samples_leaf=45, max_features=sqrt, max_depth=81, total=   1.7s\n",
            "[CV] n_estimators=1300, min_samples_split=10, min_samples_leaf=45, max_features=sqrt, max_depth=81 \n",
            "[CV]  n_estimators=1300, min_samples_split=10, min_samples_leaf=45, max_features=sqrt, max_depth=81, total=   1.8s\n",
            "[CV] n_estimators=1300, min_samples_split=10, min_samples_leaf=45, max_features=sqrt, max_depth=81 \n",
            "[CV]  n_estimators=1300, min_samples_split=10, min_samples_leaf=45, max_features=sqrt, max_depth=81, total=   1.8s\n",
            "[CV] n_estimators=1300, min_samples_split=10, min_samples_leaf=45, max_features=sqrt, max_depth=81 \n",
            "[CV]  n_estimators=1300, min_samples_split=10, min_samples_leaf=45, max_features=sqrt, max_depth=81, total=   1.7s\n",
            "[CV] n_estimators=1300, min_samples_split=10, min_samples_leaf=45, max_features=sqrt, max_depth=81 \n",
            "[CV]  n_estimators=1300, min_samples_split=10, min_samples_leaf=45, max_features=sqrt, max_depth=81, total=   1.7s\n",
            "[CV] n_estimators=1300, min_samples_split=2, min_samples_leaf=40, max_features=sqrt, max_depth=62 \n",
            "[CV]  n_estimators=1300, min_samples_split=2, min_samples_leaf=40, max_features=sqrt, max_depth=62, total=   1.7s\n",
            "[CV] n_estimators=1300, min_samples_split=2, min_samples_leaf=40, max_features=sqrt, max_depth=62 \n",
            "[CV]  n_estimators=1300, min_samples_split=2, min_samples_leaf=40, max_features=sqrt, max_depth=62, total=   1.7s\n",
            "[CV] n_estimators=1300, min_samples_split=2, min_samples_leaf=40, max_features=sqrt, max_depth=62 \n",
            "[CV]  n_estimators=1300, min_samples_split=2, min_samples_leaf=40, max_features=sqrt, max_depth=62, total=   1.8s\n",
            "[CV] n_estimators=1300, min_samples_split=2, min_samples_leaf=40, max_features=sqrt, max_depth=62 \n",
            "[CV]  n_estimators=1300, min_samples_split=2, min_samples_leaf=40, max_features=sqrt, max_depth=62, total=   1.7s\n",
            "[CV] n_estimators=1300, min_samples_split=2, min_samples_leaf=40, max_features=sqrt, max_depth=62 \n",
            "[CV]  n_estimators=1300, min_samples_split=2, min_samples_leaf=40, max_features=sqrt, max_depth=62, total=   1.7s\n",
            "[CV] n_estimators=1300, min_samples_split=2, min_samples_leaf=40, max_features=sqrt, max_depth=62 \n",
            "[CV]  n_estimators=1300, min_samples_split=2, min_samples_leaf=40, max_features=sqrt, max_depth=62, total=   2.0s\n",
            "[CV] n_estimators=1300, min_samples_split=2, min_samples_leaf=40, max_features=sqrt, max_depth=62 \n",
            "[CV]  n_estimators=1300, min_samples_split=2, min_samples_leaf=40, max_features=sqrt, max_depth=62, total=   1.7s\n",
            "[CV] n_estimators=1300, min_samples_split=2, min_samples_leaf=40, max_features=sqrt, max_depth=62 \n",
            "[CV]  n_estimators=1300, min_samples_split=2, min_samples_leaf=40, max_features=sqrt, max_depth=62, total=   1.8s\n",
            "[CV] n_estimators=1300, min_samples_split=2, min_samples_leaf=40, max_features=sqrt, max_depth=62 \n",
            "[CV]  n_estimators=1300, min_samples_split=2, min_samples_leaf=40, max_features=sqrt, max_depth=62, total=   1.7s\n",
            "[CV] n_estimators=1300, min_samples_split=2, min_samples_leaf=40, max_features=sqrt, max_depth=62 \n",
            "[CV]  n_estimators=1300, min_samples_split=2, min_samples_leaf=40, max_features=sqrt, max_depth=62, total=   1.7s\n",
            "[CV] n_estimators=1300, min_samples_split=2, min_samples_leaf=40, max_features=sqrt, max_depth=62 \n",
            "[CV]  n_estimators=1300, min_samples_split=2, min_samples_leaf=40, max_features=sqrt, max_depth=62, total=   1.8s\n",
            "[CV] n_estimators=1300, min_samples_split=2, min_samples_leaf=40, max_features=sqrt, max_depth=62 \n",
            "[CV]  n_estimators=1300, min_samples_split=2, min_samples_leaf=40, max_features=sqrt, max_depth=62, total=   1.8s\n",
            "[CV] n_estimators=1300, min_samples_split=2, min_samples_leaf=40, max_features=sqrt, max_depth=62 \n",
            "[CV]  n_estimators=1300, min_samples_split=2, min_samples_leaf=40, max_features=sqrt, max_depth=62, total=   1.7s\n",
            "[CV] n_estimators=1300, min_samples_split=2, min_samples_leaf=40, max_features=sqrt, max_depth=62 \n",
            "[CV]  n_estimators=1300, min_samples_split=2, min_samples_leaf=40, max_features=sqrt, max_depth=62, total=   1.7s\n",
            "[CV] n_estimators=1300, min_samples_split=2, min_samples_leaf=40, max_features=sqrt, max_depth=62 \n",
            "[CV]  n_estimators=1300, min_samples_split=2, min_samples_leaf=40, max_features=sqrt, max_depth=62, total=   1.8s\n",
            "[CV] n_estimators=1300, min_samples_split=2, min_samples_leaf=40, max_features=sqrt, max_depth=62 \n",
            "[CV]  n_estimators=1300, min_samples_split=2, min_samples_leaf=40, max_features=sqrt, max_depth=62, total=   1.8s\n",
            "[CV] n_estimators=1300, min_samples_split=2, min_samples_leaf=40, max_features=sqrt, max_depth=62 \n",
            "[CV]  n_estimators=1300, min_samples_split=2, min_samples_leaf=40, max_features=sqrt, max_depth=62, total=   1.7s\n",
            "[CV] n_estimators=1300, min_samples_split=2, min_samples_leaf=40, max_features=sqrt, max_depth=62 \n",
            "[CV]  n_estimators=1300, min_samples_split=2, min_samples_leaf=40, max_features=sqrt, max_depth=62, total=   1.7s\n",
            "[CV] n_estimators=1300, min_samples_split=2, min_samples_leaf=40, max_features=sqrt, max_depth=62 \n",
            "[CV]  n_estimators=1300, min_samples_split=2, min_samples_leaf=40, max_features=sqrt, max_depth=62, total=   1.8s\n",
            "[CV] n_estimators=1300, min_samples_split=2, min_samples_leaf=40, max_features=sqrt, max_depth=62 \n",
            "[CV]  n_estimators=1300, min_samples_split=2, min_samples_leaf=40, max_features=sqrt, max_depth=62, total=   1.8s\n",
            "[CV] n_estimators=427, min_samples_split=20, min_samples_leaf=1, max_features=sqrt, max_depth=100 \n",
            "[CV]  n_estimators=427, min_samples_split=20, min_samples_leaf=1, max_features=sqrt, max_depth=100, total=   0.6s\n",
            "[CV] n_estimators=427, min_samples_split=20, min_samples_leaf=1, max_features=sqrt, max_depth=100 \n",
            "[CV]  n_estimators=427, min_samples_split=20, min_samples_leaf=1, max_features=sqrt, max_depth=100, total=   0.6s\n",
            "[CV] n_estimators=427, min_samples_split=20, min_samples_leaf=1, max_features=sqrt, max_depth=100 \n",
            "[CV]  n_estimators=427, min_samples_split=20, min_samples_leaf=1, max_features=sqrt, max_depth=100, total=   0.6s\n",
            "[CV] n_estimators=427, min_samples_split=20, min_samples_leaf=1, max_features=sqrt, max_depth=100 \n",
            "[CV]  n_estimators=427, min_samples_split=20, min_samples_leaf=1, max_features=sqrt, max_depth=100, total=   0.6s\n",
            "[CV] n_estimators=427, min_samples_split=20, min_samples_leaf=1, max_features=sqrt, max_depth=100 \n",
            "[CV]  n_estimators=427, min_samples_split=20, min_samples_leaf=1, max_features=sqrt, max_depth=100, total=   0.6s\n",
            "[CV] n_estimators=427, min_samples_split=20, min_samples_leaf=1, max_features=sqrt, max_depth=100 \n",
            "[CV]  n_estimators=427, min_samples_split=20, min_samples_leaf=1, max_features=sqrt, max_depth=100, total=   0.6s\n",
            "[CV] n_estimators=427, min_samples_split=20, min_samples_leaf=1, max_features=sqrt, max_depth=100 \n",
            "[CV]  n_estimators=427, min_samples_split=20, min_samples_leaf=1, max_features=sqrt, max_depth=100, total=   0.6s\n",
            "[CV] n_estimators=427, min_samples_split=20, min_samples_leaf=1, max_features=sqrt, max_depth=100 \n",
            "[CV]  n_estimators=427, min_samples_split=20, min_samples_leaf=1, max_features=sqrt, max_depth=100, total=   0.6s\n",
            "[CV] n_estimators=427, min_samples_split=20, min_samples_leaf=1, max_features=sqrt, max_depth=100 \n",
            "[CV]  n_estimators=427, min_samples_split=20, min_samples_leaf=1, max_features=sqrt, max_depth=100, total=   0.6s\n",
            "[CV] n_estimators=427, min_samples_split=20, min_samples_leaf=1, max_features=sqrt, max_depth=100 \n",
            "[CV]  n_estimators=427, min_samples_split=20, min_samples_leaf=1, max_features=sqrt, max_depth=100, total=   0.6s\n",
            "[CV] n_estimators=427, min_samples_split=20, min_samples_leaf=1, max_features=sqrt, max_depth=100 \n",
            "[CV]  n_estimators=427, min_samples_split=20, min_samples_leaf=1, max_features=sqrt, max_depth=100, total=   0.6s\n",
            "[CV] n_estimators=427, min_samples_split=20, min_samples_leaf=1, max_features=sqrt, max_depth=100 \n",
            "[CV]  n_estimators=427, min_samples_split=20, min_samples_leaf=1, max_features=sqrt, max_depth=100, total=   0.6s\n",
            "[CV] n_estimators=427, min_samples_split=20, min_samples_leaf=1, max_features=sqrt, max_depth=100 \n",
            "[CV]  n_estimators=427, min_samples_split=20, min_samples_leaf=1, max_features=sqrt, max_depth=100, total=   0.6s\n",
            "[CV] n_estimators=427, min_samples_split=20, min_samples_leaf=1, max_features=sqrt, max_depth=100 \n",
            "[CV]  n_estimators=427, min_samples_split=20, min_samples_leaf=1, max_features=sqrt, max_depth=100, total=   0.6s\n",
            "[CV] n_estimators=427, min_samples_split=20, min_samples_leaf=1, max_features=sqrt, max_depth=100 \n",
            "[CV]  n_estimators=427, min_samples_split=20, min_samples_leaf=1, max_features=sqrt, max_depth=100, total=   0.6s\n",
            "[CV] n_estimators=427, min_samples_split=20, min_samples_leaf=1, max_features=sqrt, max_depth=100 \n",
            "[CV]  n_estimators=427, min_samples_split=20, min_samples_leaf=1, max_features=sqrt, max_depth=100, total=   0.6s\n",
            "[CV] n_estimators=427, min_samples_split=20, min_samples_leaf=1, max_features=sqrt, max_depth=100 \n",
            "[CV]  n_estimators=427, min_samples_split=20, min_samples_leaf=1, max_features=sqrt, max_depth=100, total=   0.6s\n",
            "[CV] n_estimators=427, min_samples_split=20, min_samples_leaf=1, max_features=sqrt, max_depth=100 \n",
            "[CV]  n_estimators=427, min_samples_split=20, min_samples_leaf=1, max_features=sqrt, max_depth=100, total=   0.6s\n",
            "[CV] n_estimators=427, min_samples_split=20, min_samples_leaf=1, max_features=sqrt, max_depth=100 \n",
            "[CV]  n_estimators=427, min_samples_split=20, min_samples_leaf=1, max_features=sqrt, max_depth=100, total=   0.6s\n",
            "[CV] n_estimators=427, min_samples_split=20, min_samples_leaf=1, max_features=sqrt, max_depth=100 \n",
            "[CV]  n_estimators=427, min_samples_split=20, min_samples_leaf=1, max_features=sqrt, max_depth=100, total=   0.6s\n",
            "[CV] n_estimators=754, min_samples_split=2, min_samples_leaf=35, max_features=sqrt, max_depth=43 \n",
            "[CV]  n_estimators=754, min_samples_split=2, min_samples_leaf=35, max_features=sqrt, max_depth=43, total=   1.0s\n",
            "[CV] n_estimators=754, min_samples_split=2, min_samples_leaf=35, max_features=sqrt, max_depth=43 \n",
            "[CV]  n_estimators=754, min_samples_split=2, min_samples_leaf=35, max_features=sqrt, max_depth=43, total=   1.0s\n",
            "[CV] n_estimators=754, min_samples_split=2, min_samples_leaf=35, max_features=sqrt, max_depth=43 \n",
            "[CV]  n_estimators=754, min_samples_split=2, min_samples_leaf=35, max_features=sqrt, max_depth=43, total=   1.0s\n",
            "[CV] n_estimators=754, min_samples_split=2, min_samples_leaf=35, max_features=sqrt, max_depth=43 \n",
            "[CV]  n_estimators=754, min_samples_split=2, min_samples_leaf=35, max_features=sqrt, max_depth=43, total=   1.0s\n",
            "[CV] n_estimators=754, min_samples_split=2, min_samples_leaf=35, max_features=sqrt, max_depth=43 \n",
            "[CV]  n_estimators=754, min_samples_split=2, min_samples_leaf=35, max_features=sqrt, max_depth=43, total=   1.0s\n",
            "[CV] n_estimators=754, min_samples_split=2, min_samples_leaf=35, max_features=sqrt, max_depth=43 \n",
            "[CV]  n_estimators=754, min_samples_split=2, min_samples_leaf=35, max_features=sqrt, max_depth=43, total=   1.1s\n",
            "[CV] n_estimators=754, min_samples_split=2, min_samples_leaf=35, max_features=sqrt, max_depth=43 \n",
            "[CV]  n_estimators=754, min_samples_split=2, min_samples_leaf=35, max_features=sqrt, max_depth=43, total=   1.0s\n",
            "[CV] n_estimators=754, min_samples_split=2, min_samples_leaf=35, max_features=sqrt, max_depth=43 \n",
            "[CV]  n_estimators=754, min_samples_split=2, min_samples_leaf=35, max_features=sqrt, max_depth=43, total=   1.0s\n",
            "[CV] n_estimators=754, min_samples_split=2, min_samples_leaf=35, max_features=sqrt, max_depth=43 \n",
            "[CV]  n_estimators=754, min_samples_split=2, min_samples_leaf=35, max_features=sqrt, max_depth=43, total=   1.0s\n",
            "[CV] n_estimators=754, min_samples_split=2, min_samples_leaf=35, max_features=sqrt, max_depth=43 \n",
            "[CV]  n_estimators=754, min_samples_split=2, min_samples_leaf=35, max_features=sqrt, max_depth=43, total=   1.0s\n",
            "[CV] n_estimators=754, min_samples_split=2, min_samples_leaf=35, max_features=sqrt, max_depth=43 \n",
            "[CV]  n_estimators=754, min_samples_split=2, min_samples_leaf=35, max_features=sqrt, max_depth=43, total=   1.1s\n",
            "[CV] n_estimators=754, min_samples_split=2, min_samples_leaf=35, max_features=sqrt, max_depth=43 \n",
            "[CV]  n_estimators=754, min_samples_split=2, min_samples_leaf=35, max_features=sqrt, max_depth=43, total=   1.1s\n",
            "[CV] n_estimators=754, min_samples_split=2, min_samples_leaf=35, max_features=sqrt, max_depth=43 \n",
            "[CV]  n_estimators=754, min_samples_split=2, min_samples_leaf=35, max_features=sqrt, max_depth=43, total=   1.0s\n",
            "[CV] n_estimators=754, min_samples_split=2, min_samples_leaf=35, max_features=sqrt, max_depth=43 \n",
            "[CV]  n_estimators=754, min_samples_split=2, min_samples_leaf=35, max_features=sqrt, max_depth=43, total=   1.1s\n",
            "[CV] n_estimators=754, min_samples_split=2, min_samples_leaf=35, max_features=sqrt, max_depth=43 \n",
            "[CV]  n_estimators=754, min_samples_split=2, min_samples_leaf=35, max_features=sqrt, max_depth=43, total=   1.1s\n",
            "[CV] n_estimators=754, min_samples_split=2, min_samples_leaf=35, max_features=sqrt, max_depth=43 \n",
            "[CV]  n_estimators=754, min_samples_split=2, min_samples_leaf=35, max_features=sqrt, max_depth=43, total=   1.0s\n",
            "[CV] n_estimators=754, min_samples_split=2, min_samples_leaf=35, max_features=sqrt, max_depth=43 \n",
            "[CV]  n_estimators=754, min_samples_split=2, min_samples_leaf=35, max_features=sqrt, max_depth=43, total=   1.0s\n",
            "[CV] n_estimators=754, min_samples_split=2, min_samples_leaf=35, max_features=sqrt, max_depth=43 \n",
            "[CV]  n_estimators=754, min_samples_split=2, min_samples_leaf=35, max_features=sqrt, max_depth=43, total=   1.0s\n",
            "[CV] n_estimators=754, min_samples_split=2, min_samples_leaf=35, max_features=sqrt, max_depth=43 \n",
            "[CV]  n_estimators=754, min_samples_split=2, min_samples_leaf=35, max_features=sqrt, max_depth=43, total=   1.0s\n",
            "[CV] n_estimators=754, min_samples_split=2, min_samples_leaf=35, max_features=sqrt, max_depth=43 \n",
            "[CV]  n_estimators=754, min_samples_split=2, min_samples_leaf=35, max_features=sqrt, max_depth=43, total=   1.0s\n",
            "[CV] n_estimators=645, min_samples_split=40, min_samples_leaf=2, max_features=sqrt, max_depth=5 \n",
            "[CV]  n_estimators=645, min_samples_split=40, min_samples_leaf=2, max_features=sqrt, max_depth=5, total=   0.9s\n",
            "[CV] n_estimators=645, min_samples_split=40, min_samples_leaf=2, max_features=sqrt, max_depth=5 \n",
            "[CV]  n_estimators=645, min_samples_split=40, min_samples_leaf=2, max_features=sqrt, max_depth=5, total=   0.9s\n",
            "[CV] n_estimators=645, min_samples_split=40, min_samples_leaf=2, max_features=sqrt, max_depth=5 \n",
            "[CV]  n_estimators=645, min_samples_split=40, min_samples_leaf=2, max_features=sqrt, max_depth=5, total=   0.9s\n",
            "[CV] n_estimators=645, min_samples_split=40, min_samples_leaf=2, max_features=sqrt, max_depth=5 \n",
            "[CV]  n_estimators=645, min_samples_split=40, min_samples_leaf=2, max_features=sqrt, max_depth=5, total=   0.9s\n",
            "[CV] n_estimators=645, min_samples_split=40, min_samples_leaf=2, max_features=sqrt, max_depth=5 \n",
            "[CV]  n_estimators=645, min_samples_split=40, min_samples_leaf=2, max_features=sqrt, max_depth=5, total=   0.9s\n",
            "[CV] n_estimators=645, min_samples_split=40, min_samples_leaf=2, max_features=sqrt, max_depth=5 \n",
            "[CV]  n_estimators=645, min_samples_split=40, min_samples_leaf=2, max_features=sqrt, max_depth=5, total=   0.9s\n",
            "[CV] n_estimators=645, min_samples_split=40, min_samples_leaf=2, max_features=sqrt, max_depth=5 \n",
            "[CV]  n_estimators=645, min_samples_split=40, min_samples_leaf=2, max_features=sqrt, max_depth=5, total=   0.9s\n",
            "[CV] n_estimators=645, min_samples_split=40, min_samples_leaf=2, max_features=sqrt, max_depth=5 \n",
            "[CV]  n_estimators=645, min_samples_split=40, min_samples_leaf=2, max_features=sqrt, max_depth=5, total=   0.9s\n",
            "[CV] n_estimators=645, min_samples_split=40, min_samples_leaf=2, max_features=sqrt, max_depth=5 \n",
            "[CV]  n_estimators=645, min_samples_split=40, min_samples_leaf=2, max_features=sqrt, max_depth=5, total=   0.9s\n",
            "[CV] n_estimators=645, min_samples_split=40, min_samples_leaf=2, max_features=sqrt, max_depth=5 \n",
            "[CV]  n_estimators=645, min_samples_split=40, min_samples_leaf=2, max_features=sqrt, max_depth=5, total=   0.9s\n",
            "[CV] n_estimators=645, min_samples_split=40, min_samples_leaf=2, max_features=sqrt, max_depth=5 \n",
            "[CV]  n_estimators=645, min_samples_split=40, min_samples_leaf=2, max_features=sqrt, max_depth=5, total=   0.9s\n",
            "[CV] n_estimators=645, min_samples_split=40, min_samples_leaf=2, max_features=sqrt, max_depth=5 \n",
            "[CV]  n_estimators=645, min_samples_split=40, min_samples_leaf=2, max_features=sqrt, max_depth=5, total=   0.9s\n",
            "[CV] n_estimators=645, min_samples_split=40, min_samples_leaf=2, max_features=sqrt, max_depth=5 \n",
            "[CV]  n_estimators=645, min_samples_split=40, min_samples_leaf=2, max_features=sqrt, max_depth=5, total=   0.9s\n",
            "[CV] n_estimators=645, min_samples_split=40, min_samples_leaf=2, max_features=sqrt, max_depth=5 \n",
            "[CV]  n_estimators=645, min_samples_split=40, min_samples_leaf=2, max_features=sqrt, max_depth=5, total=   0.9s\n",
            "[CV] n_estimators=645, min_samples_split=40, min_samples_leaf=2, max_features=sqrt, max_depth=5 \n",
            "[CV]  n_estimators=645, min_samples_split=40, min_samples_leaf=2, max_features=sqrt, max_depth=5, total=   0.9s\n",
            "[CV] n_estimators=645, min_samples_split=40, min_samples_leaf=2, max_features=sqrt, max_depth=5 \n",
            "[CV]  n_estimators=645, min_samples_split=40, min_samples_leaf=2, max_features=sqrt, max_depth=5, total=   0.9s\n",
            "[CV] n_estimators=645, min_samples_split=40, min_samples_leaf=2, max_features=sqrt, max_depth=5 \n",
            "[CV]  n_estimators=645, min_samples_split=40, min_samples_leaf=2, max_features=sqrt, max_depth=5, total=   0.9s\n",
            "[CV] n_estimators=645, min_samples_split=40, min_samples_leaf=2, max_features=sqrt, max_depth=5 \n",
            "[CV]  n_estimators=645, min_samples_split=40, min_samples_leaf=2, max_features=sqrt, max_depth=5, total=   0.9s\n",
            "[CV] n_estimators=645, min_samples_split=40, min_samples_leaf=2, max_features=sqrt, max_depth=5 \n",
            "[CV]  n_estimators=645, min_samples_split=40, min_samples_leaf=2, max_features=sqrt, max_depth=5, total=   0.9s\n",
            "[CV] n_estimators=645, min_samples_split=40, min_samples_leaf=2, max_features=sqrt, max_depth=5 \n",
            "[CV]  n_estimators=645, min_samples_split=40, min_samples_leaf=2, max_features=sqrt, max_depth=5, total=   0.9s\n",
            "[CV] n_estimators=209, min_samples_split=45, min_samples_leaf=20, max_features=auto, max_depth=5 \n",
            "[CV]  n_estimators=209, min_samples_split=45, min_samples_leaf=20, max_features=auto, max_depth=5, total=   0.3s\n",
            "[CV] n_estimators=209, min_samples_split=45, min_samples_leaf=20, max_features=auto, max_depth=5 \n",
            "[CV]  n_estimators=209, min_samples_split=45, min_samples_leaf=20, max_features=auto, max_depth=5, total=   0.3s\n",
            "[CV] n_estimators=209, min_samples_split=45, min_samples_leaf=20, max_features=auto, max_depth=5 \n",
            "[CV]  n_estimators=209, min_samples_split=45, min_samples_leaf=20, max_features=auto, max_depth=5, total=   0.3s\n",
            "[CV] n_estimators=209, min_samples_split=45, min_samples_leaf=20, max_features=auto, max_depth=5 \n",
            "[CV]  n_estimators=209, min_samples_split=45, min_samples_leaf=20, max_features=auto, max_depth=5, total=   0.3s\n",
            "[CV] n_estimators=209, min_samples_split=45, min_samples_leaf=20, max_features=auto, max_depth=5 \n",
            "[CV]  n_estimators=209, min_samples_split=45, min_samples_leaf=20, max_features=auto, max_depth=5, total=   0.3s\n",
            "[CV] n_estimators=209, min_samples_split=45, min_samples_leaf=20, max_features=auto, max_depth=5 \n",
            "[CV]  n_estimators=209, min_samples_split=45, min_samples_leaf=20, max_features=auto, max_depth=5, total=   0.3s\n",
            "[CV] n_estimators=209, min_samples_split=45, min_samples_leaf=20, max_features=auto, max_depth=5 \n",
            "[CV]  n_estimators=209, min_samples_split=45, min_samples_leaf=20, max_features=auto, max_depth=5, total=   0.3s\n",
            "[CV] n_estimators=209, min_samples_split=45, min_samples_leaf=20, max_features=auto, max_depth=5 \n",
            "[CV]  n_estimators=209, min_samples_split=45, min_samples_leaf=20, max_features=auto, max_depth=5, total=   0.3s\n",
            "[CV] n_estimators=209, min_samples_split=45, min_samples_leaf=20, max_features=auto, max_depth=5 \n",
            "[CV]  n_estimators=209, min_samples_split=45, min_samples_leaf=20, max_features=auto, max_depth=5, total=   0.3s\n",
            "[CV] n_estimators=209, min_samples_split=45, min_samples_leaf=20, max_features=auto, max_depth=5 \n",
            "[CV]  n_estimators=209, min_samples_split=45, min_samples_leaf=20, max_features=auto, max_depth=5, total=   0.3s\n",
            "[CV] n_estimators=209, min_samples_split=45, min_samples_leaf=20, max_features=auto, max_depth=5 \n",
            "[CV]  n_estimators=209, min_samples_split=45, min_samples_leaf=20, max_features=auto, max_depth=5, total=   0.3s\n",
            "[CV] n_estimators=209, min_samples_split=45, min_samples_leaf=20, max_features=auto, max_depth=5 \n",
            "[CV]  n_estimators=209, min_samples_split=45, min_samples_leaf=20, max_features=auto, max_depth=5, total=   0.3s\n",
            "[CV] n_estimators=209, min_samples_split=45, min_samples_leaf=20, max_features=auto, max_depth=5 \n",
            "[CV]  n_estimators=209, min_samples_split=45, min_samples_leaf=20, max_features=auto, max_depth=5, total=   0.3s\n",
            "[CV] n_estimators=209, min_samples_split=45, min_samples_leaf=20, max_features=auto, max_depth=5 \n",
            "[CV]  n_estimators=209, min_samples_split=45, min_samples_leaf=20, max_features=auto, max_depth=5, total=   0.3s\n",
            "[CV] n_estimators=209, min_samples_split=45, min_samples_leaf=20, max_features=auto, max_depth=5 \n",
            "[CV]  n_estimators=209, min_samples_split=45, min_samples_leaf=20, max_features=auto, max_depth=5, total=   0.3s\n",
            "[CV] n_estimators=209, min_samples_split=45, min_samples_leaf=20, max_features=auto, max_depth=5 \n",
            "[CV]  n_estimators=209, min_samples_split=45, min_samples_leaf=20, max_features=auto, max_depth=5, total=   0.3s\n",
            "[CV] n_estimators=209, min_samples_split=45, min_samples_leaf=20, max_features=auto, max_depth=5 \n",
            "[CV]  n_estimators=209, min_samples_split=45, min_samples_leaf=20, max_features=auto, max_depth=5, total=   0.3s\n",
            "[CV] n_estimators=209, min_samples_split=45, min_samples_leaf=20, max_features=auto, max_depth=5 \n",
            "[CV]  n_estimators=209, min_samples_split=45, min_samples_leaf=20, max_features=auto, max_depth=5, total=   0.3s\n",
            "[CV] n_estimators=209, min_samples_split=45, min_samples_leaf=20, max_features=auto, max_depth=5 \n",
            "[CV]  n_estimators=209, min_samples_split=45, min_samples_leaf=20, max_features=auto, max_depth=5, total=   0.3s\n",
            "[CV] n_estimators=209, min_samples_split=45, min_samples_leaf=20, max_features=auto, max_depth=5 \n",
            "[CV]  n_estimators=209, min_samples_split=45, min_samples_leaf=20, max_features=auto, max_depth=5, total=   0.3s\n",
            "[CV] n_estimators=1081, min_samples_split=20, min_samples_leaf=30, max_features=sqrt, max_depth=5 \n",
            "[CV]  n_estimators=1081, min_samples_split=20, min_samples_leaf=30, max_features=sqrt, max_depth=5, total=   1.5s\n",
            "[CV] n_estimators=1081, min_samples_split=20, min_samples_leaf=30, max_features=sqrt, max_depth=5 \n",
            "[CV]  n_estimators=1081, min_samples_split=20, min_samples_leaf=30, max_features=sqrt, max_depth=5, total=   1.5s\n",
            "[CV] n_estimators=1081, min_samples_split=20, min_samples_leaf=30, max_features=sqrt, max_depth=5 \n",
            "[CV]  n_estimators=1081, min_samples_split=20, min_samples_leaf=30, max_features=sqrt, max_depth=5, total=   1.5s\n",
            "[CV] n_estimators=1081, min_samples_split=20, min_samples_leaf=30, max_features=sqrt, max_depth=5 \n",
            "[CV]  n_estimators=1081, min_samples_split=20, min_samples_leaf=30, max_features=sqrt, max_depth=5, total=   1.5s\n",
            "[CV] n_estimators=1081, min_samples_split=20, min_samples_leaf=30, max_features=sqrt, max_depth=5 \n",
            "[CV]  n_estimators=1081, min_samples_split=20, min_samples_leaf=30, max_features=sqrt, max_depth=5, total=   1.5s\n",
            "[CV] n_estimators=1081, min_samples_split=20, min_samples_leaf=30, max_features=sqrt, max_depth=5 \n",
            "[CV]  n_estimators=1081, min_samples_split=20, min_samples_leaf=30, max_features=sqrt, max_depth=5, total=   1.5s\n",
            "[CV] n_estimators=1081, min_samples_split=20, min_samples_leaf=30, max_features=sqrt, max_depth=5 \n",
            "[CV]  n_estimators=1081, min_samples_split=20, min_samples_leaf=30, max_features=sqrt, max_depth=5, total=   1.5s\n",
            "[CV] n_estimators=1081, min_samples_split=20, min_samples_leaf=30, max_features=sqrt, max_depth=5 \n",
            "[CV]  n_estimators=1081, min_samples_split=20, min_samples_leaf=30, max_features=sqrt, max_depth=5, total=   1.7s\n",
            "[CV] n_estimators=1081, min_samples_split=20, min_samples_leaf=30, max_features=sqrt, max_depth=5 \n",
            "[CV]  n_estimators=1081, min_samples_split=20, min_samples_leaf=30, max_features=sqrt, max_depth=5, total=   1.5s\n",
            "[CV] n_estimators=1081, min_samples_split=20, min_samples_leaf=30, max_features=sqrt, max_depth=5 \n",
            "[CV]  n_estimators=1081, min_samples_split=20, min_samples_leaf=30, max_features=sqrt, max_depth=5, total=   1.5s\n",
            "[CV] n_estimators=1081, min_samples_split=20, min_samples_leaf=30, max_features=sqrt, max_depth=5 \n",
            "[CV]  n_estimators=1081, min_samples_split=20, min_samples_leaf=30, max_features=sqrt, max_depth=5, total=   1.5s\n",
            "[CV] n_estimators=1081, min_samples_split=20, min_samples_leaf=30, max_features=sqrt, max_depth=5 \n",
            "[CV]  n_estimators=1081, min_samples_split=20, min_samples_leaf=30, max_features=sqrt, max_depth=5, total=   1.5s\n",
            "[CV] n_estimators=1081, min_samples_split=20, min_samples_leaf=30, max_features=sqrt, max_depth=5 \n",
            "[CV]  n_estimators=1081, min_samples_split=20, min_samples_leaf=30, max_features=sqrt, max_depth=5, total=   1.4s\n",
            "[CV] n_estimators=1081, min_samples_split=20, min_samples_leaf=30, max_features=sqrt, max_depth=5 \n",
            "[CV]  n_estimators=1081, min_samples_split=20, min_samples_leaf=30, max_features=sqrt, max_depth=5, total=   1.5s\n",
            "[CV] n_estimators=1081, min_samples_split=20, min_samples_leaf=30, max_features=sqrt, max_depth=5 \n",
            "[CV]  n_estimators=1081, min_samples_split=20, min_samples_leaf=30, max_features=sqrt, max_depth=5, total=   1.5s\n",
            "[CV] n_estimators=1081, min_samples_split=20, min_samples_leaf=30, max_features=sqrt, max_depth=5 \n",
            "[CV]  n_estimators=1081, min_samples_split=20, min_samples_leaf=30, max_features=sqrt, max_depth=5, total=   1.5s\n",
            "[CV] n_estimators=1081, min_samples_split=20, min_samples_leaf=30, max_features=sqrt, max_depth=5 \n",
            "[CV]  n_estimators=1081, min_samples_split=20, min_samples_leaf=30, max_features=sqrt, max_depth=5, total=   1.5s\n",
            "[CV] n_estimators=1081, min_samples_split=20, min_samples_leaf=30, max_features=sqrt, max_depth=5 \n",
            "[CV]  n_estimators=1081, min_samples_split=20, min_samples_leaf=30, max_features=sqrt, max_depth=5, total=   1.5s\n",
            "[CV] n_estimators=1081, min_samples_split=20, min_samples_leaf=30, max_features=sqrt, max_depth=5 \n",
            "[CV]  n_estimators=1081, min_samples_split=20, min_samples_leaf=30, max_features=sqrt, max_depth=5, total=   1.5s\n",
            "[CV] n_estimators=1081, min_samples_split=20, min_samples_leaf=30, max_features=sqrt, max_depth=5 \n",
            "[CV]  n_estimators=1081, min_samples_split=20, min_samples_leaf=30, max_features=sqrt, max_depth=5, total=   1.5s\n",
            "[CV] n_estimators=863, min_samples_split=10, min_samples_leaf=30, max_features=sqrt, max_depth=24 \n",
            "[CV]  n_estimators=863, min_samples_split=10, min_samples_leaf=30, max_features=sqrt, max_depth=24, total=   1.2s\n",
            "[CV] n_estimators=863, min_samples_split=10, min_samples_leaf=30, max_features=sqrt, max_depth=24 \n",
            "[CV]  n_estimators=863, min_samples_split=10, min_samples_leaf=30, max_features=sqrt, max_depth=24, total=   1.2s\n",
            "[CV] n_estimators=863, min_samples_split=10, min_samples_leaf=30, max_features=sqrt, max_depth=24 \n",
            "[CV]  n_estimators=863, min_samples_split=10, min_samples_leaf=30, max_features=sqrt, max_depth=24, total=   1.2s\n",
            "[CV] n_estimators=863, min_samples_split=10, min_samples_leaf=30, max_features=sqrt, max_depth=24 \n",
            "[CV]  n_estimators=863, min_samples_split=10, min_samples_leaf=30, max_features=sqrt, max_depth=24, total=   1.2s\n",
            "[CV] n_estimators=863, min_samples_split=10, min_samples_leaf=30, max_features=sqrt, max_depth=24 \n",
            "[CV]  n_estimators=863, min_samples_split=10, min_samples_leaf=30, max_features=sqrt, max_depth=24, total=   1.2s\n",
            "[CV] n_estimators=863, min_samples_split=10, min_samples_leaf=30, max_features=sqrt, max_depth=24 \n",
            "[CV]  n_estimators=863, min_samples_split=10, min_samples_leaf=30, max_features=sqrt, max_depth=24, total=   1.2s\n",
            "[CV] n_estimators=863, min_samples_split=10, min_samples_leaf=30, max_features=sqrt, max_depth=24 \n",
            "[CV]  n_estimators=863, min_samples_split=10, min_samples_leaf=30, max_features=sqrt, max_depth=24, total=   1.2s\n",
            "[CV] n_estimators=863, min_samples_split=10, min_samples_leaf=30, max_features=sqrt, max_depth=24 \n",
            "[CV]  n_estimators=863, min_samples_split=10, min_samples_leaf=30, max_features=sqrt, max_depth=24, total=   1.2s\n",
            "[CV] n_estimators=863, min_samples_split=10, min_samples_leaf=30, max_features=sqrt, max_depth=24 \n",
            "[CV]  n_estimators=863, min_samples_split=10, min_samples_leaf=30, max_features=sqrt, max_depth=24, total=   1.2s\n",
            "[CV] n_estimators=863, min_samples_split=10, min_samples_leaf=30, max_features=sqrt, max_depth=24 \n",
            "[CV]  n_estimators=863, min_samples_split=10, min_samples_leaf=30, max_features=sqrt, max_depth=24, total=   1.2s\n",
            "[CV] n_estimators=863, min_samples_split=10, min_samples_leaf=30, max_features=sqrt, max_depth=24 \n",
            "[CV]  n_estimators=863, min_samples_split=10, min_samples_leaf=30, max_features=sqrt, max_depth=24, total=   1.2s\n",
            "[CV] n_estimators=863, min_samples_split=10, min_samples_leaf=30, max_features=sqrt, max_depth=24 \n",
            "[CV]  n_estimators=863, min_samples_split=10, min_samples_leaf=30, max_features=sqrt, max_depth=24, total=   1.2s\n",
            "[CV] n_estimators=863, min_samples_split=10, min_samples_leaf=30, max_features=sqrt, max_depth=24 \n",
            "[CV]  n_estimators=863, min_samples_split=10, min_samples_leaf=30, max_features=sqrt, max_depth=24, total=   1.2s\n",
            "[CV] n_estimators=863, min_samples_split=10, min_samples_leaf=30, max_features=sqrt, max_depth=24 \n",
            "[CV]  n_estimators=863, min_samples_split=10, min_samples_leaf=30, max_features=sqrt, max_depth=24, total=   1.2s\n",
            "[CV] n_estimators=863, min_samples_split=10, min_samples_leaf=30, max_features=sqrt, max_depth=24 \n",
            "[CV]  n_estimators=863, min_samples_split=10, min_samples_leaf=30, max_features=sqrt, max_depth=24, total=   1.2s\n",
            "[CV] n_estimators=863, min_samples_split=10, min_samples_leaf=30, max_features=sqrt, max_depth=24 \n",
            "[CV]  n_estimators=863, min_samples_split=10, min_samples_leaf=30, max_features=sqrt, max_depth=24, total=   1.2s\n",
            "[CV] n_estimators=863, min_samples_split=10, min_samples_leaf=30, max_features=sqrt, max_depth=24 \n",
            "[CV]  n_estimators=863, min_samples_split=10, min_samples_leaf=30, max_features=sqrt, max_depth=24, total=   1.2s\n",
            "[CV] n_estimators=863, min_samples_split=10, min_samples_leaf=30, max_features=sqrt, max_depth=24 \n",
            "[CV]  n_estimators=863, min_samples_split=10, min_samples_leaf=30, max_features=sqrt, max_depth=24, total=   1.2s\n",
            "[CV] n_estimators=863, min_samples_split=10, min_samples_leaf=30, max_features=sqrt, max_depth=24 \n",
            "[CV]  n_estimators=863, min_samples_split=10, min_samples_leaf=30, max_features=sqrt, max_depth=24, total=   1.2s\n",
            "[CV] n_estimators=863, min_samples_split=10, min_samples_leaf=30, max_features=sqrt, max_depth=24 \n",
            "[CV]  n_estimators=863, min_samples_split=10, min_samples_leaf=30, max_features=sqrt, max_depth=24, total=   1.2s\n",
            "[CV] n_estimators=1300, min_samples_split=10, min_samples_leaf=20, max_features=sqrt, max_depth=24 \n",
            "[CV]  n_estimators=1300, min_samples_split=10, min_samples_leaf=20, max_features=sqrt, max_depth=24, total=   1.8s\n",
            "[CV] n_estimators=1300, min_samples_split=10, min_samples_leaf=20, max_features=sqrt, max_depth=24 \n",
            "[CV]  n_estimators=1300, min_samples_split=10, min_samples_leaf=20, max_features=sqrt, max_depth=24, total=   1.8s\n",
            "[CV] n_estimators=1300, min_samples_split=10, min_samples_leaf=20, max_features=sqrt, max_depth=24 \n",
            "[CV]  n_estimators=1300, min_samples_split=10, min_samples_leaf=20, max_features=sqrt, max_depth=24, total=   1.8s\n",
            "[CV] n_estimators=1300, min_samples_split=10, min_samples_leaf=20, max_features=sqrt, max_depth=24 \n",
            "[CV]  n_estimators=1300, min_samples_split=10, min_samples_leaf=20, max_features=sqrt, max_depth=24, total=   1.8s\n",
            "[CV] n_estimators=1300, min_samples_split=10, min_samples_leaf=20, max_features=sqrt, max_depth=24 \n",
            "[CV]  n_estimators=1300, min_samples_split=10, min_samples_leaf=20, max_features=sqrt, max_depth=24, total=   1.8s\n",
            "[CV] n_estimators=1300, min_samples_split=10, min_samples_leaf=20, max_features=sqrt, max_depth=24 \n",
            "[CV]  n_estimators=1300, min_samples_split=10, min_samples_leaf=20, max_features=sqrt, max_depth=24, total=   1.8s\n",
            "[CV] n_estimators=1300, min_samples_split=10, min_samples_leaf=20, max_features=sqrt, max_depth=24 \n",
            "[CV]  n_estimators=1300, min_samples_split=10, min_samples_leaf=20, max_features=sqrt, max_depth=24, total=   1.8s\n",
            "[CV] n_estimators=1300, min_samples_split=10, min_samples_leaf=20, max_features=sqrt, max_depth=24 \n",
            "[CV]  n_estimators=1300, min_samples_split=10, min_samples_leaf=20, max_features=sqrt, max_depth=24, total=   1.8s\n",
            "[CV] n_estimators=1300, min_samples_split=10, min_samples_leaf=20, max_features=sqrt, max_depth=24 \n",
            "[CV]  n_estimators=1300, min_samples_split=10, min_samples_leaf=20, max_features=sqrt, max_depth=24, total=   1.8s\n",
            "[CV] n_estimators=1300, min_samples_split=10, min_samples_leaf=20, max_features=sqrt, max_depth=24 \n",
            "[CV]  n_estimators=1300, min_samples_split=10, min_samples_leaf=20, max_features=sqrt, max_depth=24, total=   2.0s\n",
            "[CV] n_estimators=1300, min_samples_split=10, min_samples_leaf=20, max_features=sqrt, max_depth=24 \n",
            "[CV]  n_estimators=1300, min_samples_split=10, min_samples_leaf=20, max_features=sqrt, max_depth=24, total=   1.8s\n",
            "[CV] n_estimators=1300, min_samples_split=10, min_samples_leaf=20, max_features=sqrt, max_depth=24 \n",
            "[CV]  n_estimators=1300, min_samples_split=10, min_samples_leaf=20, max_features=sqrt, max_depth=24, total=   1.7s\n",
            "[CV] n_estimators=1300, min_samples_split=10, min_samples_leaf=20, max_features=sqrt, max_depth=24 \n",
            "[CV]  n_estimators=1300, min_samples_split=10, min_samples_leaf=20, max_features=sqrt, max_depth=24, total=   1.8s\n",
            "[CV] n_estimators=1300, min_samples_split=10, min_samples_leaf=20, max_features=sqrt, max_depth=24 \n",
            "[CV]  n_estimators=1300, min_samples_split=10, min_samples_leaf=20, max_features=sqrt, max_depth=24, total=   1.8s\n",
            "[CV] n_estimators=1300, min_samples_split=10, min_samples_leaf=20, max_features=sqrt, max_depth=24 \n",
            "[CV]  n_estimators=1300, min_samples_split=10, min_samples_leaf=20, max_features=sqrt, max_depth=24, total=   1.8s\n",
            "[CV] n_estimators=1300, min_samples_split=10, min_samples_leaf=20, max_features=sqrt, max_depth=24 \n",
            "[CV]  n_estimators=1300, min_samples_split=10, min_samples_leaf=20, max_features=sqrt, max_depth=24, total=   1.8s\n",
            "[CV] n_estimators=1300, min_samples_split=10, min_samples_leaf=20, max_features=sqrt, max_depth=24 \n",
            "[CV]  n_estimators=1300, min_samples_split=10, min_samples_leaf=20, max_features=sqrt, max_depth=24, total=   1.8s\n",
            "[CV] n_estimators=1300, min_samples_split=10, min_samples_leaf=20, max_features=sqrt, max_depth=24 \n",
            "[CV]  n_estimators=1300, min_samples_split=10, min_samples_leaf=20, max_features=sqrt, max_depth=24, total=   1.8s\n",
            "[CV] n_estimators=1300, min_samples_split=10, min_samples_leaf=20, max_features=sqrt, max_depth=24 \n",
            "[CV]  n_estimators=1300, min_samples_split=10, min_samples_leaf=20, max_features=sqrt, max_depth=24, total=   1.8s\n",
            "[CV] n_estimators=1300, min_samples_split=10, min_samples_leaf=20, max_features=sqrt, max_depth=24 \n",
            "[CV]  n_estimators=1300, min_samples_split=10, min_samples_leaf=20, max_features=sqrt, max_depth=24, total=   1.8s\n",
            "[CV] n_estimators=100, min_samples_split=35, min_samples_leaf=15, max_features=auto, max_depth=43 \n",
            "[CV]  n_estimators=100, min_samples_split=35, min_samples_leaf=15, max_features=auto, max_depth=43, total=   0.1s\n",
            "[CV] n_estimators=100, min_samples_split=35, min_samples_leaf=15, max_features=auto, max_depth=43 \n",
            "[CV]  n_estimators=100, min_samples_split=35, min_samples_leaf=15, max_features=auto, max_depth=43, total=   0.1s\n",
            "[CV] n_estimators=100, min_samples_split=35, min_samples_leaf=15, max_features=auto, max_depth=43 \n",
            "[CV]  n_estimators=100, min_samples_split=35, min_samples_leaf=15, max_features=auto, max_depth=43, total=   0.1s\n",
            "[CV] n_estimators=100, min_samples_split=35, min_samples_leaf=15, max_features=auto, max_depth=43 \n",
            "[CV]  n_estimators=100, min_samples_split=35, min_samples_leaf=15, max_features=auto, max_depth=43, total=   0.1s\n",
            "[CV] n_estimators=100, min_samples_split=35, min_samples_leaf=15, max_features=auto, max_depth=43 \n",
            "[CV]  n_estimators=100, min_samples_split=35, min_samples_leaf=15, max_features=auto, max_depth=43, total=   0.1s\n",
            "[CV] n_estimators=100, min_samples_split=35, min_samples_leaf=15, max_features=auto, max_depth=43 \n",
            "[CV]  n_estimators=100, min_samples_split=35, min_samples_leaf=15, max_features=auto, max_depth=43, total=   0.2s\n",
            "[CV] n_estimators=100, min_samples_split=35, min_samples_leaf=15, max_features=auto, max_depth=43 \n",
            "[CV]  n_estimators=100, min_samples_split=35, min_samples_leaf=15, max_features=auto, max_depth=43, total=   0.1s\n",
            "[CV] n_estimators=100, min_samples_split=35, min_samples_leaf=15, max_features=auto, max_depth=43 \n",
            "[CV]  n_estimators=100, min_samples_split=35, min_samples_leaf=15, max_features=auto, max_depth=43, total=   0.2s\n",
            "[CV] n_estimators=100, min_samples_split=35, min_samples_leaf=15, max_features=auto, max_depth=43 \n",
            "[CV]  n_estimators=100, min_samples_split=35, min_samples_leaf=15, max_features=auto, max_depth=43, total=   0.1s\n",
            "[CV] n_estimators=100, min_samples_split=35, min_samples_leaf=15, max_features=auto, max_depth=43 \n",
            "[CV]  n_estimators=100, min_samples_split=35, min_samples_leaf=15, max_features=auto, max_depth=43, total=   0.1s\n",
            "[CV] n_estimators=100, min_samples_split=35, min_samples_leaf=15, max_features=auto, max_depth=43 \n",
            "[CV]  n_estimators=100, min_samples_split=35, min_samples_leaf=15, max_features=auto, max_depth=43, total=   0.1s\n",
            "[CV] n_estimators=100, min_samples_split=35, min_samples_leaf=15, max_features=auto, max_depth=43 \n",
            "[CV]  n_estimators=100, min_samples_split=35, min_samples_leaf=15, max_features=auto, max_depth=43, total=   0.2s\n",
            "[CV] n_estimators=100, min_samples_split=35, min_samples_leaf=15, max_features=auto, max_depth=43 \n",
            "[CV]  n_estimators=100, min_samples_split=35, min_samples_leaf=15, max_features=auto, max_depth=43, total=   0.1s\n",
            "[CV] n_estimators=100, min_samples_split=35, min_samples_leaf=15, max_features=auto, max_depth=43 \n",
            "[CV]  n_estimators=100, min_samples_split=35, min_samples_leaf=15, max_features=auto, max_depth=43, total=   0.1s\n",
            "[CV] n_estimators=100, min_samples_split=35, min_samples_leaf=15, max_features=auto, max_depth=43 \n",
            "[CV]  n_estimators=100, min_samples_split=35, min_samples_leaf=15, max_features=auto, max_depth=43, total=   0.1s\n",
            "[CV] n_estimators=100, min_samples_split=35, min_samples_leaf=15, max_features=auto, max_depth=43 \n",
            "[CV]  n_estimators=100, min_samples_split=35, min_samples_leaf=15, max_features=auto, max_depth=43, total=   0.1s\n",
            "[CV] n_estimators=100, min_samples_split=35, min_samples_leaf=15, max_features=auto, max_depth=43 \n",
            "[CV]  n_estimators=100, min_samples_split=35, min_samples_leaf=15, max_features=auto, max_depth=43, total=   0.1s\n",
            "[CV] n_estimators=100, min_samples_split=35, min_samples_leaf=15, max_features=auto, max_depth=43 \n",
            "[CV]  n_estimators=100, min_samples_split=35, min_samples_leaf=15, max_features=auto, max_depth=43, total=   0.1s\n",
            "[CV] n_estimators=100, min_samples_split=35, min_samples_leaf=15, max_features=auto, max_depth=43 \n",
            "[CV]  n_estimators=100, min_samples_split=35, min_samples_leaf=15, max_features=auto, max_depth=43, total=   0.1s\n",
            "[CV] n_estimators=100, min_samples_split=35, min_samples_leaf=15, max_features=auto, max_depth=43 \n",
            "[CV]  n_estimators=100, min_samples_split=35, min_samples_leaf=15, max_features=auto, max_depth=43, total=   0.1s\n",
            "[CV] n_estimators=100, min_samples_split=25, min_samples_leaf=15, max_features=auto, max_depth=43 \n",
            "[CV]  n_estimators=100, min_samples_split=25, min_samples_leaf=15, max_features=auto, max_depth=43, total=   0.1s\n",
            "[CV] n_estimators=100, min_samples_split=25, min_samples_leaf=15, max_features=auto, max_depth=43 \n",
            "[CV]  n_estimators=100, min_samples_split=25, min_samples_leaf=15, max_features=auto, max_depth=43, total=   0.2s\n",
            "[CV] n_estimators=100, min_samples_split=25, min_samples_leaf=15, max_features=auto, max_depth=43 \n",
            "[CV]  n_estimators=100, min_samples_split=25, min_samples_leaf=15, max_features=auto, max_depth=43, total=   0.1s\n",
            "[CV] n_estimators=100, min_samples_split=25, min_samples_leaf=15, max_features=auto, max_depth=43 \n",
            "[CV]  n_estimators=100, min_samples_split=25, min_samples_leaf=15, max_features=auto, max_depth=43, total=   0.2s\n",
            "[CV] n_estimators=100, min_samples_split=25, min_samples_leaf=15, max_features=auto, max_depth=43 \n",
            "[CV]  n_estimators=100, min_samples_split=25, min_samples_leaf=15, max_features=auto, max_depth=43, total=   0.1s\n",
            "[CV] n_estimators=100, min_samples_split=25, min_samples_leaf=15, max_features=auto, max_depth=43 \n",
            "[CV]  n_estimators=100, min_samples_split=25, min_samples_leaf=15, max_features=auto, max_depth=43, total=   0.1s\n",
            "[CV] n_estimators=100, min_samples_split=25, min_samples_leaf=15, max_features=auto, max_depth=43 \n",
            "[CV]  n_estimators=100, min_samples_split=25, min_samples_leaf=15, max_features=auto, max_depth=43, total=   0.1s\n",
            "[CV] n_estimators=100, min_samples_split=25, min_samples_leaf=15, max_features=auto, max_depth=43 \n",
            "[CV]  n_estimators=100, min_samples_split=25, min_samples_leaf=15, max_features=auto, max_depth=43, total=   0.2s\n",
            "[CV] n_estimators=100, min_samples_split=25, min_samples_leaf=15, max_features=auto, max_depth=43 \n",
            "[CV]  n_estimators=100, min_samples_split=25, min_samples_leaf=15, max_features=auto, max_depth=43, total=   0.1s\n",
            "[CV] n_estimators=100, min_samples_split=25, min_samples_leaf=15, max_features=auto, max_depth=43 \n",
            "[CV]  n_estimators=100, min_samples_split=25, min_samples_leaf=15, max_features=auto, max_depth=43, total=   0.1s\n",
            "[CV] n_estimators=100, min_samples_split=25, min_samples_leaf=15, max_features=auto, max_depth=43 \n",
            "[CV]  n_estimators=100, min_samples_split=25, min_samples_leaf=15, max_features=auto, max_depth=43, total=   0.1s\n",
            "[CV] n_estimators=100, min_samples_split=25, min_samples_leaf=15, max_features=auto, max_depth=43 \n",
            "[CV]  n_estimators=100, min_samples_split=25, min_samples_leaf=15, max_features=auto, max_depth=43, total=   0.1s\n",
            "[CV] n_estimators=100, min_samples_split=25, min_samples_leaf=15, max_features=auto, max_depth=43 \n",
            "[CV]  n_estimators=100, min_samples_split=25, min_samples_leaf=15, max_features=auto, max_depth=43, total=   0.1s\n",
            "[CV] n_estimators=100, min_samples_split=25, min_samples_leaf=15, max_features=auto, max_depth=43 \n",
            "[CV]  n_estimators=100, min_samples_split=25, min_samples_leaf=15, max_features=auto, max_depth=43, total=   0.2s\n",
            "[CV] n_estimators=100, min_samples_split=25, min_samples_leaf=15, max_features=auto, max_depth=43 \n",
            "[CV]  n_estimators=100, min_samples_split=25, min_samples_leaf=15, max_features=auto, max_depth=43, total=   0.1s\n",
            "[CV] n_estimators=100, min_samples_split=25, min_samples_leaf=15, max_features=auto, max_depth=43 \n",
            "[CV]  n_estimators=100, min_samples_split=25, min_samples_leaf=15, max_features=auto, max_depth=43, total=   0.2s\n",
            "[CV] n_estimators=100, min_samples_split=25, min_samples_leaf=15, max_features=auto, max_depth=43 \n",
            "[CV]  n_estimators=100, min_samples_split=25, min_samples_leaf=15, max_features=auto, max_depth=43, total=   0.1s\n",
            "[CV] n_estimators=100, min_samples_split=25, min_samples_leaf=15, max_features=auto, max_depth=43 \n",
            "[CV]  n_estimators=100, min_samples_split=25, min_samples_leaf=15, max_features=auto, max_depth=43, total=   0.2s\n",
            "[CV] n_estimators=100, min_samples_split=25, min_samples_leaf=15, max_features=auto, max_depth=43 \n",
            "[CV]  n_estimators=100, min_samples_split=25, min_samples_leaf=15, max_features=auto, max_depth=43, total=   0.1s\n",
            "[CV] n_estimators=100, min_samples_split=25, min_samples_leaf=15, max_features=auto, max_depth=43 \n",
            "[CV]  n_estimators=100, min_samples_split=25, min_samples_leaf=15, max_features=auto, max_depth=43, total=   0.1s\n",
            "[CV] n_estimators=318, min_samples_split=35, min_samples_leaf=45, max_features=sqrt, max_depth=43 \n",
            "[CV]  n_estimators=318, min_samples_split=35, min_samples_leaf=45, max_features=sqrt, max_depth=43, total=   0.4s\n",
            "[CV] n_estimators=318, min_samples_split=35, min_samples_leaf=45, max_features=sqrt, max_depth=43 \n",
            "[CV]  n_estimators=318, min_samples_split=35, min_samples_leaf=45, max_features=sqrt, max_depth=43, total=   0.4s\n",
            "[CV] n_estimators=318, min_samples_split=35, min_samples_leaf=45, max_features=sqrt, max_depth=43 \n",
            "[CV]  n_estimators=318, min_samples_split=35, min_samples_leaf=45, max_features=sqrt, max_depth=43, total=   0.4s\n",
            "[CV] n_estimators=318, min_samples_split=35, min_samples_leaf=45, max_features=sqrt, max_depth=43 \n",
            "[CV]  n_estimators=318, min_samples_split=35, min_samples_leaf=45, max_features=sqrt, max_depth=43, total=   0.4s\n",
            "[CV] n_estimators=318, min_samples_split=35, min_samples_leaf=45, max_features=sqrt, max_depth=43 \n",
            "[CV]  n_estimators=318, min_samples_split=35, min_samples_leaf=45, max_features=sqrt, max_depth=43, total=   0.4s\n",
            "[CV] n_estimators=318, min_samples_split=35, min_samples_leaf=45, max_features=sqrt, max_depth=43 \n",
            "[CV]  n_estimators=318, min_samples_split=35, min_samples_leaf=45, max_features=sqrt, max_depth=43, total=   0.4s\n",
            "[CV] n_estimators=318, min_samples_split=35, min_samples_leaf=45, max_features=sqrt, max_depth=43 \n",
            "[CV]  n_estimators=318, min_samples_split=35, min_samples_leaf=45, max_features=sqrt, max_depth=43, total=   0.4s\n",
            "[CV] n_estimators=318, min_samples_split=35, min_samples_leaf=45, max_features=sqrt, max_depth=43 \n",
            "[CV]  n_estimators=318, min_samples_split=35, min_samples_leaf=45, max_features=sqrt, max_depth=43, total=   0.4s\n",
            "[CV] n_estimators=318, min_samples_split=35, min_samples_leaf=45, max_features=sqrt, max_depth=43 \n",
            "[CV]  n_estimators=318, min_samples_split=35, min_samples_leaf=45, max_features=sqrt, max_depth=43, total=   0.4s\n",
            "[CV] n_estimators=318, min_samples_split=35, min_samples_leaf=45, max_features=sqrt, max_depth=43 \n",
            "[CV]  n_estimators=318, min_samples_split=35, min_samples_leaf=45, max_features=sqrt, max_depth=43, total=   0.4s\n",
            "[CV] n_estimators=318, min_samples_split=35, min_samples_leaf=45, max_features=sqrt, max_depth=43 \n",
            "[CV]  n_estimators=318, min_samples_split=35, min_samples_leaf=45, max_features=sqrt, max_depth=43, total=   0.4s\n",
            "[CV] n_estimators=318, min_samples_split=35, min_samples_leaf=45, max_features=sqrt, max_depth=43 \n",
            "[CV]  n_estimators=318, min_samples_split=35, min_samples_leaf=45, max_features=sqrt, max_depth=43, total=   0.4s\n",
            "[CV] n_estimators=318, min_samples_split=35, min_samples_leaf=45, max_features=sqrt, max_depth=43 \n",
            "[CV]  n_estimators=318, min_samples_split=35, min_samples_leaf=45, max_features=sqrt, max_depth=43, total=   0.4s\n",
            "[CV] n_estimators=318, min_samples_split=35, min_samples_leaf=45, max_features=sqrt, max_depth=43 \n",
            "[CV]  n_estimators=318, min_samples_split=35, min_samples_leaf=45, max_features=sqrt, max_depth=43, total=   0.5s\n",
            "[CV] n_estimators=318, min_samples_split=35, min_samples_leaf=45, max_features=sqrt, max_depth=43 \n",
            "[CV]  n_estimators=318, min_samples_split=35, min_samples_leaf=45, max_features=sqrt, max_depth=43, total=   0.4s\n",
            "[CV] n_estimators=318, min_samples_split=35, min_samples_leaf=45, max_features=sqrt, max_depth=43 \n",
            "[CV]  n_estimators=318, min_samples_split=35, min_samples_leaf=45, max_features=sqrt, max_depth=43, total=   0.4s\n",
            "[CV] n_estimators=318, min_samples_split=35, min_samples_leaf=45, max_features=sqrt, max_depth=43 \n",
            "[CV]  n_estimators=318, min_samples_split=35, min_samples_leaf=45, max_features=sqrt, max_depth=43, total=   0.4s\n",
            "[CV] n_estimators=318, min_samples_split=35, min_samples_leaf=45, max_features=sqrt, max_depth=43 \n",
            "[CV]  n_estimators=318, min_samples_split=35, min_samples_leaf=45, max_features=sqrt, max_depth=43, total=   0.4s\n",
            "[CV] n_estimators=318, min_samples_split=35, min_samples_leaf=45, max_features=sqrt, max_depth=43 \n",
            "[CV]  n_estimators=318, min_samples_split=35, min_samples_leaf=45, max_features=sqrt, max_depth=43, total=   0.4s\n",
            "[CV] n_estimators=318, min_samples_split=35, min_samples_leaf=45, max_features=sqrt, max_depth=43 \n",
            "[CV]  n_estimators=318, min_samples_split=35, min_samples_leaf=45, max_features=sqrt, max_depth=43, total=   0.4s\n",
            "[CV] n_estimators=1300, min_samples_split=40, min_samples_leaf=40, max_features=sqrt, max_depth=5 \n",
            "[CV]  n_estimators=1300, min_samples_split=40, min_samples_leaf=40, max_features=sqrt, max_depth=5, total=   1.8s\n",
            "[CV] n_estimators=1300, min_samples_split=40, min_samples_leaf=40, max_features=sqrt, max_depth=5 \n",
            "[CV]  n_estimators=1300, min_samples_split=40, min_samples_leaf=40, max_features=sqrt, max_depth=5, total=   1.8s\n",
            "[CV] n_estimators=1300, min_samples_split=40, min_samples_leaf=40, max_features=sqrt, max_depth=5 \n",
            "[CV]  n_estimators=1300, min_samples_split=40, min_samples_leaf=40, max_features=sqrt, max_depth=5, total=   1.8s\n",
            "[CV] n_estimators=1300, min_samples_split=40, min_samples_leaf=40, max_features=sqrt, max_depth=5 \n",
            "[CV]  n_estimators=1300, min_samples_split=40, min_samples_leaf=40, max_features=sqrt, max_depth=5, total=   1.8s\n",
            "[CV] n_estimators=1300, min_samples_split=40, min_samples_leaf=40, max_features=sqrt, max_depth=5 \n",
            "[CV]  n_estimators=1300, min_samples_split=40, min_samples_leaf=40, max_features=sqrt, max_depth=5, total=   1.8s\n",
            "[CV] n_estimators=1300, min_samples_split=40, min_samples_leaf=40, max_features=sqrt, max_depth=5 \n",
            "[CV]  n_estimators=1300, min_samples_split=40, min_samples_leaf=40, max_features=sqrt, max_depth=5, total=   1.8s\n",
            "[CV] n_estimators=1300, min_samples_split=40, min_samples_leaf=40, max_features=sqrt, max_depth=5 \n",
            "[CV]  n_estimators=1300, min_samples_split=40, min_samples_leaf=40, max_features=sqrt, max_depth=5, total=   1.8s\n",
            "[CV] n_estimators=1300, min_samples_split=40, min_samples_leaf=40, max_features=sqrt, max_depth=5 \n",
            "[CV]  n_estimators=1300, min_samples_split=40, min_samples_leaf=40, max_features=sqrt, max_depth=5, total=   1.7s\n",
            "[CV] n_estimators=1300, min_samples_split=40, min_samples_leaf=40, max_features=sqrt, max_depth=5 \n",
            "[CV]  n_estimators=1300, min_samples_split=40, min_samples_leaf=40, max_features=sqrt, max_depth=5, total=   1.7s\n",
            "[CV] n_estimators=1300, min_samples_split=40, min_samples_leaf=40, max_features=sqrt, max_depth=5 \n",
            "[CV]  n_estimators=1300, min_samples_split=40, min_samples_leaf=40, max_features=sqrt, max_depth=5, total=   1.7s\n",
            "[CV] n_estimators=1300, min_samples_split=40, min_samples_leaf=40, max_features=sqrt, max_depth=5 \n",
            "[CV]  n_estimators=1300, min_samples_split=40, min_samples_leaf=40, max_features=sqrt, max_depth=5, total=   1.8s\n",
            "[CV] n_estimators=1300, min_samples_split=40, min_samples_leaf=40, max_features=sqrt, max_depth=5 \n",
            "[CV]  n_estimators=1300, min_samples_split=40, min_samples_leaf=40, max_features=sqrt, max_depth=5, total=   1.7s\n",
            "[CV] n_estimators=1300, min_samples_split=40, min_samples_leaf=40, max_features=sqrt, max_depth=5 \n",
            "[CV]  n_estimators=1300, min_samples_split=40, min_samples_leaf=40, max_features=sqrt, max_depth=5, total=   1.8s\n",
            "[CV] n_estimators=1300, min_samples_split=40, min_samples_leaf=40, max_features=sqrt, max_depth=5 \n",
            "[CV]  n_estimators=1300, min_samples_split=40, min_samples_leaf=40, max_features=sqrt, max_depth=5, total=   1.7s\n",
            "[CV] n_estimators=1300, min_samples_split=40, min_samples_leaf=40, max_features=sqrt, max_depth=5 \n",
            "[CV]  n_estimators=1300, min_samples_split=40, min_samples_leaf=40, max_features=sqrt, max_depth=5, total=   1.8s\n",
            "[CV] n_estimators=1300, min_samples_split=40, min_samples_leaf=40, max_features=sqrt, max_depth=5 \n",
            "[CV]  n_estimators=1300, min_samples_split=40, min_samples_leaf=40, max_features=sqrt, max_depth=5, total=   1.7s\n",
            "[CV] n_estimators=1300, min_samples_split=40, min_samples_leaf=40, max_features=sqrt, max_depth=5 \n",
            "[CV]  n_estimators=1300, min_samples_split=40, min_samples_leaf=40, max_features=sqrt, max_depth=5, total=   1.7s\n",
            "[CV] n_estimators=1300, min_samples_split=40, min_samples_leaf=40, max_features=sqrt, max_depth=5 \n",
            "[CV]  n_estimators=1300, min_samples_split=40, min_samples_leaf=40, max_features=sqrt, max_depth=5, total=   2.0s\n",
            "[CV] n_estimators=1300, min_samples_split=40, min_samples_leaf=40, max_features=sqrt, max_depth=5 \n",
            "[CV]  n_estimators=1300, min_samples_split=40, min_samples_leaf=40, max_features=sqrt, max_depth=5, total=   1.7s\n",
            "[CV] n_estimators=1300, min_samples_split=40, min_samples_leaf=40, max_features=sqrt, max_depth=5 \n",
            "[CV]  n_estimators=1300, min_samples_split=40, min_samples_leaf=40, max_features=sqrt, max_depth=5, total=   1.7s\n",
            "[CV] n_estimators=1081, min_samples_split=20, min_samples_leaf=2, max_features=auto, max_depth=5 \n",
            "[CV]  n_estimators=1081, min_samples_split=20, min_samples_leaf=2, max_features=auto, max_depth=5, total=   1.6s\n",
            "[CV] n_estimators=1081, min_samples_split=20, min_samples_leaf=2, max_features=auto, max_depth=5 \n",
            "[CV]  n_estimators=1081, min_samples_split=20, min_samples_leaf=2, max_features=auto, max_depth=5, total=   1.5s\n",
            "[CV] n_estimators=1081, min_samples_split=20, min_samples_leaf=2, max_features=auto, max_depth=5 \n",
            "[CV]  n_estimators=1081, min_samples_split=20, min_samples_leaf=2, max_features=auto, max_depth=5, total=   1.5s\n",
            "[CV] n_estimators=1081, min_samples_split=20, min_samples_leaf=2, max_features=auto, max_depth=5 \n",
            "[CV]  n_estimators=1081, min_samples_split=20, min_samples_leaf=2, max_features=auto, max_depth=5, total=   1.6s\n",
            "[CV] n_estimators=1081, min_samples_split=20, min_samples_leaf=2, max_features=auto, max_depth=5 \n",
            "[CV]  n_estimators=1081, min_samples_split=20, min_samples_leaf=2, max_features=auto, max_depth=5, total=   1.5s\n",
            "[CV] n_estimators=1081, min_samples_split=20, min_samples_leaf=2, max_features=auto, max_depth=5 \n",
            "[CV]  n_estimators=1081, min_samples_split=20, min_samples_leaf=2, max_features=auto, max_depth=5, total=   1.6s\n",
            "[CV] n_estimators=1081, min_samples_split=20, min_samples_leaf=2, max_features=auto, max_depth=5 \n",
            "[CV]  n_estimators=1081, min_samples_split=20, min_samples_leaf=2, max_features=auto, max_depth=5, total=   1.6s\n",
            "[CV] n_estimators=1081, min_samples_split=20, min_samples_leaf=2, max_features=auto, max_depth=5 \n",
            "[CV]  n_estimators=1081, min_samples_split=20, min_samples_leaf=2, max_features=auto, max_depth=5, total=   1.5s\n",
            "[CV] n_estimators=1081, min_samples_split=20, min_samples_leaf=2, max_features=auto, max_depth=5 \n",
            "[CV]  n_estimators=1081, min_samples_split=20, min_samples_leaf=2, max_features=auto, max_depth=5, total=   1.5s\n",
            "[CV] n_estimators=1081, min_samples_split=20, min_samples_leaf=2, max_features=auto, max_depth=5 \n",
            "[CV]  n_estimators=1081, min_samples_split=20, min_samples_leaf=2, max_features=auto, max_depth=5, total=   1.5s\n",
            "[CV] n_estimators=1081, min_samples_split=20, min_samples_leaf=2, max_features=auto, max_depth=5 \n",
            "[CV]  n_estimators=1081, min_samples_split=20, min_samples_leaf=2, max_features=auto, max_depth=5, total=   1.6s\n",
            "[CV] n_estimators=1081, min_samples_split=20, min_samples_leaf=2, max_features=auto, max_depth=5 \n",
            "[CV]  n_estimators=1081, min_samples_split=20, min_samples_leaf=2, max_features=auto, max_depth=5, total=   1.6s\n",
            "[CV] n_estimators=1081, min_samples_split=20, min_samples_leaf=2, max_features=auto, max_depth=5 \n",
            "[CV]  n_estimators=1081, min_samples_split=20, min_samples_leaf=2, max_features=auto, max_depth=5, total=   1.6s\n",
            "[CV] n_estimators=1081, min_samples_split=20, min_samples_leaf=2, max_features=auto, max_depth=5 \n",
            "[CV]  n_estimators=1081, min_samples_split=20, min_samples_leaf=2, max_features=auto, max_depth=5, total=   1.5s\n",
            "[CV] n_estimators=1081, min_samples_split=20, min_samples_leaf=2, max_features=auto, max_depth=5 \n",
            "[CV]  n_estimators=1081, min_samples_split=20, min_samples_leaf=2, max_features=auto, max_depth=5, total=   1.6s\n",
            "[CV] n_estimators=1081, min_samples_split=20, min_samples_leaf=2, max_features=auto, max_depth=5 \n",
            "[CV]  n_estimators=1081, min_samples_split=20, min_samples_leaf=2, max_features=auto, max_depth=5, total=   1.6s\n",
            "[CV] n_estimators=1081, min_samples_split=20, min_samples_leaf=2, max_features=auto, max_depth=5 \n",
            "[CV]  n_estimators=1081, min_samples_split=20, min_samples_leaf=2, max_features=auto, max_depth=5, total=   1.6s\n",
            "[CV] n_estimators=1081, min_samples_split=20, min_samples_leaf=2, max_features=auto, max_depth=5 \n",
            "[CV]  n_estimators=1081, min_samples_split=20, min_samples_leaf=2, max_features=auto, max_depth=5, total=   1.5s\n",
            "[CV] n_estimators=1081, min_samples_split=20, min_samples_leaf=2, max_features=auto, max_depth=5 \n",
            "[CV]  n_estimators=1081, min_samples_split=20, min_samples_leaf=2, max_features=auto, max_depth=5, total=   1.6s\n",
            "[CV] n_estimators=1081, min_samples_split=20, min_samples_leaf=2, max_features=auto, max_depth=5 \n",
            "[CV]  n_estimators=1081, min_samples_split=20, min_samples_leaf=2, max_features=auto, max_depth=5, total=   1.5s\n",
            "[CV] n_estimators=645, min_samples_split=40, min_samples_leaf=1, max_features=auto, max_depth=24 \n",
            "[CV]  n_estimators=645, min_samples_split=40, min_samples_leaf=1, max_features=auto, max_depth=24, total=   0.9s\n",
            "[CV] n_estimators=645, min_samples_split=40, min_samples_leaf=1, max_features=auto, max_depth=24 \n",
            "[CV]  n_estimators=645, min_samples_split=40, min_samples_leaf=1, max_features=auto, max_depth=24, total=   0.9s\n",
            "[CV] n_estimators=645, min_samples_split=40, min_samples_leaf=1, max_features=auto, max_depth=24 \n",
            "[CV]  n_estimators=645, min_samples_split=40, min_samples_leaf=1, max_features=auto, max_depth=24, total=   0.9s\n",
            "[CV] n_estimators=645, min_samples_split=40, min_samples_leaf=1, max_features=auto, max_depth=24 \n",
            "[CV]  n_estimators=645, min_samples_split=40, min_samples_leaf=1, max_features=auto, max_depth=24, total=   0.9s\n",
            "[CV] n_estimators=645, min_samples_split=40, min_samples_leaf=1, max_features=auto, max_depth=24 \n",
            "[CV]  n_estimators=645, min_samples_split=40, min_samples_leaf=1, max_features=auto, max_depth=24, total=   0.9s\n",
            "[CV] n_estimators=645, min_samples_split=40, min_samples_leaf=1, max_features=auto, max_depth=24 \n",
            "[CV]  n_estimators=645, min_samples_split=40, min_samples_leaf=1, max_features=auto, max_depth=24, total=   0.9s\n",
            "[CV] n_estimators=645, min_samples_split=40, min_samples_leaf=1, max_features=auto, max_depth=24 \n",
            "[CV]  n_estimators=645, min_samples_split=40, min_samples_leaf=1, max_features=auto, max_depth=24, total=   0.9s\n",
            "[CV] n_estimators=645, min_samples_split=40, min_samples_leaf=1, max_features=auto, max_depth=24 \n",
            "[CV]  n_estimators=645, min_samples_split=40, min_samples_leaf=1, max_features=auto, max_depth=24, total=   0.9s\n",
            "[CV] n_estimators=645, min_samples_split=40, min_samples_leaf=1, max_features=auto, max_depth=24 \n",
            "[CV]  n_estimators=645, min_samples_split=40, min_samples_leaf=1, max_features=auto, max_depth=24, total=   0.9s\n",
            "[CV] n_estimators=645, min_samples_split=40, min_samples_leaf=1, max_features=auto, max_depth=24 \n",
            "[CV]  n_estimators=645, min_samples_split=40, min_samples_leaf=1, max_features=auto, max_depth=24, total=   0.9s\n",
            "[CV] n_estimators=645, min_samples_split=40, min_samples_leaf=1, max_features=auto, max_depth=24 \n",
            "[CV]  n_estimators=645, min_samples_split=40, min_samples_leaf=1, max_features=auto, max_depth=24, total=   0.9s\n",
            "[CV] n_estimators=645, min_samples_split=40, min_samples_leaf=1, max_features=auto, max_depth=24 \n",
            "[CV]  n_estimators=645, min_samples_split=40, min_samples_leaf=1, max_features=auto, max_depth=24, total=   0.9s\n",
            "[CV] n_estimators=645, min_samples_split=40, min_samples_leaf=1, max_features=auto, max_depth=24 \n",
            "[CV]  n_estimators=645, min_samples_split=40, min_samples_leaf=1, max_features=auto, max_depth=24, total=   0.9s\n",
            "[CV] n_estimators=645, min_samples_split=40, min_samples_leaf=1, max_features=auto, max_depth=24 \n",
            "[CV]  n_estimators=645, min_samples_split=40, min_samples_leaf=1, max_features=auto, max_depth=24, total=   0.9s\n",
            "[CV] n_estimators=645, min_samples_split=40, min_samples_leaf=1, max_features=auto, max_depth=24 \n",
            "[CV]  n_estimators=645, min_samples_split=40, min_samples_leaf=1, max_features=auto, max_depth=24, total=   0.9s\n",
            "[CV] n_estimators=645, min_samples_split=40, min_samples_leaf=1, max_features=auto, max_depth=24 \n",
            "[CV]  n_estimators=645, min_samples_split=40, min_samples_leaf=1, max_features=auto, max_depth=24, total=   0.9s\n",
            "[CV] n_estimators=645, min_samples_split=40, min_samples_leaf=1, max_features=auto, max_depth=24 \n",
            "[CV]  n_estimators=645, min_samples_split=40, min_samples_leaf=1, max_features=auto, max_depth=24, total=   0.9s\n",
            "[CV] n_estimators=645, min_samples_split=40, min_samples_leaf=1, max_features=auto, max_depth=24 \n",
            "[CV]  n_estimators=645, min_samples_split=40, min_samples_leaf=1, max_features=auto, max_depth=24, total=   0.9s\n",
            "[CV] n_estimators=645, min_samples_split=40, min_samples_leaf=1, max_features=auto, max_depth=24 \n",
            "[CV]  n_estimators=645, min_samples_split=40, min_samples_leaf=1, max_features=auto, max_depth=24, total=   0.9s\n",
            "[CV] n_estimators=645, min_samples_split=40, min_samples_leaf=1, max_features=auto, max_depth=24 \n",
            "[CV]  n_estimators=645, min_samples_split=40, min_samples_leaf=1, max_features=auto, max_depth=24, total=   0.9s\n",
            "[CV] n_estimators=427, min_samples_split=20, min_samples_leaf=10, max_features=sqrt, max_depth=5 \n",
            "[CV]  n_estimators=427, min_samples_split=20, min_samples_leaf=10, max_features=sqrt, max_depth=5, total=   0.6s\n",
            "[CV] n_estimators=427, min_samples_split=20, min_samples_leaf=10, max_features=sqrt, max_depth=5 \n",
            "[CV]  n_estimators=427, min_samples_split=20, min_samples_leaf=10, max_features=sqrt, max_depth=5, total=   0.6s\n",
            "[CV] n_estimators=427, min_samples_split=20, min_samples_leaf=10, max_features=sqrt, max_depth=5 \n",
            "[CV]  n_estimators=427, min_samples_split=20, min_samples_leaf=10, max_features=sqrt, max_depth=5, total=   0.6s\n",
            "[CV] n_estimators=427, min_samples_split=20, min_samples_leaf=10, max_features=sqrt, max_depth=5 \n",
            "[CV]  n_estimators=427, min_samples_split=20, min_samples_leaf=10, max_features=sqrt, max_depth=5, total=   0.6s\n",
            "[CV] n_estimators=427, min_samples_split=20, min_samples_leaf=10, max_features=sqrt, max_depth=5 \n",
            "[CV]  n_estimators=427, min_samples_split=20, min_samples_leaf=10, max_features=sqrt, max_depth=5, total=   0.6s\n",
            "[CV] n_estimators=427, min_samples_split=20, min_samples_leaf=10, max_features=sqrt, max_depth=5 \n",
            "[CV]  n_estimators=427, min_samples_split=20, min_samples_leaf=10, max_features=sqrt, max_depth=5, total=   0.6s\n",
            "[CV] n_estimators=427, min_samples_split=20, min_samples_leaf=10, max_features=sqrt, max_depth=5 \n",
            "[CV]  n_estimators=427, min_samples_split=20, min_samples_leaf=10, max_features=sqrt, max_depth=5, total=   0.6s\n",
            "[CV] n_estimators=427, min_samples_split=20, min_samples_leaf=10, max_features=sqrt, max_depth=5 \n",
            "[CV]  n_estimators=427, min_samples_split=20, min_samples_leaf=10, max_features=sqrt, max_depth=5, total=   0.6s\n",
            "[CV] n_estimators=427, min_samples_split=20, min_samples_leaf=10, max_features=sqrt, max_depth=5 \n",
            "[CV]  n_estimators=427, min_samples_split=20, min_samples_leaf=10, max_features=sqrt, max_depth=5, total=   0.6s\n",
            "[CV] n_estimators=427, min_samples_split=20, min_samples_leaf=10, max_features=sqrt, max_depth=5 \n",
            "[CV]  n_estimators=427, min_samples_split=20, min_samples_leaf=10, max_features=sqrt, max_depth=5, total=   0.6s\n",
            "[CV] n_estimators=427, min_samples_split=20, min_samples_leaf=10, max_features=sqrt, max_depth=5 \n",
            "[CV]  n_estimators=427, min_samples_split=20, min_samples_leaf=10, max_features=sqrt, max_depth=5, total=   0.6s\n",
            "[CV] n_estimators=427, min_samples_split=20, min_samples_leaf=10, max_features=sqrt, max_depth=5 \n",
            "[CV]  n_estimators=427, min_samples_split=20, min_samples_leaf=10, max_features=sqrt, max_depth=5, total=   0.6s\n",
            "[CV] n_estimators=427, min_samples_split=20, min_samples_leaf=10, max_features=sqrt, max_depth=5 \n",
            "[CV]  n_estimators=427, min_samples_split=20, min_samples_leaf=10, max_features=sqrt, max_depth=5, total=   0.6s\n",
            "[CV] n_estimators=427, min_samples_split=20, min_samples_leaf=10, max_features=sqrt, max_depth=5 \n",
            "[CV]  n_estimators=427, min_samples_split=20, min_samples_leaf=10, max_features=sqrt, max_depth=5, total=   0.6s\n",
            "[CV] n_estimators=427, min_samples_split=20, min_samples_leaf=10, max_features=sqrt, max_depth=5 \n",
            "[CV]  n_estimators=427, min_samples_split=20, min_samples_leaf=10, max_features=sqrt, max_depth=5, total=   0.6s\n",
            "[CV] n_estimators=427, min_samples_split=20, min_samples_leaf=10, max_features=sqrt, max_depth=5 \n",
            "[CV]  n_estimators=427, min_samples_split=20, min_samples_leaf=10, max_features=sqrt, max_depth=5, total=   0.6s\n",
            "[CV] n_estimators=427, min_samples_split=20, min_samples_leaf=10, max_features=sqrt, max_depth=5 \n",
            "[CV]  n_estimators=427, min_samples_split=20, min_samples_leaf=10, max_features=sqrt, max_depth=5, total=   0.6s\n",
            "[CV] n_estimators=427, min_samples_split=20, min_samples_leaf=10, max_features=sqrt, max_depth=5 \n",
            "[CV]  n_estimators=427, min_samples_split=20, min_samples_leaf=10, max_features=sqrt, max_depth=5, total=   0.6s\n",
            "[CV] n_estimators=427, min_samples_split=20, min_samples_leaf=10, max_features=sqrt, max_depth=5 \n",
            "[CV]  n_estimators=427, min_samples_split=20, min_samples_leaf=10, max_features=sqrt, max_depth=5, total=   0.6s\n",
            "[CV] n_estimators=427, min_samples_split=20, min_samples_leaf=10, max_features=sqrt, max_depth=5 \n",
            "[CV]  n_estimators=427, min_samples_split=20, min_samples_leaf=10, max_features=sqrt, max_depth=5, total=   0.6s\n",
            "[CV] n_estimators=863, min_samples_split=30, min_samples_leaf=40, max_features=auto, max_depth=5 \n",
            "[CV]  n_estimators=863, min_samples_split=30, min_samples_leaf=40, max_features=auto, max_depth=5, total=   1.1s\n",
            "[CV] n_estimators=863, min_samples_split=30, min_samples_leaf=40, max_features=auto, max_depth=5 \n",
            "[CV]  n_estimators=863, min_samples_split=30, min_samples_leaf=40, max_features=auto, max_depth=5, total=   1.2s\n",
            "[CV] n_estimators=863, min_samples_split=30, min_samples_leaf=40, max_features=auto, max_depth=5 \n",
            "[CV]  n_estimators=863, min_samples_split=30, min_samples_leaf=40, max_features=auto, max_depth=5, total=   1.2s\n",
            "[CV] n_estimators=863, min_samples_split=30, min_samples_leaf=40, max_features=auto, max_depth=5 \n",
            "[CV]  n_estimators=863, min_samples_split=30, min_samples_leaf=40, max_features=auto, max_depth=5, total=   1.2s\n",
            "[CV] n_estimators=863, min_samples_split=30, min_samples_leaf=40, max_features=auto, max_depth=5 \n",
            "[CV]  n_estimators=863, min_samples_split=30, min_samples_leaf=40, max_features=auto, max_depth=5, total=   1.1s\n",
            "[CV] n_estimators=863, min_samples_split=30, min_samples_leaf=40, max_features=auto, max_depth=5 \n",
            "[CV]  n_estimators=863, min_samples_split=30, min_samples_leaf=40, max_features=auto, max_depth=5, total=   1.2s\n",
            "[CV] n_estimators=863, min_samples_split=30, min_samples_leaf=40, max_features=auto, max_depth=5 \n",
            "[CV]  n_estimators=863, min_samples_split=30, min_samples_leaf=40, max_features=auto, max_depth=5, total=   1.1s\n",
            "[CV] n_estimators=863, min_samples_split=30, min_samples_leaf=40, max_features=auto, max_depth=5 \n",
            "[CV]  n_estimators=863, min_samples_split=30, min_samples_leaf=40, max_features=auto, max_depth=5, total=   1.2s\n",
            "[CV] n_estimators=863, min_samples_split=30, min_samples_leaf=40, max_features=auto, max_depth=5 \n",
            "[CV]  n_estimators=863, min_samples_split=30, min_samples_leaf=40, max_features=auto, max_depth=5, total=   1.4s\n",
            "[CV] n_estimators=863, min_samples_split=30, min_samples_leaf=40, max_features=auto, max_depth=5 \n",
            "[CV]  n_estimators=863, min_samples_split=30, min_samples_leaf=40, max_features=auto, max_depth=5, total=   1.2s\n",
            "[CV] n_estimators=863, min_samples_split=30, min_samples_leaf=40, max_features=auto, max_depth=5 \n",
            "[CV]  n_estimators=863, min_samples_split=30, min_samples_leaf=40, max_features=auto, max_depth=5, total=   1.1s\n",
            "[CV] n_estimators=863, min_samples_split=30, min_samples_leaf=40, max_features=auto, max_depth=5 \n",
            "[CV]  n_estimators=863, min_samples_split=30, min_samples_leaf=40, max_features=auto, max_depth=5, total=   1.2s\n",
            "[CV] n_estimators=863, min_samples_split=30, min_samples_leaf=40, max_features=auto, max_depth=5 \n",
            "[CV]  n_estimators=863, min_samples_split=30, min_samples_leaf=40, max_features=auto, max_depth=5, total=   1.2s\n",
            "[CV] n_estimators=863, min_samples_split=30, min_samples_leaf=40, max_features=auto, max_depth=5 \n",
            "[CV]  n_estimators=863, min_samples_split=30, min_samples_leaf=40, max_features=auto, max_depth=5, total=   1.2s\n",
            "[CV] n_estimators=863, min_samples_split=30, min_samples_leaf=40, max_features=auto, max_depth=5 \n",
            "[CV]  n_estimators=863, min_samples_split=30, min_samples_leaf=40, max_features=auto, max_depth=5, total=   1.2s\n",
            "[CV] n_estimators=863, min_samples_split=30, min_samples_leaf=40, max_features=auto, max_depth=5 \n",
            "[CV]  n_estimators=863, min_samples_split=30, min_samples_leaf=40, max_features=auto, max_depth=5, total=   1.1s\n",
            "[CV] n_estimators=863, min_samples_split=30, min_samples_leaf=40, max_features=auto, max_depth=5 \n",
            "[CV]  n_estimators=863, min_samples_split=30, min_samples_leaf=40, max_features=auto, max_depth=5, total=   1.2s\n",
            "[CV] n_estimators=863, min_samples_split=30, min_samples_leaf=40, max_features=auto, max_depth=5 \n",
            "[CV]  n_estimators=863, min_samples_split=30, min_samples_leaf=40, max_features=auto, max_depth=5, total=   1.1s\n",
            "[CV] n_estimators=863, min_samples_split=30, min_samples_leaf=40, max_features=auto, max_depth=5 \n",
            "[CV]  n_estimators=863, min_samples_split=30, min_samples_leaf=40, max_features=auto, max_depth=5, total=   1.1s\n",
            "[CV] n_estimators=863, min_samples_split=30, min_samples_leaf=40, max_features=auto, max_depth=5 \n",
            "[CV]  n_estimators=863, min_samples_split=30, min_samples_leaf=40, max_features=auto, max_depth=5, total=   1.2s\n",
            "[CV] n_estimators=754, min_samples_split=15, min_samples_leaf=40, max_features=sqrt, max_depth=62 \n",
            "[CV]  n_estimators=754, min_samples_split=15, min_samples_leaf=40, max_features=sqrt, max_depth=62, total=   1.0s\n",
            "[CV] n_estimators=754, min_samples_split=15, min_samples_leaf=40, max_features=sqrt, max_depth=62 \n",
            "[CV]  n_estimators=754, min_samples_split=15, min_samples_leaf=40, max_features=sqrt, max_depth=62, total=   1.0s\n",
            "[CV] n_estimators=754, min_samples_split=15, min_samples_leaf=40, max_features=sqrt, max_depth=62 \n",
            "[CV]  n_estimators=754, min_samples_split=15, min_samples_leaf=40, max_features=sqrt, max_depth=62, total=   1.0s\n",
            "[CV] n_estimators=754, min_samples_split=15, min_samples_leaf=40, max_features=sqrt, max_depth=62 \n",
            "[CV]  n_estimators=754, min_samples_split=15, min_samples_leaf=40, max_features=sqrt, max_depth=62, total=   1.0s\n",
            "[CV] n_estimators=754, min_samples_split=15, min_samples_leaf=40, max_features=sqrt, max_depth=62 \n",
            "[CV]  n_estimators=754, min_samples_split=15, min_samples_leaf=40, max_features=sqrt, max_depth=62, total=   1.0s\n",
            "[CV] n_estimators=754, min_samples_split=15, min_samples_leaf=40, max_features=sqrt, max_depth=62 \n",
            "[CV]  n_estimators=754, min_samples_split=15, min_samples_leaf=40, max_features=sqrt, max_depth=62, total=   1.0s\n",
            "[CV] n_estimators=754, min_samples_split=15, min_samples_leaf=40, max_features=sqrt, max_depth=62 \n",
            "[CV]  n_estimators=754, min_samples_split=15, min_samples_leaf=40, max_features=sqrt, max_depth=62, total=   1.0s\n",
            "[CV] n_estimators=754, min_samples_split=15, min_samples_leaf=40, max_features=sqrt, max_depth=62 \n",
            "[CV]  n_estimators=754, min_samples_split=15, min_samples_leaf=40, max_features=sqrt, max_depth=62, total=   1.0s\n",
            "[CV] n_estimators=754, min_samples_split=15, min_samples_leaf=40, max_features=sqrt, max_depth=62 \n",
            "[CV]  n_estimators=754, min_samples_split=15, min_samples_leaf=40, max_features=sqrt, max_depth=62, total=   1.0s\n",
            "[CV] n_estimators=754, min_samples_split=15, min_samples_leaf=40, max_features=sqrt, max_depth=62 \n",
            "[CV]  n_estimators=754, min_samples_split=15, min_samples_leaf=40, max_features=sqrt, max_depth=62, total=   1.0s\n",
            "[CV] n_estimators=754, min_samples_split=15, min_samples_leaf=40, max_features=sqrt, max_depth=62 \n",
            "[CV]  n_estimators=754, min_samples_split=15, min_samples_leaf=40, max_features=sqrt, max_depth=62, total=   1.1s\n",
            "[CV] n_estimators=754, min_samples_split=15, min_samples_leaf=40, max_features=sqrt, max_depth=62 \n",
            "[CV]  n_estimators=754, min_samples_split=15, min_samples_leaf=40, max_features=sqrt, max_depth=62, total=   1.0s\n",
            "[CV] n_estimators=754, min_samples_split=15, min_samples_leaf=40, max_features=sqrt, max_depth=62 \n",
            "[CV]  n_estimators=754, min_samples_split=15, min_samples_leaf=40, max_features=sqrt, max_depth=62, total=   1.0s\n",
            "[CV] n_estimators=754, min_samples_split=15, min_samples_leaf=40, max_features=sqrt, max_depth=62 \n",
            "[CV]  n_estimators=754, min_samples_split=15, min_samples_leaf=40, max_features=sqrt, max_depth=62, total=   1.0s\n",
            "[CV] n_estimators=754, min_samples_split=15, min_samples_leaf=40, max_features=sqrt, max_depth=62 \n",
            "[CV]  n_estimators=754, min_samples_split=15, min_samples_leaf=40, max_features=sqrt, max_depth=62, total=   1.0s\n",
            "[CV] n_estimators=754, min_samples_split=15, min_samples_leaf=40, max_features=sqrt, max_depth=62 \n",
            "[CV]  n_estimators=754, min_samples_split=15, min_samples_leaf=40, max_features=sqrt, max_depth=62, total=   1.0s\n",
            "[CV] n_estimators=754, min_samples_split=15, min_samples_leaf=40, max_features=sqrt, max_depth=62 \n",
            "[CV]  n_estimators=754, min_samples_split=15, min_samples_leaf=40, max_features=sqrt, max_depth=62, total=   1.0s\n",
            "[CV] n_estimators=754, min_samples_split=15, min_samples_leaf=40, max_features=sqrt, max_depth=62 \n",
            "[CV]  n_estimators=754, min_samples_split=15, min_samples_leaf=40, max_features=sqrt, max_depth=62, total=   1.0s\n",
            "[CV] n_estimators=754, min_samples_split=15, min_samples_leaf=40, max_features=sqrt, max_depth=62 \n",
            "[CV]  n_estimators=754, min_samples_split=15, min_samples_leaf=40, max_features=sqrt, max_depth=62, total=   1.0s\n",
            "[CV] n_estimators=754, min_samples_split=15, min_samples_leaf=40, max_features=sqrt, max_depth=62 \n",
            "[CV]  n_estimators=754, min_samples_split=15, min_samples_leaf=40, max_features=sqrt, max_depth=62, total=   1.0s\n",
            "[CV] n_estimators=536, min_samples_split=100, min_samples_leaf=15, max_features=auto, max_depth=24 \n",
            "[CV]  n_estimators=536, min_samples_split=100, min_samples_leaf=15, max_features=auto, max_depth=24, total=   0.7s\n",
            "[CV] n_estimators=536, min_samples_split=100, min_samples_leaf=15, max_features=auto, max_depth=24 \n",
            "[CV]  n_estimators=536, min_samples_split=100, min_samples_leaf=15, max_features=auto, max_depth=24, total=   0.7s\n",
            "[CV] n_estimators=536, min_samples_split=100, min_samples_leaf=15, max_features=auto, max_depth=24 \n",
            "[CV]  n_estimators=536, min_samples_split=100, min_samples_leaf=15, max_features=auto, max_depth=24, total=   0.7s\n",
            "[CV] n_estimators=536, min_samples_split=100, min_samples_leaf=15, max_features=auto, max_depth=24 \n",
            "[CV]  n_estimators=536, min_samples_split=100, min_samples_leaf=15, max_features=auto, max_depth=24, total=   0.7s\n",
            "[CV] n_estimators=536, min_samples_split=100, min_samples_leaf=15, max_features=auto, max_depth=24 \n",
            "[CV]  n_estimators=536, min_samples_split=100, min_samples_leaf=15, max_features=auto, max_depth=24, total=   0.7s\n",
            "[CV] n_estimators=536, min_samples_split=100, min_samples_leaf=15, max_features=auto, max_depth=24 \n",
            "[CV]  n_estimators=536, min_samples_split=100, min_samples_leaf=15, max_features=auto, max_depth=24, total=   0.7s\n",
            "[CV] n_estimators=536, min_samples_split=100, min_samples_leaf=15, max_features=auto, max_depth=24 \n",
            "[CV]  n_estimators=536, min_samples_split=100, min_samples_leaf=15, max_features=auto, max_depth=24, total=   0.7s\n",
            "[CV] n_estimators=536, min_samples_split=100, min_samples_leaf=15, max_features=auto, max_depth=24 \n",
            "[CV]  n_estimators=536, min_samples_split=100, min_samples_leaf=15, max_features=auto, max_depth=24, total=   0.7s\n",
            "[CV] n_estimators=536, min_samples_split=100, min_samples_leaf=15, max_features=auto, max_depth=24 \n",
            "[CV]  n_estimators=536, min_samples_split=100, min_samples_leaf=15, max_features=auto, max_depth=24, total=   0.7s\n",
            "[CV] n_estimators=536, min_samples_split=100, min_samples_leaf=15, max_features=auto, max_depth=24 \n",
            "[CV]  n_estimators=536, min_samples_split=100, min_samples_leaf=15, max_features=auto, max_depth=24, total=   0.7s\n",
            "[CV] n_estimators=536, min_samples_split=100, min_samples_leaf=15, max_features=auto, max_depth=24 \n",
            "[CV]  n_estimators=536, min_samples_split=100, min_samples_leaf=15, max_features=auto, max_depth=24, total=   0.7s\n",
            "[CV] n_estimators=536, min_samples_split=100, min_samples_leaf=15, max_features=auto, max_depth=24 \n",
            "[CV]  n_estimators=536, min_samples_split=100, min_samples_leaf=15, max_features=auto, max_depth=24, total=   0.7s\n",
            "[CV] n_estimators=536, min_samples_split=100, min_samples_leaf=15, max_features=auto, max_depth=24 \n",
            "[CV]  n_estimators=536, min_samples_split=100, min_samples_leaf=15, max_features=auto, max_depth=24, total=   0.7s\n",
            "[CV] n_estimators=536, min_samples_split=100, min_samples_leaf=15, max_features=auto, max_depth=24 \n",
            "[CV]  n_estimators=536, min_samples_split=100, min_samples_leaf=15, max_features=auto, max_depth=24, total=   0.7s\n",
            "[CV] n_estimators=536, min_samples_split=100, min_samples_leaf=15, max_features=auto, max_depth=24 \n",
            "[CV]  n_estimators=536, min_samples_split=100, min_samples_leaf=15, max_features=auto, max_depth=24, total=   0.7s\n",
            "[CV] n_estimators=536, min_samples_split=100, min_samples_leaf=15, max_features=auto, max_depth=24 \n",
            "[CV]  n_estimators=536, min_samples_split=100, min_samples_leaf=15, max_features=auto, max_depth=24, total=   0.7s\n",
            "[CV] n_estimators=536, min_samples_split=100, min_samples_leaf=15, max_features=auto, max_depth=24 \n",
            "[CV]  n_estimators=536, min_samples_split=100, min_samples_leaf=15, max_features=auto, max_depth=24, total=   0.7s\n",
            "[CV] n_estimators=536, min_samples_split=100, min_samples_leaf=15, max_features=auto, max_depth=24 \n",
            "[CV]  n_estimators=536, min_samples_split=100, min_samples_leaf=15, max_features=auto, max_depth=24, total=   0.7s\n",
            "[CV] n_estimators=536, min_samples_split=100, min_samples_leaf=15, max_features=auto, max_depth=24 \n",
            "[CV]  n_estimators=536, min_samples_split=100, min_samples_leaf=15, max_features=auto, max_depth=24, total=   0.7s\n",
            "[CV] n_estimators=536, min_samples_split=100, min_samples_leaf=15, max_features=auto, max_depth=24 \n",
            "[CV]  n_estimators=536, min_samples_split=100, min_samples_leaf=15, max_features=auto, max_depth=24, total=   0.7s\n",
            "[CV] n_estimators=318, min_samples_split=25, min_samples_leaf=30, max_features=auto, max_depth=24 \n",
            "[CV]  n_estimators=318, min_samples_split=25, min_samples_leaf=30, max_features=auto, max_depth=24, total=   0.4s\n",
            "[CV] n_estimators=318, min_samples_split=25, min_samples_leaf=30, max_features=auto, max_depth=24 \n",
            "[CV]  n_estimators=318, min_samples_split=25, min_samples_leaf=30, max_features=auto, max_depth=24, total=   0.4s\n",
            "[CV] n_estimators=318, min_samples_split=25, min_samples_leaf=30, max_features=auto, max_depth=24 \n",
            "[CV]  n_estimators=318, min_samples_split=25, min_samples_leaf=30, max_features=auto, max_depth=24, total=   0.4s\n",
            "[CV] n_estimators=318, min_samples_split=25, min_samples_leaf=30, max_features=auto, max_depth=24 \n",
            "[CV]  n_estimators=318, min_samples_split=25, min_samples_leaf=30, max_features=auto, max_depth=24, total=   0.4s\n",
            "[CV] n_estimators=318, min_samples_split=25, min_samples_leaf=30, max_features=auto, max_depth=24 \n",
            "[CV]  n_estimators=318, min_samples_split=25, min_samples_leaf=30, max_features=auto, max_depth=24, total=   0.4s\n",
            "[CV] n_estimators=318, min_samples_split=25, min_samples_leaf=30, max_features=auto, max_depth=24 \n",
            "[CV]  n_estimators=318, min_samples_split=25, min_samples_leaf=30, max_features=auto, max_depth=24, total=   0.5s\n",
            "[CV] n_estimators=318, min_samples_split=25, min_samples_leaf=30, max_features=auto, max_depth=24 \n",
            "[CV]  n_estimators=318, min_samples_split=25, min_samples_leaf=30, max_features=auto, max_depth=24, total=   0.4s\n",
            "[CV] n_estimators=318, min_samples_split=25, min_samples_leaf=30, max_features=auto, max_depth=24 \n",
            "[CV]  n_estimators=318, min_samples_split=25, min_samples_leaf=30, max_features=auto, max_depth=24, total=   0.4s\n",
            "[CV] n_estimators=318, min_samples_split=25, min_samples_leaf=30, max_features=auto, max_depth=24 \n",
            "[CV]  n_estimators=318, min_samples_split=25, min_samples_leaf=30, max_features=auto, max_depth=24, total=   0.4s\n",
            "[CV] n_estimators=318, min_samples_split=25, min_samples_leaf=30, max_features=auto, max_depth=24 \n",
            "[CV]  n_estimators=318, min_samples_split=25, min_samples_leaf=30, max_features=auto, max_depth=24, total=   0.4s\n",
            "[CV] n_estimators=318, min_samples_split=25, min_samples_leaf=30, max_features=auto, max_depth=24 \n",
            "[CV]  n_estimators=318, min_samples_split=25, min_samples_leaf=30, max_features=auto, max_depth=24, total=   0.4s\n",
            "[CV] n_estimators=318, min_samples_split=25, min_samples_leaf=30, max_features=auto, max_depth=24 \n",
            "[CV]  n_estimators=318, min_samples_split=25, min_samples_leaf=30, max_features=auto, max_depth=24, total=   0.4s\n",
            "[CV] n_estimators=318, min_samples_split=25, min_samples_leaf=30, max_features=auto, max_depth=24 \n",
            "[CV]  n_estimators=318, min_samples_split=25, min_samples_leaf=30, max_features=auto, max_depth=24, total=   0.5s\n",
            "[CV] n_estimators=318, min_samples_split=25, min_samples_leaf=30, max_features=auto, max_depth=24 \n",
            "[CV]  n_estimators=318, min_samples_split=25, min_samples_leaf=30, max_features=auto, max_depth=24, total=   0.4s\n",
            "[CV] n_estimators=318, min_samples_split=25, min_samples_leaf=30, max_features=auto, max_depth=24 \n",
            "[CV]  n_estimators=318, min_samples_split=25, min_samples_leaf=30, max_features=auto, max_depth=24, total=   0.4s\n",
            "[CV] n_estimators=318, min_samples_split=25, min_samples_leaf=30, max_features=auto, max_depth=24 \n",
            "[CV]  n_estimators=318, min_samples_split=25, min_samples_leaf=30, max_features=auto, max_depth=24, total=   0.5s\n",
            "[CV] n_estimators=318, min_samples_split=25, min_samples_leaf=30, max_features=auto, max_depth=24 \n",
            "[CV]  n_estimators=318, min_samples_split=25, min_samples_leaf=30, max_features=auto, max_depth=24, total=   0.4s\n",
            "[CV] n_estimators=318, min_samples_split=25, min_samples_leaf=30, max_features=auto, max_depth=24 \n",
            "[CV]  n_estimators=318, min_samples_split=25, min_samples_leaf=30, max_features=auto, max_depth=24, total=   0.4s\n",
            "[CV] n_estimators=318, min_samples_split=25, min_samples_leaf=30, max_features=auto, max_depth=24 \n",
            "[CV]  n_estimators=318, min_samples_split=25, min_samples_leaf=30, max_features=auto, max_depth=24, total=   0.4s\n",
            "[CV] n_estimators=318, min_samples_split=25, min_samples_leaf=30, max_features=auto, max_depth=24 \n",
            "[CV]  n_estimators=318, min_samples_split=25, min_samples_leaf=30, max_features=auto, max_depth=24, total=   0.4s\n",
            "[CV] n_estimators=754, min_samples_split=100, min_samples_leaf=1, max_features=auto, max_depth=62 \n",
            "[CV]  n_estimators=754, min_samples_split=100, min_samples_leaf=1, max_features=auto, max_depth=62, total=   1.0s\n",
            "[CV] n_estimators=754, min_samples_split=100, min_samples_leaf=1, max_features=auto, max_depth=62 \n",
            "[CV]  n_estimators=754, min_samples_split=100, min_samples_leaf=1, max_features=auto, max_depth=62, total=   1.0s\n",
            "[CV] n_estimators=754, min_samples_split=100, min_samples_leaf=1, max_features=auto, max_depth=62 \n",
            "[CV]  n_estimators=754, min_samples_split=100, min_samples_leaf=1, max_features=auto, max_depth=62, total=   1.0s\n",
            "[CV] n_estimators=754, min_samples_split=100, min_samples_leaf=1, max_features=auto, max_depth=62 \n",
            "[CV]  n_estimators=754, min_samples_split=100, min_samples_leaf=1, max_features=auto, max_depth=62, total=   1.0s\n",
            "[CV] n_estimators=754, min_samples_split=100, min_samples_leaf=1, max_features=auto, max_depth=62 \n",
            "[CV]  n_estimators=754, min_samples_split=100, min_samples_leaf=1, max_features=auto, max_depth=62, total=   1.0s\n",
            "[CV] n_estimators=754, min_samples_split=100, min_samples_leaf=1, max_features=auto, max_depth=62 \n",
            "[CV]  n_estimators=754, min_samples_split=100, min_samples_leaf=1, max_features=auto, max_depth=62, total=   1.0s\n",
            "[CV] n_estimators=754, min_samples_split=100, min_samples_leaf=1, max_features=auto, max_depth=62 \n",
            "[CV]  n_estimators=754, min_samples_split=100, min_samples_leaf=1, max_features=auto, max_depth=62, total=   1.0s\n",
            "[CV] n_estimators=754, min_samples_split=100, min_samples_leaf=1, max_features=auto, max_depth=62 \n",
            "[CV]  n_estimators=754, min_samples_split=100, min_samples_leaf=1, max_features=auto, max_depth=62, total=   1.0s\n",
            "[CV] n_estimators=754, min_samples_split=100, min_samples_leaf=1, max_features=auto, max_depth=62 \n",
            "[CV]  n_estimators=754, min_samples_split=100, min_samples_leaf=1, max_features=auto, max_depth=62, total=   1.0s\n",
            "[CV] n_estimators=754, min_samples_split=100, min_samples_leaf=1, max_features=auto, max_depth=62 \n",
            "[CV]  n_estimators=754, min_samples_split=100, min_samples_leaf=1, max_features=auto, max_depth=62, total=   1.0s\n",
            "[CV] n_estimators=754, min_samples_split=100, min_samples_leaf=1, max_features=auto, max_depth=62 \n",
            "[CV]  n_estimators=754, min_samples_split=100, min_samples_leaf=1, max_features=auto, max_depth=62, total=   1.0s\n",
            "[CV] n_estimators=754, min_samples_split=100, min_samples_leaf=1, max_features=auto, max_depth=62 \n",
            "[CV]  n_estimators=754, min_samples_split=100, min_samples_leaf=1, max_features=auto, max_depth=62, total=   1.0s\n",
            "[CV] n_estimators=754, min_samples_split=100, min_samples_leaf=1, max_features=auto, max_depth=62 \n",
            "[CV]  n_estimators=754, min_samples_split=100, min_samples_leaf=1, max_features=auto, max_depth=62, total=   1.0s\n",
            "[CV] n_estimators=754, min_samples_split=100, min_samples_leaf=1, max_features=auto, max_depth=62 \n",
            "[CV]  n_estimators=754, min_samples_split=100, min_samples_leaf=1, max_features=auto, max_depth=62, total=   1.0s\n",
            "[CV] n_estimators=754, min_samples_split=100, min_samples_leaf=1, max_features=auto, max_depth=62 \n",
            "[CV]  n_estimators=754, min_samples_split=100, min_samples_leaf=1, max_features=auto, max_depth=62, total=   1.0s\n",
            "[CV] n_estimators=754, min_samples_split=100, min_samples_leaf=1, max_features=auto, max_depth=62 \n",
            "[CV]  n_estimators=754, min_samples_split=100, min_samples_leaf=1, max_features=auto, max_depth=62, total=   1.1s\n",
            "[CV] n_estimators=754, min_samples_split=100, min_samples_leaf=1, max_features=auto, max_depth=62 \n",
            "[CV]  n_estimators=754, min_samples_split=100, min_samples_leaf=1, max_features=auto, max_depth=62, total=   1.1s\n",
            "[CV] n_estimators=754, min_samples_split=100, min_samples_leaf=1, max_features=auto, max_depth=62 \n",
            "[CV]  n_estimators=754, min_samples_split=100, min_samples_leaf=1, max_features=auto, max_depth=62, total=   1.0s\n",
            "[CV] n_estimators=754, min_samples_split=100, min_samples_leaf=1, max_features=auto, max_depth=62 \n",
            "[CV]  n_estimators=754, min_samples_split=100, min_samples_leaf=1, max_features=auto, max_depth=62, total=   1.0s\n",
            "[CV] n_estimators=754, min_samples_split=100, min_samples_leaf=1, max_features=auto, max_depth=62 \n",
            "[CV]  n_estimators=754, min_samples_split=100, min_samples_leaf=1, max_features=auto, max_depth=62, total=   1.0s\n",
            "[CV] n_estimators=754, min_samples_split=45, min_samples_leaf=45, max_features=sqrt, max_depth=81 \n",
            "[CV]  n_estimators=754, min_samples_split=45, min_samples_leaf=45, max_features=sqrt, max_depth=81, total=   1.0s\n",
            "[CV] n_estimators=754, min_samples_split=45, min_samples_leaf=45, max_features=sqrt, max_depth=81 \n",
            "[CV]  n_estimators=754, min_samples_split=45, min_samples_leaf=45, max_features=sqrt, max_depth=81, total=   1.0s\n",
            "[CV] n_estimators=754, min_samples_split=45, min_samples_leaf=45, max_features=sqrt, max_depth=81 \n",
            "[CV]  n_estimators=754, min_samples_split=45, min_samples_leaf=45, max_features=sqrt, max_depth=81, total=   1.2s\n",
            "[CV] n_estimators=754, min_samples_split=45, min_samples_leaf=45, max_features=sqrt, max_depth=81 \n",
            "[CV]  n_estimators=754, min_samples_split=45, min_samples_leaf=45, max_features=sqrt, max_depth=81, total=   1.0s\n",
            "[CV] n_estimators=754, min_samples_split=45, min_samples_leaf=45, max_features=sqrt, max_depth=81 \n",
            "[CV]  n_estimators=754, min_samples_split=45, min_samples_leaf=45, max_features=sqrt, max_depth=81, total=   1.0s\n",
            "[CV] n_estimators=754, min_samples_split=45, min_samples_leaf=45, max_features=sqrt, max_depth=81 \n",
            "[CV]  n_estimators=754, min_samples_split=45, min_samples_leaf=45, max_features=sqrt, max_depth=81, total=   1.0s\n",
            "[CV] n_estimators=754, min_samples_split=45, min_samples_leaf=45, max_features=sqrt, max_depth=81 \n",
            "[CV]  n_estimators=754, min_samples_split=45, min_samples_leaf=45, max_features=sqrt, max_depth=81, total=   1.0s\n",
            "[CV] n_estimators=754, min_samples_split=45, min_samples_leaf=45, max_features=sqrt, max_depth=81 \n",
            "[CV]  n_estimators=754, min_samples_split=45, min_samples_leaf=45, max_features=sqrt, max_depth=81, total=   1.0s\n",
            "[CV] n_estimators=754, min_samples_split=45, min_samples_leaf=45, max_features=sqrt, max_depth=81 \n",
            "[CV]  n_estimators=754, min_samples_split=45, min_samples_leaf=45, max_features=sqrt, max_depth=81, total=   1.0s\n",
            "[CV] n_estimators=754, min_samples_split=45, min_samples_leaf=45, max_features=sqrt, max_depth=81 \n",
            "[CV]  n_estimators=754, min_samples_split=45, min_samples_leaf=45, max_features=sqrt, max_depth=81, total=   1.0s\n",
            "[CV] n_estimators=754, min_samples_split=45, min_samples_leaf=45, max_features=sqrt, max_depth=81 \n",
            "[CV]  n_estimators=754, min_samples_split=45, min_samples_leaf=45, max_features=sqrt, max_depth=81, total=   1.0s\n",
            "[CV] n_estimators=754, min_samples_split=45, min_samples_leaf=45, max_features=sqrt, max_depth=81 \n",
            "[CV]  n_estimators=754, min_samples_split=45, min_samples_leaf=45, max_features=sqrt, max_depth=81, total=   1.0s\n",
            "[CV] n_estimators=754, min_samples_split=45, min_samples_leaf=45, max_features=sqrt, max_depth=81 \n",
            "[CV]  n_estimators=754, min_samples_split=45, min_samples_leaf=45, max_features=sqrt, max_depth=81, total=   1.0s\n",
            "[CV] n_estimators=754, min_samples_split=45, min_samples_leaf=45, max_features=sqrt, max_depth=81 \n",
            "[CV]  n_estimators=754, min_samples_split=45, min_samples_leaf=45, max_features=sqrt, max_depth=81, total=   1.0s\n",
            "[CV] n_estimators=754, min_samples_split=45, min_samples_leaf=45, max_features=sqrt, max_depth=81 \n",
            "[CV]  n_estimators=754, min_samples_split=45, min_samples_leaf=45, max_features=sqrt, max_depth=81, total=   1.0s\n",
            "[CV] n_estimators=754, min_samples_split=45, min_samples_leaf=45, max_features=sqrt, max_depth=81 \n",
            "[CV]  n_estimators=754, min_samples_split=45, min_samples_leaf=45, max_features=sqrt, max_depth=81, total=   1.0s\n",
            "[CV] n_estimators=754, min_samples_split=45, min_samples_leaf=45, max_features=sqrt, max_depth=81 \n",
            "[CV]  n_estimators=754, min_samples_split=45, min_samples_leaf=45, max_features=sqrt, max_depth=81, total=   1.0s\n",
            "[CV] n_estimators=754, min_samples_split=45, min_samples_leaf=45, max_features=sqrt, max_depth=81 \n",
            "[CV]  n_estimators=754, min_samples_split=45, min_samples_leaf=45, max_features=sqrt, max_depth=81, total=   1.0s\n",
            "[CV] n_estimators=754, min_samples_split=45, min_samples_leaf=45, max_features=sqrt, max_depth=81 \n",
            "[CV]  n_estimators=754, min_samples_split=45, min_samples_leaf=45, max_features=sqrt, max_depth=81, total=   1.0s\n",
            "[CV] n_estimators=754, min_samples_split=45, min_samples_leaf=45, max_features=sqrt, max_depth=81 \n",
            "[CV]  n_estimators=754, min_samples_split=45, min_samples_leaf=45, max_features=sqrt, max_depth=81, total=   1.0s\n",
            "[CV] n_estimators=863, min_samples_split=25, min_samples_leaf=10, max_features=sqrt, max_depth=62 \n",
            "[CV]  n_estimators=863, min_samples_split=25, min_samples_leaf=10, max_features=sqrt, max_depth=62, total=   1.2s\n",
            "[CV] n_estimators=863, min_samples_split=25, min_samples_leaf=10, max_features=sqrt, max_depth=62 \n",
            "[CV]  n_estimators=863, min_samples_split=25, min_samples_leaf=10, max_features=sqrt, max_depth=62, total=   1.2s\n",
            "[CV] n_estimators=863, min_samples_split=25, min_samples_leaf=10, max_features=sqrt, max_depth=62 \n",
            "[CV]  n_estimators=863, min_samples_split=25, min_samples_leaf=10, max_features=sqrt, max_depth=62, total=   1.2s\n",
            "[CV] n_estimators=863, min_samples_split=25, min_samples_leaf=10, max_features=sqrt, max_depth=62 \n",
            "[CV]  n_estimators=863, min_samples_split=25, min_samples_leaf=10, max_features=sqrt, max_depth=62, total=   1.2s\n",
            "[CV] n_estimators=863, min_samples_split=25, min_samples_leaf=10, max_features=sqrt, max_depth=62 \n",
            "[CV]  n_estimators=863, min_samples_split=25, min_samples_leaf=10, max_features=sqrt, max_depth=62, total=   1.2s\n",
            "[CV] n_estimators=863, min_samples_split=25, min_samples_leaf=10, max_features=sqrt, max_depth=62 \n",
            "[CV]  n_estimators=863, min_samples_split=25, min_samples_leaf=10, max_features=sqrt, max_depth=62, total=   1.2s\n",
            "[CV] n_estimators=863, min_samples_split=25, min_samples_leaf=10, max_features=sqrt, max_depth=62 \n",
            "[CV]  n_estimators=863, min_samples_split=25, min_samples_leaf=10, max_features=sqrt, max_depth=62, total=   1.2s\n",
            "[CV] n_estimators=863, min_samples_split=25, min_samples_leaf=10, max_features=sqrt, max_depth=62 \n",
            "[CV]  n_estimators=863, min_samples_split=25, min_samples_leaf=10, max_features=sqrt, max_depth=62, total=   1.2s\n",
            "[CV] n_estimators=863, min_samples_split=25, min_samples_leaf=10, max_features=sqrt, max_depth=62 \n",
            "[CV]  n_estimators=863, min_samples_split=25, min_samples_leaf=10, max_features=sqrt, max_depth=62, total=   1.2s\n",
            "[CV] n_estimators=863, min_samples_split=25, min_samples_leaf=10, max_features=sqrt, max_depth=62 \n",
            "[CV]  n_estimators=863, min_samples_split=25, min_samples_leaf=10, max_features=sqrt, max_depth=62, total=   1.2s\n",
            "[CV] n_estimators=863, min_samples_split=25, min_samples_leaf=10, max_features=sqrt, max_depth=62 \n",
            "[CV]  n_estimators=863, min_samples_split=25, min_samples_leaf=10, max_features=sqrt, max_depth=62, total=   1.2s\n",
            "[CV] n_estimators=863, min_samples_split=25, min_samples_leaf=10, max_features=sqrt, max_depth=62 \n",
            "[CV]  n_estimators=863, min_samples_split=25, min_samples_leaf=10, max_features=sqrt, max_depth=62, total=   1.2s\n",
            "[CV] n_estimators=863, min_samples_split=25, min_samples_leaf=10, max_features=sqrt, max_depth=62 \n",
            "[CV]  n_estimators=863, min_samples_split=25, min_samples_leaf=10, max_features=sqrt, max_depth=62, total=   1.2s\n",
            "[CV] n_estimators=863, min_samples_split=25, min_samples_leaf=10, max_features=sqrt, max_depth=62 \n",
            "[CV]  n_estimators=863, min_samples_split=25, min_samples_leaf=10, max_features=sqrt, max_depth=62, total=   1.3s\n",
            "[CV] n_estimators=863, min_samples_split=25, min_samples_leaf=10, max_features=sqrt, max_depth=62 \n",
            "[CV]  n_estimators=863, min_samples_split=25, min_samples_leaf=10, max_features=sqrt, max_depth=62, total=   1.2s\n",
            "[CV] n_estimators=863, min_samples_split=25, min_samples_leaf=10, max_features=sqrt, max_depth=62 \n",
            "[CV]  n_estimators=863, min_samples_split=25, min_samples_leaf=10, max_features=sqrt, max_depth=62, total=   1.2s\n",
            "[CV] n_estimators=863, min_samples_split=25, min_samples_leaf=10, max_features=sqrt, max_depth=62 \n",
            "[CV]  n_estimators=863, min_samples_split=25, min_samples_leaf=10, max_features=sqrt, max_depth=62, total=   1.2s\n",
            "[CV] n_estimators=863, min_samples_split=25, min_samples_leaf=10, max_features=sqrt, max_depth=62 \n",
            "[CV]  n_estimators=863, min_samples_split=25, min_samples_leaf=10, max_features=sqrt, max_depth=62, total=   1.2s\n",
            "[CV] n_estimators=863, min_samples_split=25, min_samples_leaf=10, max_features=sqrt, max_depth=62 \n",
            "[CV]  n_estimators=863, min_samples_split=25, min_samples_leaf=10, max_features=sqrt, max_depth=62, total=   1.2s\n",
            "[CV] n_estimators=863, min_samples_split=25, min_samples_leaf=10, max_features=sqrt, max_depth=62 \n",
            "[CV]  n_estimators=863, min_samples_split=25, min_samples_leaf=10, max_features=sqrt, max_depth=62, total=   1.2s\n",
            "[CV] n_estimators=972, min_samples_split=30, min_samples_leaf=1, max_features=auto, max_depth=62 \n",
            "[CV]  n_estimators=972, min_samples_split=30, min_samples_leaf=1, max_features=auto, max_depth=62, total=   1.4s\n",
            "[CV] n_estimators=972, min_samples_split=30, min_samples_leaf=1, max_features=auto, max_depth=62 \n",
            "[CV]  n_estimators=972, min_samples_split=30, min_samples_leaf=1, max_features=auto, max_depth=62, total=   1.4s\n",
            "[CV] n_estimators=972, min_samples_split=30, min_samples_leaf=1, max_features=auto, max_depth=62 \n",
            "[CV]  n_estimators=972, min_samples_split=30, min_samples_leaf=1, max_features=auto, max_depth=62, total=   1.4s\n",
            "[CV] n_estimators=972, min_samples_split=30, min_samples_leaf=1, max_features=auto, max_depth=62 \n",
            "[CV]  n_estimators=972, min_samples_split=30, min_samples_leaf=1, max_features=auto, max_depth=62, total=   1.4s\n",
            "[CV] n_estimators=972, min_samples_split=30, min_samples_leaf=1, max_features=auto, max_depth=62 \n",
            "[CV]  n_estimators=972, min_samples_split=30, min_samples_leaf=1, max_features=auto, max_depth=62, total=   1.4s\n",
            "[CV] n_estimators=972, min_samples_split=30, min_samples_leaf=1, max_features=auto, max_depth=62 \n",
            "[CV]  n_estimators=972, min_samples_split=30, min_samples_leaf=1, max_features=auto, max_depth=62, total=   1.4s\n",
            "[CV] n_estimators=972, min_samples_split=30, min_samples_leaf=1, max_features=auto, max_depth=62 \n",
            "[CV]  n_estimators=972, min_samples_split=30, min_samples_leaf=1, max_features=auto, max_depth=62, total=   1.4s\n",
            "[CV] n_estimators=972, min_samples_split=30, min_samples_leaf=1, max_features=auto, max_depth=62 \n",
            "[CV]  n_estimators=972, min_samples_split=30, min_samples_leaf=1, max_features=auto, max_depth=62, total=   1.4s\n",
            "[CV] n_estimators=972, min_samples_split=30, min_samples_leaf=1, max_features=auto, max_depth=62 \n",
            "[CV]  n_estimators=972, min_samples_split=30, min_samples_leaf=1, max_features=auto, max_depth=62, total=   1.4s\n",
            "[CV] n_estimators=972, min_samples_split=30, min_samples_leaf=1, max_features=auto, max_depth=62 \n",
            "[CV]  n_estimators=972, min_samples_split=30, min_samples_leaf=1, max_features=auto, max_depth=62, total=   1.4s\n",
            "[CV] n_estimators=972, min_samples_split=30, min_samples_leaf=1, max_features=auto, max_depth=62 \n",
            "[CV]  n_estimators=972, min_samples_split=30, min_samples_leaf=1, max_features=auto, max_depth=62, total=   1.4s\n",
            "[CV] n_estimators=972, min_samples_split=30, min_samples_leaf=1, max_features=auto, max_depth=62 \n",
            "[CV]  n_estimators=972, min_samples_split=30, min_samples_leaf=1, max_features=auto, max_depth=62, total=   1.4s\n",
            "[CV] n_estimators=972, min_samples_split=30, min_samples_leaf=1, max_features=auto, max_depth=62 \n",
            "[CV]  n_estimators=972, min_samples_split=30, min_samples_leaf=1, max_features=auto, max_depth=62, total=   1.4s\n",
            "[CV] n_estimators=972, min_samples_split=30, min_samples_leaf=1, max_features=auto, max_depth=62 \n",
            "[CV]  n_estimators=972, min_samples_split=30, min_samples_leaf=1, max_features=auto, max_depth=62, total=   1.4s\n",
            "[CV] n_estimators=972, min_samples_split=30, min_samples_leaf=1, max_features=auto, max_depth=62 \n",
            "[CV]  n_estimators=972, min_samples_split=30, min_samples_leaf=1, max_features=auto, max_depth=62, total=   1.4s\n",
            "[CV] n_estimators=972, min_samples_split=30, min_samples_leaf=1, max_features=auto, max_depth=62 \n",
            "[CV]  n_estimators=972, min_samples_split=30, min_samples_leaf=1, max_features=auto, max_depth=62, total=   1.4s\n",
            "[CV] n_estimators=972, min_samples_split=30, min_samples_leaf=1, max_features=auto, max_depth=62 \n",
            "[CV]  n_estimators=972, min_samples_split=30, min_samples_leaf=1, max_features=auto, max_depth=62, total=   1.4s\n",
            "[CV] n_estimators=972, min_samples_split=30, min_samples_leaf=1, max_features=auto, max_depth=62 \n",
            "[CV]  n_estimators=972, min_samples_split=30, min_samples_leaf=1, max_features=auto, max_depth=62, total=   1.4s\n",
            "[CV] n_estimators=972, min_samples_split=30, min_samples_leaf=1, max_features=auto, max_depth=62 \n",
            "[CV]  n_estimators=972, min_samples_split=30, min_samples_leaf=1, max_features=auto, max_depth=62, total=   1.4s\n",
            "[CV] n_estimators=972, min_samples_split=30, min_samples_leaf=1, max_features=auto, max_depth=62 \n",
            "[CV]  n_estimators=972, min_samples_split=30, min_samples_leaf=1, max_features=auto, max_depth=62, total=   1.4s\n",
            "[CV] n_estimators=863, min_samples_split=100, min_samples_leaf=5, max_features=sqrt, max_depth=62 \n",
            "[CV]  n_estimators=863, min_samples_split=100, min_samples_leaf=5, max_features=sqrt, max_depth=62, total=   1.2s\n",
            "[CV] n_estimators=863, min_samples_split=100, min_samples_leaf=5, max_features=sqrt, max_depth=62 \n",
            "[CV]  n_estimators=863, min_samples_split=100, min_samples_leaf=5, max_features=sqrt, max_depth=62, total=   1.2s\n",
            "[CV] n_estimators=863, min_samples_split=100, min_samples_leaf=5, max_features=sqrt, max_depth=62 \n",
            "[CV]  n_estimators=863, min_samples_split=100, min_samples_leaf=5, max_features=sqrt, max_depth=62, total=   1.2s\n",
            "[CV] n_estimators=863, min_samples_split=100, min_samples_leaf=5, max_features=sqrt, max_depth=62 \n",
            "[CV]  n_estimators=863, min_samples_split=100, min_samples_leaf=5, max_features=sqrt, max_depth=62, total=   1.4s\n",
            "[CV] n_estimators=863, min_samples_split=100, min_samples_leaf=5, max_features=sqrt, max_depth=62 \n",
            "[CV]  n_estimators=863, min_samples_split=100, min_samples_leaf=5, max_features=sqrt, max_depth=62, total=   1.2s\n",
            "[CV] n_estimators=863, min_samples_split=100, min_samples_leaf=5, max_features=sqrt, max_depth=62 \n",
            "[CV]  n_estimators=863, min_samples_split=100, min_samples_leaf=5, max_features=sqrt, max_depth=62, total=   1.2s\n",
            "[CV] n_estimators=863, min_samples_split=100, min_samples_leaf=5, max_features=sqrt, max_depth=62 \n",
            "[CV]  n_estimators=863, min_samples_split=100, min_samples_leaf=5, max_features=sqrt, max_depth=62, total=   1.2s\n",
            "[CV] n_estimators=863, min_samples_split=100, min_samples_leaf=5, max_features=sqrt, max_depth=62 \n",
            "[CV]  n_estimators=863, min_samples_split=100, min_samples_leaf=5, max_features=sqrt, max_depth=62, total=   1.2s\n",
            "[CV] n_estimators=863, min_samples_split=100, min_samples_leaf=5, max_features=sqrt, max_depth=62 \n",
            "[CV]  n_estimators=863, min_samples_split=100, min_samples_leaf=5, max_features=sqrt, max_depth=62, total=   1.2s\n",
            "[CV] n_estimators=863, min_samples_split=100, min_samples_leaf=5, max_features=sqrt, max_depth=62 \n",
            "[CV]  n_estimators=863, min_samples_split=100, min_samples_leaf=5, max_features=sqrt, max_depth=62, total=   1.2s\n",
            "[CV] n_estimators=863, min_samples_split=100, min_samples_leaf=5, max_features=sqrt, max_depth=62 \n",
            "[CV]  n_estimators=863, min_samples_split=100, min_samples_leaf=5, max_features=sqrt, max_depth=62, total=   1.2s\n",
            "[CV] n_estimators=863, min_samples_split=100, min_samples_leaf=5, max_features=sqrt, max_depth=62 \n",
            "[CV]  n_estimators=863, min_samples_split=100, min_samples_leaf=5, max_features=sqrt, max_depth=62, total=   1.2s\n",
            "[CV] n_estimators=863, min_samples_split=100, min_samples_leaf=5, max_features=sqrt, max_depth=62 \n",
            "[CV]  n_estimators=863, min_samples_split=100, min_samples_leaf=5, max_features=sqrt, max_depth=62, total=   1.2s\n",
            "[CV] n_estimators=863, min_samples_split=100, min_samples_leaf=5, max_features=sqrt, max_depth=62 \n",
            "[CV]  n_estimators=863, min_samples_split=100, min_samples_leaf=5, max_features=sqrt, max_depth=62, total=   1.2s\n",
            "[CV] n_estimators=863, min_samples_split=100, min_samples_leaf=5, max_features=sqrt, max_depth=62 \n",
            "[CV]  n_estimators=863, min_samples_split=100, min_samples_leaf=5, max_features=sqrt, max_depth=62, total=   1.2s\n",
            "[CV] n_estimators=863, min_samples_split=100, min_samples_leaf=5, max_features=sqrt, max_depth=62 \n",
            "[CV]  n_estimators=863, min_samples_split=100, min_samples_leaf=5, max_features=sqrt, max_depth=62, total=   1.2s\n",
            "[CV] n_estimators=863, min_samples_split=100, min_samples_leaf=5, max_features=sqrt, max_depth=62 \n",
            "[CV]  n_estimators=863, min_samples_split=100, min_samples_leaf=5, max_features=sqrt, max_depth=62, total=   1.2s\n",
            "[CV] n_estimators=863, min_samples_split=100, min_samples_leaf=5, max_features=sqrt, max_depth=62 \n",
            "[CV]  n_estimators=863, min_samples_split=100, min_samples_leaf=5, max_features=sqrt, max_depth=62, total=   1.2s\n",
            "[CV] n_estimators=863, min_samples_split=100, min_samples_leaf=5, max_features=sqrt, max_depth=62 \n",
            "[CV]  n_estimators=863, min_samples_split=100, min_samples_leaf=5, max_features=sqrt, max_depth=62, total=   1.2s\n",
            "[CV] n_estimators=863, min_samples_split=100, min_samples_leaf=5, max_features=sqrt, max_depth=62 \n",
            "[CV]  n_estimators=863, min_samples_split=100, min_samples_leaf=5, max_features=sqrt, max_depth=62, total=   1.2s\n",
            "[CV] n_estimators=645, min_samples_split=35, min_samples_leaf=1, max_features=sqrt, max_depth=62 \n",
            "[CV]  n_estimators=645, min_samples_split=35, min_samples_leaf=1, max_features=sqrt, max_depth=62, total=   0.9s\n",
            "[CV] n_estimators=645, min_samples_split=35, min_samples_leaf=1, max_features=sqrt, max_depth=62 \n",
            "[CV]  n_estimators=645, min_samples_split=35, min_samples_leaf=1, max_features=sqrt, max_depth=62, total=   0.9s\n",
            "[CV] n_estimators=645, min_samples_split=35, min_samples_leaf=1, max_features=sqrt, max_depth=62 \n",
            "[CV]  n_estimators=645, min_samples_split=35, min_samples_leaf=1, max_features=sqrt, max_depth=62, total=   0.9s\n",
            "[CV] n_estimators=645, min_samples_split=35, min_samples_leaf=1, max_features=sqrt, max_depth=62 \n",
            "[CV]  n_estimators=645, min_samples_split=35, min_samples_leaf=1, max_features=sqrt, max_depth=62, total=   0.9s\n",
            "[CV] n_estimators=645, min_samples_split=35, min_samples_leaf=1, max_features=sqrt, max_depth=62 \n",
            "[CV]  n_estimators=645, min_samples_split=35, min_samples_leaf=1, max_features=sqrt, max_depth=62, total=   0.9s\n",
            "[CV] n_estimators=645, min_samples_split=35, min_samples_leaf=1, max_features=sqrt, max_depth=62 \n",
            "[CV]  n_estimators=645, min_samples_split=35, min_samples_leaf=1, max_features=sqrt, max_depth=62, total=   0.9s\n",
            "[CV] n_estimators=645, min_samples_split=35, min_samples_leaf=1, max_features=sqrt, max_depth=62 \n",
            "[CV]  n_estimators=645, min_samples_split=35, min_samples_leaf=1, max_features=sqrt, max_depth=62, total=   0.9s\n",
            "[CV] n_estimators=645, min_samples_split=35, min_samples_leaf=1, max_features=sqrt, max_depth=62 \n",
            "[CV]  n_estimators=645, min_samples_split=35, min_samples_leaf=1, max_features=sqrt, max_depth=62, total=   0.9s\n",
            "[CV] n_estimators=645, min_samples_split=35, min_samples_leaf=1, max_features=sqrt, max_depth=62 \n",
            "[CV]  n_estimators=645, min_samples_split=35, min_samples_leaf=1, max_features=sqrt, max_depth=62, total=   0.9s\n",
            "[CV] n_estimators=645, min_samples_split=35, min_samples_leaf=1, max_features=sqrt, max_depth=62 \n",
            "[CV]  n_estimators=645, min_samples_split=35, min_samples_leaf=1, max_features=sqrt, max_depth=62, total=   0.9s\n",
            "[CV] n_estimators=645, min_samples_split=35, min_samples_leaf=1, max_features=sqrt, max_depth=62 \n",
            "[CV]  n_estimators=645, min_samples_split=35, min_samples_leaf=1, max_features=sqrt, max_depth=62, total=   0.9s\n",
            "[CV] n_estimators=645, min_samples_split=35, min_samples_leaf=1, max_features=sqrt, max_depth=62 \n",
            "[CV]  n_estimators=645, min_samples_split=35, min_samples_leaf=1, max_features=sqrt, max_depth=62, total=   0.9s\n",
            "[CV] n_estimators=645, min_samples_split=35, min_samples_leaf=1, max_features=sqrt, max_depth=62 \n",
            "[CV]  n_estimators=645, min_samples_split=35, min_samples_leaf=1, max_features=sqrt, max_depth=62, total=   1.0s\n",
            "[CV] n_estimators=645, min_samples_split=35, min_samples_leaf=1, max_features=sqrt, max_depth=62 \n",
            "[CV]  n_estimators=645, min_samples_split=35, min_samples_leaf=1, max_features=sqrt, max_depth=62, total=   1.0s\n",
            "[CV] n_estimators=645, min_samples_split=35, min_samples_leaf=1, max_features=sqrt, max_depth=62 \n",
            "[CV]  n_estimators=645, min_samples_split=35, min_samples_leaf=1, max_features=sqrt, max_depth=62, total=   1.0s\n",
            "[CV] n_estimators=645, min_samples_split=35, min_samples_leaf=1, max_features=sqrt, max_depth=62 \n",
            "[CV]  n_estimators=645, min_samples_split=35, min_samples_leaf=1, max_features=sqrt, max_depth=62, total=   0.9s\n",
            "[CV] n_estimators=645, min_samples_split=35, min_samples_leaf=1, max_features=sqrt, max_depth=62 \n",
            "[CV]  n_estimators=645, min_samples_split=35, min_samples_leaf=1, max_features=sqrt, max_depth=62, total=   0.9s\n",
            "[CV] n_estimators=645, min_samples_split=35, min_samples_leaf=1, max_features=sqrt, max_depth=62 \n",
            "[CV]  n_estimators=645, min_samples_split=35, min_samples_leaf=1, max_features=sqrt, max_depth=62, total=   0.9s\n",
            "[CV] n_estimators=645, min_samples_split=35, min_samples_leaf=1, max_features=sqrt, max_depth=62 \n",
            "[CV]  n_estimators=645, min_samples_split=35, min_samples_leaf=1, max_features=sqrt, max_depth=62, total=   0.9s\n",
            "[CV] n_estimators=645, min_samples_split=35, min_samples_leaf=1, max_features=sqrt, max_depth=62 \n",
            "[CV]  n_estimators=645, min_samples_split=35, min_samples_leaf=1, max_features=sqrt, max_depth=62, total=   0.9s\n",
            "[CV] n_estimators=1081, min_samples_split=45, min_samples_leaf=35, max_features=sqrt, max_depth=43 \n",
            "[CV]  n_estimators=1081, min_samples_split=45, min_samples_leaf=35, max_features=sqrt, max_depth=43, total=   1.5s\n",
            "[CV] n_estimators=1081, min_samples_split=45, min_samples_leaf=35, max_features=sqrt, max_depth=43 \n",
            "[CV]  n_estimators=1081, min_samples_split=45, min_samples_leaf=35, max_features=sqrt, max_depth=43, total=   1.5s\n",
            "[CV] n_estimators=1081, min_samples_split=45, min_samples_leaf=35, max_features=sqrt, max_depth=43 \n",
            "[CV]  n_estimators=1081, min_samples_split=45, min_samples_leaf=35, max_features=sqrt, max_depth=43, total=   1.5s\n",
            "[CV] n_estimators=1081, min_samples_split=45, min_samples_leaf=35, max_features=sqrt, max_depth=43 \n",
            "[CV]  n_estimators=1081, min_samples_split=45, min_samples_leaf=35, max_features=sqrt, max_depth=43, total=   1.5s\n",
            "[CV] n_estimators=1081, min_samples_split=45, min_samples_leaf=35, max_features=sqrt, max_depth=43 \n",
            "[CV]  n_estimators=1081, min_samples_split=45, min_samples_leaf=35, max_features=sqrt, max_depth=43, total=   1.5s\n",
            "[CV] n_estimators=1081, min_samples_split=45, min_samples_leaf=35, max_features=sqrt, max_depth=43 \n",
            "[CV]  n_estimators=1081, min_samples_split=45, min_samples_leaf=35, max_features=sqrt, max_depth=43, total=   1.5s\n",
            "[CV] n_estimators=1081, min_samples_split=45, min_samples_leaf=35, max_features=sqrt, max_depth=43 \n",
            "[CV]  n_estimators=1081, min_samples_split=45, min_samples_leaf=35, max_features=sqrt, max_depth=43, total=   1.5s\n",
            "[CV] n_estimators=1081, min_samples_split=45, min_samples_leaf=35, max_features=sqrt, max_depth=43 \n",
            "[CV]  n_estimators=1081, min_samples_split=45, min_samples_leaf=35, max_features=sqrt, max_depth=43, total=   1.5s\n",
            "[CV] n_estimators=1081, min_samples_split=45, min_samples_leaf=35, max_features=sqrt, max_depth=43 \n",
            "[CV]  n_estimators=1081, min_samples_split=45, min_samples_leaf=35, max_features=sqrt, max_depth=43, total=   1.5s\n",
            "[CV] n_estimators=1081, min_samples_split=45, min_samples_leaf=35, max_features=sqrt, max_depth=43 \n",
            "[CV]  n_estimators=1081, min_samples_split=45, min_samples_leaf=35, max_features=sqrt, max_depth=43, total=   1.4s\n",
            "[CV] n_estimators=1081, min_samples_split=45, min_samples_leaf=35, max_features=sqrt, max_depth=43 \n",
            "[CV]  n_estimators=1081, min_samples_split=45, min_samples_leaf=35, max_features=sqrt, max_depth=43, total=   1.5s\n",
            "[CV] n_estimators=1081, min_samples_split=45, min_samples_leaf=35, max_features=sqrt, max_depth=43 \n",
            "[CV]  n_estimators=1081, min_samples_split=45, min_samples_leaf=35, max_features=sqrt, max_depth=43, total=   1.5s\n",
            "[CV] n_estimators=1081, min_samples_split=45, min_samples_leaf=35, max_features=sqrt, max_depth=43 \n",
            "[CV]  n_estimators=1081, min_samples_split=45, min_samples_leaf=35, max_features=sqrt, max_depth=43, total=   1.4s\n",
            "[CV] n_estimators=1081, min_samples_split=45, min_samples_leaf=35, max_features=sqrt, max_depth=43 \n",
            "[CV]  n_estimators=1081, min_samples_split=45, min_samples_leaf=35, max_features=sqrt, max_depth=43, total=   1.5s\n",
            "[CV] n_estimators=1081, min_samples_split=45, min_samples_leaf=35, max_features=sqrt, max_depth=43 \n",
            "[CV]  n_estimators=1081, min_samples_split=45, min_samples_leaf=35, max_features=sqrt, max_depth=43, total=   1.5s\n",
            "[CV] n_estimators=1081, min_samples_split=45, min_samples_leaf=35, max_features=sqrt, max_depth=43 \n",
            "[CV]  n_estimators=1081, min_samples_split=45, min_samples_leaf=35, max_features=sqrt, max_depth=43, total=   1.5s\n",
            "[CV] n_estimators=1081, min_samples_split=45, min_samples_leaf=35, max_features=sqrt, max_depth=43 \n",
            "[CV]  n_estimators=1081, min_samples_split=45, min_samples_leaf=35, max_features=sqrt, max_depth=43, total=   1.5s\n",
            "[CV] n_estimators=1081, min_samples_split=45, min_samples_leaf=35, max_features=sqrt, max_depth=43 \n",
            "[CV]  n_estimators=1081, min_samples_split=45, min_samples_leaf=35, max_features=sqrt, max_depth=43, total=   1.5s\n",
            "[CV] n_estimators=1081, min_samples_split=45, min_samples_leaf=35, max_features=sqrt, max_depth=43 \n",
            "[CV]  n_estimators=1081, min_samples_split=45, min_samples_leaf=35, max_features=sqrt, max_depth=43, total=   1.5s\n",
            "[CV] n_estimators=1081, min_samples_split=45, min_samples_leaf=35, max_features=sqrt, max_depth=43 \n",
            "[CV]  n_estimators=1081, min_samples_split=45, min_samples_leaf=35, max_features=sqrt, max_depth=43, total=   1.5s\n",
            "[CV] n_estimators=1081, min_samples_split=25, min_samples_leaf=1, max_features=sqrt, max_depth=62 \n",
            "[CV]  n_estimators=1081, min_samples_split=25, min_samples_leaf=1, max_features=sqrt, max_depth=62, total=   1.5s\n",
            "[CV] n_estimators=1081, min_samples_split=25, min_samples_leaf=1, max_features=sqrt, max_depth=62 \n",
            "[CV]  n_estimators=1081, min_samples_split=25, min_samples_leaf=1, max_features=sqrt, max_depth=62, total=   1.8s\n",
            "[CV] n_estimators=1081, min_samples_split=25, min_samples_leaf=1, max_features=sqrt, max_depth=62 \n",
            "[CV]  n_estimators=1081, min_samples_split=25, min_samples_leaf=1, max_features=sqrt, max_depth=62, total=   1.6s\n",
            "[CV] n_estimators=1081, min_samples_split=25, min_samples_leaf=1, max_features=sqrt, max_depth=62 \n",
            "[CV]  n_estimators=1081, min_samples_split=25, min_samples_leaf=1, max_features=sqrt, max_depth=62, total=   1.5s\n",
            "[CV] n_estimators=1081, min_samples_split=25, min_samples_leaf=1, max_features=sqrt, max_depth=62 \n",
            "[CV]  n_estimators=1081, min_samples_split=25, min_samples_leaf=1, max_features=sqrt, max_depth=62, total=   1.6s\n",
            "[CV] n_estimators=1081, min_samples_split=25, min_samples_leaf=1, max_features=sqrt, max_depth=62 \n",
            "[CV]  n_estimators=1081, min_samples_split=25, min_samples_leaf=1, max_features=sqrt, max_depth=62, total=   1.7s\n",
            "[CV] n_estimators=1081, min_samples_split=25, min_samples_leaf=1, max_features=sqrt, max_depth=62 \n",
            "[CV]  n_estimators=1081, min_samples_split=25, min_samples_leaf=1, max_features=sqrt, max_depth=62, total=   1.6s\n",
            "[CV] n_estimators=1081, min_samples_split=25, min_samples_leaf=1, max_features=sqrt, max_depth=62 \n",
            "[CV]  n_estimators=1081, min_samples_split=25, min_samples_leaf=1, max_features=sqrt, max_depth=62, total=   1.6s\n",
            "[CV] n_estimators=1081, min_samples_split=25, min_samples_leaf=1, max_features=sqrt, max_depth=62 \n",
            "[CV]  n_estimators=1081, min_samples_split=25, min_samples_leaf=1, max_features=sqrt, max_depth=62, total=   1.6s\n",
            "[CV] n_estimators=1081, min_samples_split=25, min_samples_leaf=1, max_features=sqrt, max_depth=62 \n",
            "[CV]  n_estimators=1081, min_samples_split=25, min_samples_leaf=1, max_features=sqrt, max_depth=62, total=   1.6s\n",
            "[CV] n_estimators=1081, min_samples_split=25, min_samples_leaf=1, max_features=sqrt, max_depth=62 \n",
            "[CV]  n_estimators=1081, min_samples_split=25, min_samples_leaf=1, max_features=sqrt, max_depth=62, total=   1.6s\n",
            "[CV] n_estimators=1081, min_samples_split=25, min_samples_leaf=1, max_features=sqrt, max_depth=62 \n",
            "[CV]  n_estimators=1081, min_samples_split=25, min_samples_leaf=1, max_features=sqrt, max_depth=62, total=   1.6s\n",
            "[CV] n_estimators=1081, min_samples_split=25, min_samples_leaf=1, max_features=sqrt, max_depth=62 \n",
            "[CV]  n_estimators=1081, min_samples_split=25, min_samples_leaf=1, max_features=sqrt, max_depth=62, total=   1.6s\n",
            "[CV] n_estimators=1081, min_samples_split=25, min_samples_leaf=1, max_features=sqrt, max_depth=62 \n",
            "[CV]  n_estimators=1081, min_samples_split=25, min_samples_leaf=1, max_features=sqrt, max_depth=62, total=   1.6s\n",
            "[CV] n_estimators=1081, min_samples_split=25, min_samples_leaf=1, max_features=sqrt, max_depth=62 \n",
            "[CV]  n_estimators=1081, min_samples_split=25, min_samples_leaf=1, max_features=sqrt, max_depth=62, total=   1.6s\n",
            "[CV] n_estimators=1081, min_samples_split=25, min_samples_leaf=1, max_features=sqrt, max_depth=62 \n",
            "[CV]  n_estimators=1081, min_samples_split=25, min_samples_leaf=1, max_features=sqrt, max_depth=62, total=   1.6s\n",
            "[CV] n_estimators=1081, min_samples_split=25, min_samples_leaf=1, max_features=sqrt, max_depth=62 \n",
            "[CV]  n_estimators=1081, min_samples_split=25, min_samples_leaf=1, max_features=sqrt, max_depth=62, total=   1.6s\n",
            "[CV] n_estimators=1081, min_samples_split=25, min_samples_leaf=1, max_features=sqrt, max_depth=62 \n",
            "[CV]  n_estimators=1081, min_samples_split=25, min_samples_leaf=1, max_features=sqrt, max_depth=62, total=   1.6s\n",
            "[CV] n_estimators=1081, min_samples_split=25, min_samples_leaf=1, max_features=sqrt, max_depth=62 \n",
            "[CV]  n_estimators=1081, min_samples_split=25, min_samples_leaf=1, max_features=sqrt, max_depth=62, total=   1.6s\n",
            "[CV] n_estimators=1081, min_samples_split=25, min_samples_leaf=1, max_features=sqrt, max_depth=62 \n",
            "[CV]  n_estimators=1081, min_samples_split=25, min_samples_leaf=1, max_features=sqrt, max_depth=62, total=   1.6s\n",
            "[CV] n_estimators=100, min_samples_split=25, min_samples_leaf=25, max_features=sqrt, max_depth=62 \n",
            "[CV]  n_estimators=100, min_samples_split=25, min_samples_leaf=25, max_features=sqrt, max_depth=62, total=   0.1s\n",
            "[CV] n_estimators=100, min_samples_split=25, min_samples_leaf=25, max_features=sqrt, max_depth=62 \n",
            "[CV]  n_estimators=100, min_samples_split=25, min_samples_leaf=25, max_features=sqrt, max_depth=62, total=   0.2s\n",
            "[CV] n_estimators=100, min_samples_split=25, min_samples_leaf=25, max_features=sqrt, max_depth=62 \n",
            "[CV]  n_estimators=100, min_samples_split=25, min_samples_leaf=25, max_features=sqrt, max_depth=62, total=   0.1s\n",
            "[CV] n_estimators=100, min_samples_split=25, min_samples_leaf=25, max_features=sqrt, max_depth=62 \n",
            "[CV]  n_estimators=100, min_samples_split=25, min_samples_leaf=25, max_features=sqrt, max_depth=62, total=   0.1s\n",
            "[CV] n_estimators=100, min_samples_split=25, min_samples_leaf=25, max_features=sqrt, max_depth=62 \n",
            "[CV]  n_estimators=100, min_samples_split=25, min_samples_leaf=25, max_features=sqrt, max_depth=62, total=   0.1s\n",
            "[CV] n_estimators=100, min_samples_split=25, min_samples_leaf=25, max_features=sqrt, max_depth=62 \n",
            "[CV]  n_estimators=100, min_samples_split=25, min_samples_leaf=25, max_features=sqrt, max_depth=62, total=   0.2s\n",
            "[CV] n_estimators=100, min_samples_split=25, min_samples_leaf=25, max_features=sqrt, max_depth=62 \n",
            "[CV]  n_estimators=100, min_samples_split=25, min_samples_leaf=25, max_features=sqrt, max_depth=62, total=   0.1s\n",
            "[CV] n_estimators=100, min_samples_split=25, min_samples_leaf=25, max_features=sqrt, max_depth=62 \n",
            "[CV]  n_estimators=100, min_samples_split=25, min_samples_leaf=25, max_features=sqrt, max_depth=62, total=   0.2s\n",
            "[CV] n_estimators=100, min_samples_split=25, min_samples_leaf=25, max_features=sqrt, max_depth=62 \n",
            "[CV]  n_estimators=100, min_samples_split=25, min_samples_leaf=25, max_features=sqrt, max_depth=62, total=   0.1s\n",
            "[CV] n_estimators=100, min_samples_split=25, min_samples_leaf=25, max_features=sqrt, max_depth=62 \n",
            "[CV]  n_estimators=100, min_samples_split=25, min_samples_leaf=25, max_features=sqrt, max_depth=62, total=   0.1s\n",
            "[CV] n_estimators=100, min_samples_split=25, min_samples_leaf=25, max_features=sqrt, max_depth=62 \n",
            "[CV]  n_estimators=100, min_samples_split=25, min_samples_leaf=25, max_features=sqrt, max_depth=62, total=   0.1s\n",
            "[CV] n_estimators=100, min_samples_split=25, min_samples_leaf=25, max_features=sqrt, max_depth=62 \n",
            "[CV]  n_estimators=100, min_samples_split=25, min_samples_leaf=25, max_features=sqrt, max_depth=62, total=   0.2s\n",
            "[CV] n_estimators=100, min_samples_split=25, min_samples_leaf=25, max_features=sqrt, max_depth=62 \n",
            "[CV]  n_estimators=100, min_samples_split=25, min_samples_leaf=25, max_features=sqrt, max_depth=62, total=   0.1s\n",
            "[CV] n_estimators=100, min_samples_split=25, min_samples_leaf=25, max_features=sqrt, max_depth=62 \n",
            "[CV]  n_estimators=100, min_samples_split=25, min_samples_leaf=25, max_features=sqrt, max_depth=62, total=   0.1s\n",
            "[CV] n_estimators=100, min_samples_split=25, min_samples_leaf=25, max_features=sqrt, max_depth=62 \n",
            "[CV]  n_estimators=100, min_samples_split=25, min_samples_leaf=25, max_features=sqrt, max_depth=62, total=   0.1s\n",
            "[CV] n_estimators=100, min_samples_split=25, min_samples_leaf=25, max_features=sqrt, max_depth=62 \n",
            "[CV]  n_estimators=100, min_samples_split=25, min_samples_leaf=25, max_features=sqrt, max_depth=62, total=   0.2s\n",
            "[CV] n_estimators=100, min_samples_split=25, min_samples_leaf=25, max_features=sqrt, max_depth=62 \n",
            "[CV]  n_estimators=100, min_samples_split=25, min_samples_leaf=25, max_features=sqrt, max_depth=62, total=   0.2s\n",
            "[CV] n_estimators=100, min_samples_split=25, min_samples_leaf=25, max_features=sqrt, max_depth=62 \n",
            "[CV]  n_estimators=100, min_samples_split=25, min_samples_leaf=25, max_features=sqrt, max_depth=62, total=   0.2s\n",
            "[CV] n_estimators=100, min_samples_split=25, min_samples_leaf=25, max_features=sqrt, max_depth=62 \n",
            "[CV]  n_estimators=100, min_samples_split=25, min_samples_leaf=25, max_features=sqrt, max_depth=62, total=   0.1s\n",
            "[CV] n_estimators=100, min_samples_split=25, min_samples_leaf=25, max_features=sqrt, max_depth=62 \n",
            "[CV]  n_estimators=100, min_samples_split=25, min_samples_leaf=25, max_features=sqrt, max_depth=62, total=   0.1s\n",
            "[CV] n_estimators=972, min_samples_split=40, min_samples_leaf=35, max_features=sqrt, max_depth=5 \n",
            "[CV]  n_estimators=972, min_samples_split=40, min_samples_leaf=35, max_features=sqrt, max_depth=5, total=   1.4s\n",
            "[CV] n_estimators=972, min_samples_split=40, min_samples_leaf=35, max_features=sqrt, max_depth=5 \n",
            "[CV]  n_estimators=972, min_samples_split=40, min_samples_leaf=35, max_features=sqrt, max_depth=5, total=   1.3s\n",
            "[CV] n_estimators=972, min_samples_split=40, min_samples_leaf=35, max_features=sqrt, max_depth=5 \n",
            "[CV]  n_estimators=972, min_samples_split=40, min_samples_leaf=35, max_features=sqrt, max_depth=5, total=   1.4s\n",
            "[CV] n_estimators=972, min_samples_split=40, min_samples_leaf=35, max_features=sqrt, max_depth=5 \n",
            "[CV]  n_estimators=972, min_samples_split=40, min_samples_leaf=35, max_features=sqrt, max_depth=5, total=   1.4s\n",
            "[CV] n_estimators=972, min_samples_split=40, min_samples_leaf=35, max_features=sqrt, max_depth=5 \n",
            "[CV]  n_estimators=972, min_samples_split=40, min_samples_leaf=35, max_features=sqrt, max_depth=5, total=   1.3s\n",
            "[CV] n_estimators=972, min_samples_split=40, min_samples_leaf=35, max_features=sqrt, max_depth=5 \n",
            "[CV]  n_estimators=972, min_samples_split=40, min_samples_leaf=35, max_features=sqrt, max_depth=5, total=   1.4s\n",
            "[CV] n_estimators=972, min_samples_split=40, min_samples_leaf=35, max_features=sqrt, max_depth=5 \n",
            "[CV]  n_estimators=972, min_samples_split=40, min_samples_leaf=35, max_features=sqrt, max_depth=5, total=   1.3s\n",
            "[CV] n_estimators=972, min_samples_split=40, min_samples_leaf=35, max_features=sqrt, max_depth=5 \n",
            "[CV]  n_estimators=972, min_samples_split=40, min_samples_leaf=35, max_features=sqrt, max_depth=5, total=   1.4s\n",
            "[CV] n_estimators=972, min_samples_split=40, min_samples_leaf=35, max_features=sqrt, max_depth=5 \n",
            "[CV]  n_estimators=972, min_samples_split=40, min_samples_leaf=35, max_features=sqrt, max_depth=5, total=   1.3s\n",
            "[CV] n_estimators=972, min_samples_split=40, min_samples_leaf=35, max_features=sqrt, max_depth=5 \n",
            "[CV]  n_estimators=972, min_samples_split=40, min_samples_leaf=35, max_features=sqrt, max_depth=5, total=   1.3s\n",
            "[CV] n_estimators=972, min_samples_split=40, min_samples_leaf=35, max_features=sqrt, max_depth=5 \n",
            "[CV]  n_estimators=972, min_samples_split=40, min_samples_leaf=35, max_features=sqrt, max_depth=5, total=   1.4s\n",
            "[CV] n_estimators=972, min_samples_split=40, min_samples_leaf=35, max_features=sqrt, max_depth=5 \n",
            "[CV]  n_estimators=972, min_samples_split=40, min_samples_leaf=35, max_features=sqrt, max_depth=5, total=   1.3s\n",
            "[CV] n_estimators=972, min_samples_split=40, min_samples_leaf=35, max_features=sqrt, max_depth=5 \n",
            "[CV]  n_estimators=972, min_samples_split=40, min_samples_leaf=35, max_features=sqrt, max_depth=5, total=   1.3s\n",
            "[CV] n_estimators=972, min_samples_split=40, min_samples_leaf=35, max_features=sqrt, max_depth=5 \n",
            "[CV]  n_estimators=972, min_samples_split=40, min_samples_leaf=35, max_features=sqrt, max_depth=5, total=   1.4s\n",
            "[CV] n_estimators=972, min_samples_split=40, min_samples_leaf=35, max_features=sqrt, max_depth=5 \n",
            "[CV]  n_estimators=972, min_samples_split=40, min_samples_leaf=35, max_features=sqrt, max_depth=5, total=   1.4s\n",
            "[CV] n_estimators=972, min_samples_split=40, min_samples_leaf=35, max_features=sqrt, max_depth=5 \n",
            "[CV]  n_estimators=972, min_samples_split=40, min_samples_leaf=35, max_features=sqrt, max_depth=5, total=   1.3s\n",
            "[CV] n_estimators=972, min_samples_split=40, min_samples_leaf=35, max_features=sqrt, max_depth=5 \n",
            "[CV]  n_estimators=972, min_samples_split=40, min_samples_leaf=35, max_features=sqrt, max_depth=5, total=   1.3s\n",
            "[CV] n_estimators=972, min_samples_split=40, min_samples_leaf=35, max_features=sqrt, max_depth=5 \n",
            "[CV]  n_estimators=972, min_samples_split=40, min_samples_leaf=35, max_features=sqrt, max_depth=5, total=   1.4s\n",
            "[CV] n_estimators=972, min_samples_split=40, min_samples_leaf=35, max_features=sqrt, max_depth=5 \n",
            "[CV]  n_estimators=972, min_samples_split=40, min_samples_leaf=35, max_features=sqrt, max_depth=5, total=   1.3s\n",
            "[CV] n_estimators=972, min_samples_split=40, min_samples_leaf=35, max_features=sqrt, max_depth=5 \n",
            "[CV]  n_estimators=972, min_samples_split=40, min_samples_leaf=35, max_features=sqrt, max_depth=5, total=   1.3s\n",
            "[CV] n_estimators=863, min_samples_split=30, min_samples_leaf=40, max_features=auto, max_depth=100 \n",
            "[CV]  n_estimators=863, min_samples_split=30, min_samples_leaf=40, max_features=auto, max_depth=100, total=   1.4s\n",
            "[CV] n_estimators=863, min_samples_split=30, min_samples_leaf=40, max_features=auto, max_depth=100 \n",
            "[CV]  n_estimators=863, min_samples_split=30, min_samples_leaf=40, max_features=auto, max_depth=100, total=   1.2s\n",
            "[CV] n_estimators=863, min_samples_split=30, min_samples_leaf=40, max_features=auto, max_depth=100 \n",
            "[CV]  n_estimators=863, min_samples_split=30, min_samples_leaf=40, max_features=auto, max_depth=100, total=   1.2s\n",
            "[CV] n_estimators=863, min_samples_split=30, min_samples_leaf=40, max_features=auto, max_depth=100 \n",
            "[CV]  n_estimators=863, min_samples_split=30, min_samples_leaf=40, max_features=auto, max_depth=100, total=   1.2s\n",
            "[CV] n_estimators=863, min_samples_split=30, min_samples_leaf=40, max_features=auto, max_depth=100 \n",
            "[CV]  n_estimators=863, min_samples_split=30, min_samples_leaf=40, max_features=auto, max_depth=100, total=   1.2s\n",
            "[CV] n_estimators=863, min_samples_split=30, min_samples_leaf=40, max_features=auto, max_depth=100 \n",
            "[CV]  n_estimators=863, min_samples_split=30, min_samples_leaf=40, max_features=auto, max_depth=100, total=   1.2s\n",
            "[CV] n_estimators=863, min_samples_split=30, min_samples_leaf=40, max_features=auto, max_depth=100 \n",
            "[CV]  n_estimators=863, min_samples_split=30, min_samples_leaf=40, max_features=auto, max_depth=100, total=   1.2s\n",
            "[CV] n_estimators=863, min_samples_split=30, min_samples_leaf=40, max_features=auto, max_depth=100 \n",
            "[CV]  n_estimators=863, min_samples_split=30, min_samples_leaf=40, max_features=auto, max_depth=100, total=   1.2s\n",
            "[CV] n_estimators=863, min_samples_split=30, min_samples_leaf=40, max_features=auto, max_depth=100 \n",
            "[CV]  n_estimators=863, min_samples_split=30, min_samples_leaf=40, max_features=auto, max_depth=100, total=   1.2s\n",
            "[CV] n_estimators=863, min_samples_split=30, min_samples_leaf=40, max_features=auto, max_depth=100 \n",
            "[CV]  n_estimators=863, min_samples_split=30, min_samples_leaf=40, max_features=auto, max_depth=100, total=   1.2s\n",
            "[CV] n_estimators=863, min_samples_split=30, min_samples_leaf=40, max_features=auto, max_depth=100 \n",
            "[CV]  n_estimators=863, min_samples_split=30, min_samples_leaf=40, max_features=auto, max_depth=100, total=   1.2s\n",
            "[CV] n_estimators=863, min_samples_split=30, min_samples_leaf=40, max_features=auto, max_depth=100 \n",
            "[CV]  n_estimators=863, min_samples_split=30, min_samples_leaf=40, max_features=auto, max_depth=100, total=   1.2s\n",
            "[CV] n_estimators=863, min_samples_split=30, min_samples_leaf=40, max_features=auto, max_depth=100 \n",
            "[CV]  n_estimators=863, min_samples_split=30, min_samples_leaf=40, max_features=auto, max_depth=100, total=   1.3s\n",
            "[CV] n_estimators=863, min_samples_split=30, min_samples_leaf=40, max_features=auto, max_depth=100 \n",
            "[CV]  n_estimators=863, min_samples_split=30, min_samples_leaf=40, max_features=auto, max_depth=100, total=   1.2s\n",
            "[CV] n_estimators=863, min_samples_split=30, min_samples_leaf=40, max_features=auto, max_depth=100 \n",
            "[CV]  n_estimators=863, min_samples_split=30, min_samples_leaf=40, max_features=auto, max_depth=100, total=   1.2s\n",
            "[CV] n_estimators=863, min_samples_split=30, min_samples_leaf=40, max_features=auto, max_depth=100 \n",
            "[CV]  n_estimators=863, min_samples_split=30, min_samples_leaf=40, max_features=auto, max_depth=100, total=   1.2s\n",
            "[CV] n_estimators=863, min_samples_split=30, min_samples_leaf=40, max_features=auto, max_depth=100 \n",
            "[CV]  n_estimators=863, min_samples_split=30, min_samples_leaf=40, max_features=auto, max_depth=100, total=   1.3s\n",
            "[CV] n_estimators=863, min_samples_split=30, min_samples_leaf=40, max_features=auto, max_depth=100 \n",
            "[CV]  n_estimators=863, min_samples_split=30, min_samples_leaf=40, max_features=auto, max_depth=100, total=   1.2s\n",
            "[CV] n_estimators=863, min_samples_split=30, min_samples_leaf=40, max_features=auto, max_depth=100 \n",
            "[CV]  n_estimators=863, min_samples_split=30, min_samples_leaf=40, max_features=auto, max_depth=100, total=   1.2s\n",
            "[CV] n_estimators=863, min_samples_split=30, min_samples_leaf=40, max_features=auto, max_depth=100 \n",
            "[CV]  n_estimators=863, min_samples_split=30, min_samples_leaf=40, max_features=auto, max_depth=100, total=   1.2s\n",
            "[CV] n_estimators=1300, min_samples_split=100, min_samples_leaf=35, max_features=sqrt, max_depth=100 \n",
            "[CV]  n_estimators=1300, min_samples_split=100, min_samples_leaf=35, max_features=sqrt, max_depth=100, total=   1.8s\n",
            "[CV] n_estimators=1300, min_samples_split=100, min_samples_leaf=35, max_features=sqrt, max_depth=100 \n",
            "[CV]  n_estimators=1300, min_samples_split=100, min_samples_leaf=35, max_features=sqrt, max_depth=100, total=   1.8s\n",
            "[CV] n_estimators=1300, min_samples_split=100, min_samples_leaf=35, max_features=sqrt, max_depth=100 \n",
            "[CV]  n_estimators=1300, min_samples_split=100, min_samples_leaf=35, max_features=sqrt, max_depth=100, total=   1.8s\n",
            "[CV] n_estimators=1300, min_samples_split=100, min_samples_leaf=35, max_features=sqrt, max_depth=100 \n",
            "[CV]  n_estimators=1300, min_samples_split=100, min_samples_leaf=35, max_features=sqrt, max_depth=100, total=   1.8s\n",
            "[CV] n_estimators=1300, min_samples_split=100, min_samples_leaf=35, max_features=sqrt, max_depth=100 \n",
            "[CV]  n_estimators=1300, min_samples_split=100, min_samples_leaf=35, max_features=sqrt, max_depth=100, total=   1.8s\n",
            "[CV] n_estimators=1300, min_samples_split=100, min_samples_leaf=35, max_features=sqrt, max_depth=100 \n",
            "[CV]  n_estimators=1300, min_samples_split=100, min_samples_leaf=35, max_features=sqrt, max_depth=100, total=   1.8s\n",
            "[CV] n_estimators=1300, min_samples_split=100, min_samples_leaf=35, max_features=sqrt, max_depth=100 \n",
            "[CV]  n_estimators=1300, min_samples_split=100, min_samples_leaf=35, max_features=sqrt, max_depth=100, total=   1.8s\n",
            "[CV] n_estimators=1300, min_samples_split=100, min_samples_leaf=35, max_features=sqrt, max_depth=100 \n",
            "[CV]  n_estimators=1300, min_samples_split=100, min_samples_leaf=35, max_features=sqrt, max_depth=100, total=   1.8s\n",
            "[CV] n_estimators=1300, min_samples_split=100, min_samples_leaf=35, max_features=sqrt, max_depth=100 \n",
            "[CV]  n_estimators=1300, min_samples_split=100, min_samples_leaf=35, max_features=sqrt, max_depth=100, total=   1.8s\n",
            "[CV] n_estimators=1300, min_samples_split=100, min_samples_leaf=35, max_features=sqrt, max_depth=100 \n",
            "[CV]  n_estimators=1300, min_samples_split=100, min_samples_leaf=35, max_features=sqrt, max_depth=100, total=   1.8s\n",
            "[CV] n_estimators=1300, min_samples_split=100, min_samples_leaf=35, max_features=sqrt, max_depth=100 \n",
            "[CV]  n_estimators=1300, min_samples_split=100, min_samples_leaf=35, max_features=sqrt, max_depth=100, total=   1.8s\n",
            "[CV] n_estimators=1300, min_samples_split=100, min_samples_leaf=35, max_features=sqrt, max_depth=100 \n",
            "[CV]  n_estimators=1300, min_samples_split=100, min_samples_leaf=35, max_features=sqrt, max_depth=100, total=   1.8s\n",
            "[CV] n_estimators=1300, min_samples_split=100, min_samples_leaf=35, max_features=sqrt, max_depth=100 \n",
            "[CV]  n_estimators=1300, min_samples_split=100, min_samples_leaf=35, max_features=sqrt, max_depth=100, total=   1.8s\n",
            "[CV] n_estimators=1300, min_samples_split=100, min_samples_leaf=35, max_features=sqrt, max_depth=100 \n",
            "[CV]  n_estimators=1300, min_samples_split=100, min_samples_leaf=35, max_features=sqrt, max_depth=100, total=   1.8s\n",
            "[CV] n_estimators=1300, min_samples_split=100, min_samples_leaf=35, max_features=sqrt, max_depth=100 \n",
            "[CV]  n_estimators=1300, min_samples_split=100, min_samples_leaf=35, max_features=sqrt, max_depth=100, total=   1.8s\n",
            "[CV] n_estimators=1300, min_samples_split=100, min_samples_leaf=35, max_features=sqrt, max_depth=100 \n",
            "[CV]  n_estimators=1300, min_samples_split=100, min_samples_leaf=35, max_features=sqrt, max_depth=100, total=   1.8s\n",
            "[CV] n_estimators=1300, min_samples_split=100, min_samples_leaf=35, max_features=sqrt, max_depth=100 \n",
            "[CV]  n_estimators=1300, min_samples_split=100, min_samples_leaf=35, max_features=sqrt, max_depth=100, total=   1.7s\n",
            "[CV] n_estimators=1300, min_samples_split=100, min_samples_leaf=35, max_features=sqrt, max_depth=100 \n",
            "[CV]  n_estimators=1300, min_samples_split=100, min_samples_leaf=35, max_features=sqrt, max_depth=100, total=   1.8s\n",
            "[CV] n_estimators=1300, min_samples_split=100, min_samples_leaf=35, max_features=sqrt, max_depth=100 \n",
            "[CV]  n_estimators=1300, min_samples_split=100, min_samples_leaf=35, max_features=sqrt, max_depth=100, total=   1.7s\n",
            "[CV] n_estimators=1300, min_samples_split=100, min_samples_leaf=35, max_features=sqrt, max_depth=100 \n",
            "[CV]  n_estimators=1300, min_samples_split=100, min_samples_leaf=35, max_features=sqrt, max_depth=100, total=   1.7s\n",
            "[CV] n_estimators=318, min_samples_split=25, min_samples_leaf=15, max_features=auto, max_depth=81 \n",
            "[CV]  n_estimators=318, min_samples_split=25, min_samples_leaf=15, max_features=auto, max_depth=81, total=   0.5s\n",
            "[CV] n_estimators=318, min_samples_split=25, min_samples_leaf=15, max_features=auto, max_depth=81 \n",
            "[CV]  n_estimators=318, min_samples_split=25, min_samples_leaf=15, max_features=auto, max_depth=81, total=   0.4s\n",
            "[CV] n_estimators=318, min_samples_split=25, min_samples_leaf=15, max_features=auto, max_depth=81 \n",
            "[CV]  n_estimators=318, min_samples_split=25, min_samples_leaf=15, max_features=auto, max_depth=81, total=   0.5s\n",
            "[CV] n_estimators=318, min_samples_split=25, min_samples_leaf=15, max_features=auto, max_depth=81 \n",
            "[CV]  n_estimators=318, min_samples_split=25, min_samples_leaf=15, max_features=auto, max_depth=81, total=   0.5s\n",
            "[CV] n_estimators=318, min_samples_split=25, min_samples_leaf=15, max_features=auto, max_depth=81 \n",
            "[CV]  n_estimators=318, min_samples_split=25, min_samples_leaf=15, max_features=auto, max_depth=81, total=   0.5s\n",
            "[CV] n_estimators=318, min_samples_split=25, min_samples_leaf=15, max_features=auto, max_depth=81 \n",
            "[CV]  n_estimators=318, min_samples_split=25, min_samples_leaf=15, max_features=auto, max_depth=81, total=   0.5s\n",
            "[CV] n_estimators=318, min_samples_split=25, min_samples_leaf=15, max_features=auto, max_depth=81 \n",
            "[CV]  n_estimators=318, min_samples_split=25, min_samples_leaf=15, max_features=auto, max_depth=81, total=   0.5s\n",
            "[CV] n_estimators=318, min_samples_split=25, min_samples_leaf=15, max_features=auto, max_depth=81 \n",
            "[CV]  n_estimators=318, min_samples_split=25, min_samples_leaf=15, max_features=auto, max_depth=81, total=   0.4s\n",
            "[CV] n_estimators=318, min_samples_split=25, min_samples_leaf=15, max_features=auto, max_depth=81 \n",
            "[CV]  n_estimators=318, min_samples_split=25, min_samples_leaf=15, max_features=auto, max_depth=81, total=   0.5s\n",
            "[CV] n_estimators=318, min_samples_split=25, min_samples_leaf=15, max_features=auto, max_depth=81 \n",
            "[CV]  n_estimators=318, min_samples_split=25, min_samples_leaf=15, max_features=auto, max_depth=81, total=   0.5s\n",
            "[CV] n_estimators=318, min_samples_split=25, min_samples_leaf=15, max_features=auto, max_depth=81 \n",
            "[CV]  n_estimators=318, min_samples_split=25, min_samples_leaf=15, max_features=auto, max_depth=81, total=   0.5s\n",
            "[CV] n_estimators=318, min_samples_split=25, min_samples_leaf=15, max_features=auto, max_depth=81 \n",
            "[CV]  n_estimators=318, min_samples_split=25, min_samples_leaf=15, max_features=auto, max_depth=81, total=   0.7s\n",
            "[CV] n_estimators=318, min_samples_split=25, min_samples_leaf=15, max_features=auto, max_depth=81 \n",
            "[CV]  n_estimators=318, min_samples_split=25, min_samples_leaf=15, max_features=auto, max_depth=81, total=   0.5s\n",
            "[CV] n_estimators=318, min_samples_split=25, min_samples_leaf=15, max_features=auto, max_depth=81 \n",
            "[CV]  n_estimators=318, min_samples_split=25, min_samples_leaf=15, max_features=auto, max_depth=81, total=   0.5s\n",
            "[CV] n_estimators=318, min_samples_split=25, min_samples_leaf=15, max_features=auto, max_depth=81 \n",
            "[CV]  n_estimators=318, min_samples_split=25, min_samples_leaf=15, max_features=auto, max_depth=81, total=   0.5s\n",
            "[CV] n_estimators=318, min_samples_split=25, min_samples_leaf=15, max_features=auto, max_depth=81 \n",
            "[CV]  n_estimators=318, min_samples_split=25, min_samples_leaf=15, max_features=auto, max_depth=81, total=   0.5s\n",
            "[CV] n_estimators=318, min_samples_split=25, min_samples_leaf=15, max_features=auto, max_depth=81 \n",
            "[CV]  n_estimators=318, min_samples_split=25, min_samples_leaf=15, max_features=auto, max_depth=81, total=   0.5s\n",
            "[CV] n_estimators=318, min_samples_split=25, min_samples_leaf=15, max_features=auto, max_depth=81 \n",
            "[CV]  n_estimators=318, min_samples_split=25, min_samples_leaf=15, max_features=auto, max_depth=81, total=   0.5s\n",
            "[CV] n_estimators=318, min_samples_split=25, min_samples_leaf=15, max_features=auto, max_depth=81 \n",
            "[CV]  n_estimators=318, min_samples_split=25, min_samples_leaf=15, max_features=auto, max_depth=81, total=   0.4s\n",
            "[CV] n_estimators=318, min_samples_split=25, min_samples_leaf=15, max_features=auto, max_depth=81 \n",
            "[CV]  n_estimators=318, min_samples_split=25, min_samples_leaf=15, max_features=auto, max_depth=81, total=   0.5s\n",
            "[CV] n_estimators=754, min_samples_split=15, min_samples_leaf=30, max_features=sqrt, max_depth=43 \n",
            "[CV]  n_estimators=754, min_samples_split=15, min_samples_leaf=30, max_features=sqrt, max_depth=43, total=   1.0s\n",
            "[CV] n_estimators=754, min_samples_split=15, min_samples_leaf=30, max_features=sqrt, max_depth=43 \n",
            "[CV]  n_estimators=754, min_samples_split=15, min_samples_leaf=30, max_features=sqrt, max_depth=43, total=   1.0s\n",
            "[CV] n_estimators=754, min_samples_split=15, min_samples_leaf=30, max_features=sqrt, max_depth=43 \n",
            "[CV]  n_estimators=754, min_samples_split=15, min_samples_leaf=30, max_features=sqrt, max_depth=43, total=   1.0s\n",
            "[CV] n_estimators=754, min_samples_split=15, min_samples_leaf=30, max_features=sqrt, max_depth=43 \n",
            "[CV]  n_estimators=754, min_samples_split=15, min_samples_leaf=30, max_features=sqrt, max_depth=43, total=   1.1s\n",
            "[CV] n_estimators=754, min_samples_split=15, min_samples_leaf=30, max_features=sqrt, max_depth=43 \n",
            "[CV]  n_estimators=754, min_samples_split=15, min_samples_leaf=30, max_features=sqrt, max_depth=43, total=   1.0s\n",
            "[CV] n_estimators=754, min_samples_split=15, min_samples_leaf=30, max_features=sqrt, max_depth=43 \n",
            "[CV]  n_estimators=754, min_samples_split=15, min_samples_leaf=30, max_features=sqrt, max_depth=43, total=   1.0s\n",
            "[CV] n_estimators=754, min_samples_split=15, min_samples_leaf=30, max_features=sqrt, max_depth=43 \n",
            "[CV]  n_estimators=754, min_samples_split=15, min_samples_leaf=30, max_features=sqrt, max_depth=43, total=   1.0s\n",
            "[CV] n_estimators=754, min_samples_split=15, min_samples_leaf=30, max_features=sqrt, max_depth=43 \n",
            "[CV]  n_estimators=754, min_samples_split=15, min_samples_leaf=30, max_features=sqrt, max_depth=43, total=   1.0s\n",
            "[CV] n_estimators=754, min_samples_split=15, min_samples_leaf=30, max_features=sqrt, max_depth=43 \n",
            "[CV]  n_estimators=754, min_samples_split=15, min_samples_leaf=30, max_features=sqrt, max_depth=43, total=   1.1s\n",
            "[CV] n_estimators=754, min_samples_split=15, min_samples_leaf=30, max_features=sqrt, max_depth=43 \n",
            "[CV]  n_estimators=754, min_samples_split=15, min_samples_leaf=30, max_features=sqrt, max_depth=43, total=   1.0s\n",
            "[CV] n_estimators=754, min_samples_split=15, min_samples_leaf=30, max_features=sqrt, max_depth=43 \n",
            "[CV]  n_estimators=754, min_samples_split=15, min_samples_leaf=30, max_features=sqrt, max_depth=43, total=   1.0s\n",
            "[CV] n_estimators=754, min_samples_split=15, min_samples_leaf=30, max_features=sqrt, max_depth=43 \n",
            "[CV]  n_estimators=754, min_samples_split=15, min_samples_leaf=30, max_features=sqrt, max_depth=43, total=   1.1s\n",
            "[CV] n_estimators=754, min_samples_split=15, min_samples_leaf=30, max_features=sqrt, max_depth=43 \n",
            "[CV]  n_estimators=754, min_samples_split=15, min_samples_leaf=30, max_features=sqrt, max_depth=43, total=   1.0s\n",
            "[CV] n_estimators=754, min_samples_split=15, min_samples_leaf=30, max_features=sqrt, max_depth=43 \n",
            "[CV]  n_estimators=754, min_samples_split=15, min_samples_leaf=30, max_features=sqrt, max_depth=43, total=   1.0s\n",
            "[CV] n_estimators=754, min_samples_split=15, min_samples_leaf=30, max_features=sqrt, max_depth=43 \n",
            "[CV]  n_estimators=754, min_samples_split=15, min_samples_leaf=30, max_features=sqrt, max_depth=43, total=   1.0s\n",
            "[CV] n_estimators=754, min_samples_split=15, min_samples_leaf=30, max_features=sqrt, max_depth=43 \n",
            "[CV]  n_estimators=754, min_samples_split=15, min_samples_leaf=30, max_features=sqrt, max_depth=43, total=   1.0s\n",
            "[CV] n_estimators=754, min_samples_split=15, min_samples_leaf=30, max_features=sqrt, max_depth=43 \n",
            "[CV]  n_estimators=754, min_samples_split=15, min_samples_leaf=30, max_features=sqrt, max_depth=43, total=   1.0s\n",
            "[CV] n_estimators=754, min_samples_split=15, min_samples_leaf=30, max_features=sqrt, max_depth=43 \n",
            "[CV]  n_estimators=754, min_samples_split=15, min_samples_leaf=30, max_features=sqrt, max_depth=43, total=   1.0s\n",
            "[CV] n_estimators=754, min_samples_split=15, min_samples_leaf=30, max_features=sqrt, max_depth=43 \n",
            "[CV]  n_estimators=754, min_samples_split=15, min_samples_leaf=30, max_features=sqrt, max_depth=43, total=   1.0s\n",
            "[CV] n_estimators=754, min_samples_split=15, min_samples_leaf=30, max_features=sqrt, max_depth=43 \n",
            "[CV]  n_estimators=754, min_samples_split=15, min_samples_leaf=30, max_features=sqrt, max_depth=43, total=   1.0s\n",
            "[CV] n_estimators=1081, min_samples_split=5, min_samples_leaf=1, max_features=auto, max_depth=100 \n",
            "[CV]  n_estimators=1081, min_samples_split=5, min_samples_leaf=1, max_features=auto, max_depth=100, total=   1.6s\n",
            "[CV] n_estimators=1081, min_samples_split=5, min_samples_leaf=1, max_features=auto, max_depth=100 \n",
            "[CV]  n_estimators=1081, min_samples_split=5, min_samples_leaf=1, max_features=auto, max_depth=100, total=   1.6s\n",
            "[CV] n_estimators=1081, min_samples_split=5, min_samples_leaf=1, max_features=auto, max_depth=100 \n",
            "[CV]  n_estimators=1081, min_samples_split=5, min_samples_leaf=1, max_features=auto, max_depth=100, total=   1.7s\n",
            "[CV] n_estimators=1081, min_samples_split=5, min_samples_leaf=1, max_features=auto, max_depth=100 \n",
            "[CV]  n_estimators=1081, min_samples_split=5, min_samples_leaf=1, max_features=auto, max_depth=100, total=   1.6s\n",
            "[CV] n_estimators=1081, min_samples_split=5, min_samples_leaf=1, max_features=auto, max_depth=100 \n",
            "[CV]  n_estimators=1081, min_samples_split=5, min_samples_leaf=1, max_features=auto, max_depth=100, total=   1.6s\n",
            "[CV] n_estimators=1081, min_samples_split=5, min_samples_leaf=1, max_features=auto, max_depth=100 \n",
            "[CV]  n_estimators=1081, min_samples_split=5, min_samples_leaf=1, max_features=auto, max_depth=100, total=   1.6s\n",
            "[CV] n_estimators=1081, min_samples_split=5, min_samples_leaf=1, max_features=auto, max_depth=100 \n",
            "[CV]  n_estimators=1081, min_samples_split=5, min_samples_leaf=1, max_features=auto, max_depth=100, total=   1.6s\n",
            "[CV] n_estimators=1081, min_samples_split=5, min_samples_leaf=1, max_features=auto, max_depth=100 \n",
            "[CV]  n_estimators=1081, min_samples_split=5, min_samples_leaf=1, max_features=auto, max_depth=100, total=   1.6s\n",
            "[CV] n_estimators=1081, min_samples_split=5, min_samples_leaf=1, max_features=auto, max_depth=100 \n",
            "[CV]  n_estimators=1081, min_samples_split=5, min_samples_leaf=1, max_features=auto, max_depth=100, total=   1.6s\n",
            "[CV] n_estimators=1081, min_samples_split=5, min_samples_leaf=1, max_features=auto, max_depth=100 \n",
            "[CV]  n_estimators=1081, min_samples_split=5, min_samples_leaf=1, max_features=auto, max_depth=100, total=   1.6s\n",
            "[CV] n_estimators=1081, min_samples_split=5, min_samples_leaf=1, max_features=auto, max_depth=100 \n",
            "[CV]  n_estimators=1081, min_samples_split=5, min_samples_leaf=1, max_features=auto, max_depth=100, total=   1.6s\n",
            "[CV] n_estimators=1081, min_samples_split=5, min_samples_leaf=1, max_features=auto, max_depth=100 \n",
            "[CV]  n_estimators=1081, min_samples_split=5, min_samples_leaf=1, max_features=auto, max_depth=100, total=   1.6s\n",
            "[CV] n_estimators=1081, min_samples_split=5, min_samples_leaf=1, max_features=auto, max_depth=100 \n",
            "[CV]  n_estimators=1081, min_samples_split=5, min_samples_leaf=1, max_features=auto, max_depth=100, total=   1.6s\n",
            "[CV] n_estimators=1081, min_samples_split=5, min_samples_leaf=1, max_features=auto, max_depth=100 \n",
            "[CV]  n_estimators=1081, min_samples_split=5, min_samples_leaf=1, max_features=auto, max_depth=100, total=   1.6s\n",
            "[CV] n_estimators=1081, min_samples_split=5, min_samples_leaf=1, max_features=auto, max_depth=100 \n",
            "[CV]  n_estimators=1081, min_samples_split=5, min_samples_leaf=1, max_features=auto, max_depth=100, total=   1.6s\n",
            "[CV] n_estimators=1081, min_samples_split=5, min_samples_leaf=1, max_features=auto, max_depth=100 \n",
            "[CV]  n_estimators=1081, min_samples_split=5, min_samples_leaf=1, max_features=auto, max_depth=100, total=   1.6s\n",
            "[CV] n_estimators=1081, min_samples_split=5, min_samples_leaf=1, max_features=auto, max_depth=100 \n",
            "[CV]  n_estimators=1081, min_samples_split=5, min_samples_leaf=1, max_features=auto, max_depth=100, total=   1.6s\n",
            "[CV] n_estimators=1081, min_samples_split=5, min_samples_leaf=1, max_features=auto, max_depth=100 \n",
            "[CV]  n_estimators=1081, min_samples_split=5, min_samples_leaf=1, max_features=auto, max_depth=100, total=   1.6s\n",
            "[CV] n_estimators=1081, min_samples_split=5, min_samples_leaf=1, max_features=auto, max_depth=100 \n",
            "[CV]  n_estimators=1081, min_samples_split=5, min_samples_leaf=1, max_features=auto, max_depth=100, total=   1.6s\n",
            "[CV] n_estimators=1081, min_samples_split=5, min_samples_leaf=1, max_features=auto, max_depth=100 \n",
            "[CV]  n_estimators=1081, min_samples_split=5, min_samples_leaf=1, max_features=auto, max_depth=100, total=   1.6s\n",
            "[CV] n_estimators=972, min_samples_split=45, min_samples_leaf=2, max_features=auto, max_depth=24 \n",
            "[CV]  n_estimators=972, min_samples_split=45, min_samples_leaf=2, max_features=auto, max_depth=24, total=   1.3s\n",
            "[CV] n_estimators=972, min_samples_split=45, min_samples_leaf=2, max_features=auto, max_depth=24 \n",
            "[CV]  n_estimators=972, min_samples_split=45, min_samples_leaf=2, max_features=auto, max_depth=24, total=   1.3s\n",
            "[CV] n_estimators=972, min_samples_split=45, min_samples_leaf=2, max_features=auto, max_depth=24 \n",
            "[CV]  n_estimators=972, min_samples_split=45, min_samples_leaf=2, max_features=auto, max_depth=24, total=   1.4s\n",
            "[CV] n_estimators=972, min_samples_split=45, min_samples_leaf=2, max_features=auto, max_depth=24 \n",
            "[CV]  n_estimators=972, min_samples_split=45, min_samples_leaf=2, max_features=auto, max_depth=24, total=   1.3s\n",
            "[CV] n_estimators=972, min_samples_split=45, min_samples_leaf=2, max_features=auto, max_depth=24 \n",
            "[CV]  n_estimators=972, min_samples_split=45, min_samples_leaf=2, max_features=auto, max_depth=24, total=   1.4s\n",
            "[CV] n_estimators=972, min_samples_split=45, min_samples_leaf=2, max_features=auto, max_depth=24 \n",
            "[CV]  n_estimators=972, min_samples_split=45, min_samples_leaf=2, max_features=auto, max_depth=24, total=   1.3s\n",
            "[CV] n_estimators=972, min_samples_split=45, min_samples_leaf=2, max_features=auto, max_depth=24 \n",
            "[CV]  n_estimators=972, min_samples_split=45, min_samples_leaf=2, max_features=auto, max_depth=24, total=   1.3s\n",
            "[CV] n_estimators=972, min_samples_split=45, min_samples_leaf=2, max_features=auto, max_depth=24 \n",
            "[CV]  n_estimators=972, min_samples_split=45, min_samples_leaf=2, max_features=auto, max_depth=24, total=   1.5s\n",
            "[CV] n_estimators=972, min_samples_split=45, min_samples_leaf=2, max_features=auto, max_depth=24 \n",
            "[CV]  n_estimators=972, min_samples_split=45, min_samples_leaf=2, max_features=auto, max_depth=24, total=   1.3s\n",
            "[CV] n_estimators=972, min_samples_split=45, min_samples_leaf=2, max_features=auto, max_depth=24 \n",
            "[CV]  n_estimators=972, min_samples_split=45, min_samples_leaf=2, max_features=auto, max_depth=24, total=   1.3s\n",
            "[CV] n_estimators=972, min_samples_split=45, min_samples_leaf=2, max_features=auto, max_depth=24 \n",
            "[CV]  n_estimators=972, min_samples_split=45, min_samples_leaf=2, max_features=auto, max_depth=24, total=   1.3s\n",
            "[CV] n_estimators=972, min_samples_split=45, min_samples_leaf=2, max_features=auto, max_depth=24 \n",
            "[CV]  n_estimators=972, min_samples_split=45, min_samples_leaf=2, max_features=auto, max_depth=24, total=   1.3s\n",
            "[CV] n_estimators=972, min_samples_split=45, min_samples_leaf=2, max_features=auto, max_depth=24 \n",
            "[CV]  n_estimators=972, min_samples_split=45, min_samples_leaf=2, max_features=auto, max_depth=24, total=   1.3s\n",
            "[CV] n_estimators=972, min_samples_split=45, min_samples_leaf=2, max_features=auto, max_depth=24 \n",
            "[CV]  n_estimators=972, min_samples_split=45, min_samples_leaf=2, max_features=auto, max_depth=24, total=   1.3s\n",
            "[CV] n_estimators=972, min_samples_split=45, min_samples_leaf=2, max_features=auto, max_depth=24 \n",
            "[CV]  n_estimators=972, min_samples_split=45, min_samples_leaf=2, max_features=auto, max_depth=24, total=   1.4s\n",
            "[CV] n_estimators=972, min_samples_split=45, min_samples_leaf=2, max_features=auto, max_depth=24 \n",
            "[CV]  n_estimators=972, min_samples_split=45, min_samples_leaf=2, max_features=auto, max_depth=24, total=   1.4s\n",
            "[CV] n_estimators=972, min_samples_split=45, min_samples_leaf=2, max_features=auto, max_depth=24 \n",
            "[CV]  n_estimators=972, min_samples_split=45, min_samples_leaf=2, max_features=auto, max_depth=24, total=   1.3s\n",
            "[CV] n_estimators=972, min_samples_split=45, min_samples_leaf=2, max_features=auto, max_depth=24 \n",
            "[CV]  n_estimators=972, min_samples_split=45, min_samples_leaf=2, max_features=auto, max_depth=24, total=   1.4s\n",
            "[CV] n_estimators=972, min_samples_split=45, min_samples_leaf=2, max_features=auto, max_depth=24 \n",
            "[CV]  n_estimators=972, min_samples_split=45, min_samples_leaf=2, max_features=auto, max_depth=24, total=   1.4s\n",
            "[CV] n_estimators=972, min_samples_split=45, min_samples_leaf=2, max_features=auto, max_depth=24 \n",
            "[CV]  n_estimators=972, min_samples_split=45, min_samples_leaf=2, max_features=auto, max_depth=24, total=   1.3s\n",
            "[CV] n_estimators=209, min_samples_split=2, min_samples_leaf=2, max_features=sqrt, max_depth=5 \n",
            "[CV]  n_estimators=209, min_samples_split=2, min_samples_leaf=2, max_features=sqrt, max_depth=5, total=   0.3s\n",
            "[CV] n_estimators=209, min_samples_split=2, min_samples_leaf=2, max_features=sqrt, max_depth=5 \n",
            "[CV]  n_estimators=209, min_samples_split=2, min_samples_leaf=2, max_features=sqrt, max_depth=5, total=   0.3s\n",
            "[CV] n_estimators=209, min_samples_split=2, min_samples_leaf=2, max_features=sqrt, max_depth=5 \n",
            "[CV]  n_estimators=209, min_samples_split=2, min_samples_leaf=2, max_features=sqrt, max_depth=5, total=   0.3s\n",
            "[CV] n_estimators=209, min_samples_split=2, min_samples_leaf=2, max_features=sqrt, max_depth=5 \n",
            "[CV]  n_estimators=209, min_samples_split=2, min_samples_leaf=2, max_features=sqrt, max_depth=5, total=   0.3s\n",
            "[CV] n_estimators=209, min_samples_split=2, min_samples_leaf=2, max_features=sqrt, max_depth=5 \n",
            "[CV]  n_estimators=209, min_samples_split=2, min_samples_leaf=2, max_features=sqrt, max_depth=5, total=   0.3s\n",
            "[CV] n_estimators=209, min_samples_split=2, min_samples_leaf=2, max_features=sqrt, max_depth=5 \n",
            "[CV]  n_estimators=209, min_samples_split=2, min_samples_leaf=2, max_features=sqrt, max_depth=5, total=   0.3s\n",
            "[CV] n_estimators=209, min_samples_split=2, min_samples_leaf=2, max_features=sqrt, max_depth=5 \n",
            "[CV]  n_estimators=209, min_samples_split=2, min_samples_leaf=2, max_features=sqrt, max_depth=5, total=   0.3s\n",
            "[CV] n_estimators=209, min_samples_split=2, min_samples_leaf=2, max_features=sqrt, max_depth=5 \n",
            "[CV]  n_estimators=209, min_samples_split=2, min_samples_leaf=2, max_features=sqrt, max_depth=5, total=   0.3s\n",
            "[CV] n_estimators=209, min_samples_split=2, min_samples_leaf=2, max_features=sqrt, max_depth=5 \n",
            "[CV]  n_estimators=209, min_samples_split=2, min_samples_leaf=2, max_features=sqrt, max_depth=5, total=   0.3s\n",
            "[CV] n_estimators=209, min_samples_split=2, min_samples_leaf=2, max_features=sqrt, max_depth=5 \n",
            "[CV]  n_estimators=209, min_samples_split=2, min_samples_leaf=2, max_features=sqrt, max_depth=5, total=   0.3s\n",
            "[CV] n_estimators=209, min_samples_split=2, min_samples_leaf=2, max_features=sqrt, max_depth=5 \n",
            "[CV]  n_estimators=209, min_samples_split=2, min_samples_leaf=2, max_features=sqrt, max_depth=5, total=   0.3s\n",
            "[CV] n_estimators=209, min_samples_split=2, min_samples_leaf=2, max_features=sqrt, max_depth=5 \n",
            "[CV]  n_estimators=209, min_samples_split=2, min_samples_leaf=2, max_features=sqrt, max_depth=5, total=   0.3s\n",
            "[CV] n_estimators=209, min_samples_split=2, min_samples_leaf=2, max_features=sqrt, max_depth=5 \n",
            "[CV]  n_estimators=209, min_samples_split=2, min_samples_leaf=2, max_features=sqrt, max_depth=5, total=   0.3s\n",
            "[CV] n_estimators=209, min_samples_split=2, min_samples_leaf=2, max_features=sqrt, max_depth=5 \n",
            "[CV]  n_estimators=209, min_samples_split=2, min_samples_leaf=2, max_features=sqrt, max_depth=5, total=   0.3s\n",
            "[CV] n_estimators=209, min_samples_split=2, min_samples_leaf=2, max_features=sqrt, max_depth=5 \n",
            "[CV]  n_estimators=209, min_samples_split=2, min_samples_leaf=2, max_features=sqrt, max_depth=5, total=   0.3s\n",
            "[CV] n_estimators=209, min_samples_split=2, min_samples_leaf=2, max_features=sqrt, max_depth=5 \n",
            "[CV]  n_estimators=209, min_samples_split=2, min_samples_leaf=2, max_features=sqrt, max_depth=5, total=   0.3s\n",
            "[CV] n_estimators=209, min_samples_split=2, min_samples_leaf=2, max_features=sqrt, max_depth=5 \n",
            "[CV]  n_estimators=209, min_samples_split=2, min_samples_leaf=2, max_features=sqrt, max_depth=5, total=   0.3s\n",
            "[CV] n_estimators=209, min_samples_split=2, min_samples_leaf=2, max_features=sqrt, max_depth=5 \n",
            "[CV]  n_estimators=209, min_samples_split=2, min_samples_leaf=2, max_features=sqrt, max_depth=5, total=   0.3s\n",
            "[CV] n_estimators=209, min_samples_split=2, min_samples_leaf=2, max_features=sqrt, max_depth=5 \n",
            "[CV]  n_estimators=209, min_samples_split=2, min_samples_leaf=2, max_features=sqrt, max_depth=5, total=   0.3s\n",
            "[CV] n_estimators=209, min_samples_split=2, min_samples_leaf=2, max_features=sqrt, max_depth=5 \n",
            "[CV]  n_estimators=209, min_samples_split=2, min_samples_leaf=2, max_features=sqrt, max_depth=5, total=   0.3s\n",
            "[CV] n_estimators=863, min_samples_split=45, min_samples_leaf=30, max_features=auto, max_depth=24 \n",
            "[CV]  n_estimators=863, min_samples_split=45, min_samples_leaf=30, max_features=auto, max_depth=24, total=   1.2s\n",
            "[CV] n_estimators=863, min_samples_split=45, min_samples_leaf=30, max_features=auto, max_depth=24 \n",
            "[CV]  n_estimators=863, min_samples_split=45, min_samples_leaf=30, max_features=auto, max_depth=24, total=   1.2s\n",
            "[CV] n_estimators=863, min_samples_split=45, min_samples_leaf=30, max_features=auto, max_depth=24 \n",
            "[CV]  n_estimators=863, min_samples_split=45, min_samples_leaf=30, max_features=auto, max_depth=24, total=   1.2s\n",
            "[CV] n_estimators=863, min_samples_split=45, min_samples_leaf=30, max_features=auto, max_depth=24 \n",
            "[CV]  n_estimators=863, min_samples_split=45, min_samples_leaf=30, max_features=auto, max_depth=24, total=   1.2s\n",
            "[CV] n_estimators=863, min_samples_split=45, min_samples_leaf=30, max_features=auto, max_depth=24 \n",
            "[CV]  n_estimators=863, min_samples_split=45, min_samples_leaf=30, max_features=auto, max_depth=24, total=   1.2s\n",
            "[CV] n_estimators=863, min_samples_split=45, min_samples_leaf=30, max_features=auto, max_depth=24 \n",
            "[CV]  n_estimators=863, min_samples_split=45, min_samples_leaf=30, max_features=auto, max_depth=24, total=   1.2s\n",
            "[CV] n_estimators=863, min_samples_split=45, min_samples_leaf=30, max_features=auto, max_depth=24 \n",
            "[CV]  n_estimators=863, min_samples_split=45, min_samples_leaf=30, max_features=auto, max_depth=24, total=   1.2s\n",
            "[CV] n_estimators=863, min_samples_split=45, min_samples_leaf=30, max_features=auto, max_depth=24 \n",
            "[CV]  n_estimators=863, min_samples_split=45, min_samples_leaf=30, max_features=auto, max_depth=24, total=   1.2s\n",
            "[CV] n_estimators=863, min_samples_split=45, min_samples_leaf=30, max_features=auto, max_depth=24 \n",
            "[CV]  n_estimators=863, min_samples_split=45, min_samples_leaf=30, max_features=auto, max_depth=24, total=   1.2s\n",
            "[CV] n_estimators=863, min_samples_split=45, min_samples_leaf=30, max_features=auto, max_depth=24 \n",
            "[CV]  n_estimators=863, min_samples_split=45, min_samples_leaf=30, max_features=auto, max_depth=24, total=   1.2s\n",
            "[CV] n_estimators=863, min_samples_split=45, min_samples_leaf=30, max_features=auto, max_depth=24 \n",
            "[CV]  n_estimators=863, min_samples_split=45, min_samples_leaf=30, max_features=auto, max_depth=24, total=   1.2s\n",
            "[CV] n_estimators=863, min_samples_split=45, min_samples_leaf=30, max_features=auto, max_depth=24 \n",
            "[CV]  n_estimators=863, min_samples_split=45, min_samples_leaf=30, max_features=auto, max_depth=24, total=   1.2s\n",
            "[CV] n_estimators=863, min_samples_split=45, min_samples_leaf=30, max_features=auto, max_depth=24 \n",
            "[CV]  n_estimators=863, min_samples_split=45, min_samples_leaf=30, max_features=auto, max_depth=24, total=   1.2s\n",
            "[CV] n_estimators=863, min_samples_split=45, min_samples_leaf=30, max_features=auto, max_depth=24 \n",
            "[CV]  n_estimators=863, min_samples_split=45, min_samples_leaf=30, max_features=auto, max_depth=24, total=   1.2s\n",
            "[CV] n_estimators=863, min_samples_split=45, min_samples_leaf=30, max_features=auto, max_depth=24 \n",
            "[CV]  n_estimators=863, min_samples_split=45, min_samples_leaf=30, max_features=auto, max_depth=24, total=   1.2s\n",
            "[CV] n_estimators=863, min_samples_split=45, min_samples_leaf=30, max_features=auto, max_depth=24 \n",
            "[CV]  n_estimators=863, min_samples_split=45, min_samples_leaf=30, max_features=auto, max_depth=24, total=   1.2s\n",
            "[CV] n_estimators=863, min_samples_split=45, min_samples_leaf=30, max_features=auto, max_depth=24 \n",
            "[CV]  n_estimators=863, min_samples_split=45, min_samples_leaf=30, max_features=auto, max_depth=24, total=   1.2s\n",
            "[CV] n_estimators=863, min_samples_split=45, min_samples_leaf=30, max_features=auto, max_depth=24 \n",
            "[CV]  n_estimators=863, min_samples_split=45, min_samples_leaf=30, max_features=auto, max_depth=24, total=   1.2s\n",
            "[CV] n_estimators=863, min_samples_split=45, min_samples_leaf=30, max_features=auto, max_depth=24 \n",
            "[CV]  n_estimators=863, min_samples_split=45, min_samples_leaf=30, max_features=auto, max_depth=24, total=   1.2s\n",
            "[CV] n_estimators=863, min_samples_split=45, min_samples_leaf=30, max_features=auto, max_depth=24 \n",
            "[CV]  n_estimators=863, min_samples_split=45, min_samples_leaf=30, max_features=auto, max_depth=24, total=   1.2s\n",
            "[CV] n_estimators=209, min_samples_split=40, min_samples_leaf=30, max_features=auto, max_depth=5 \n",
            "[CV]  n_estimators=209, min_samples_split=40, min_samples_leaf=30, max_features=auto, max_depth=5, total=   0.3s\n",
            "[CV] n_estimators=209, min_samples_split=40, min_samples_leaf=30, max_features=auto, max_depth=5 \n",
            "[CV]  n_estimators=209, min_samples_split=40, min_samples_leaf=30, max_features=auto, max_depth=5, total=   0.3s\n",
            "[CV] n_estimators=209, min_samples_split=40, min_samples_leaf=30, max_features=auto, max_depth=5 \n",
            "[CV]  n_estimators=209, min_samples_split=40, min_samples_leaf=30, max_features=auto, max_depth=5, total=   0.3s\n",
            "[CV] n_estimators=209, min_samples_split=40, min_samples_leaf=30, max_features=auto, max_depth=5 \n",
            "[CV]  n_estimators=209, min_samples_split=40, min_samples_leaf=30, max_features=auto, max_depth=5, total=   0.3s\n",
            "[CV] n_estimators=209, min_samples_split=40, min_samples_leaf=30, max_features=auto, max_depth=5 \n",
            "[CV]  n_estimators=209, min_samples_split=40, min_samples_leaf=30, max_features=auto, max_depth=5, total=   0.3s\n",
            "[CV] n_estimators=209, min_samples_split=40, min_samples_leaf=30, max_features=auto, max_depth=5 \n",
            "[CV]  n_estimators=209, min_samples_split=40, min_samples_leaf=30, max_features=auto, max_depth=5, total=   0.3s\n",
            "[CV] n_estimators=209, min_samples_split=40, min_samples_leaf=30, max_features=auto, max_depth=5 \n",
            "[CV]  n_estimators=209, min_samples_split=40, min_samples_leaf=30, max_features=auto, max_depth=5, total=   0.3s\n",
            "[CV] n_estimators=209, min_samples_split=40, min_samples_leaf=30, max_features=auto, max_depth=5 \n",
            "[CV]  n_estimators=209, min_samples_split=40, min_samples_leaf=30, max_features=auto, max_depth=5, total=   0.3s\n",
            "[CV] n_estimators=209, min_samples_split=40, min_samples_leaf=30, max_features=auto, max_depth=5 \n",
            "[CV]  n_estimators=209, min_samples_split=40, min_samples_leaf=30, max_features=auto, max_depth=5, total=   0.3s\n",
            "[CV] n_estimators=209, min_samples_split=40, min_samples_leaf=30, max_features=auto, max_depth=5 \n",
            "[CV]  n_estimators=209, min_samples_split=40, min_samples_leaf=30, max_features=auto, max_depth=5, total=   0.3s\n",
            "[CV] n_estimators=209, min_samples_split=40, min_samples_leaf=30, max_features=auto, max_depth=5 \n",
            "[CV]  n_estimators=209, min_samples_split=40, min_samples_leaf=30, max_features=auto, max_depth=5, total=   0.3s\n",
            "[CV] n_estimators=209, min_samples_split=40, min_samples_leaf=30, max_features=auto, max_depth=5 \n",
            "[CV]  n_estimators=209, min_samples_split=40, min_samples_leaf=30, max_features=auto, max_depth=5, total=   0.3s\n",
            "[CV] n_estimators=209, min_samples_split=40, min_samples_leaf=30, max_features=auto, max_depth=5 \n",
            "[CV]  n_estimators=209, min_samples_split=40, min_samples_leaf=30, max_features=auto, max_depth=5, total=   0.3s\n",
            "[CV] n_estimators=209, min_samples_split=40, min_samples_leaf=30, max_features=auto, max_depth=5 \n",
            "[CV]  n_estimators=209, min_samples_split=40, min_samples_leaf=30, max_features=auto, max_depth=5, total=   0.3s\n",
            "[CV] n_estimators=209, min_samples_split=40, min_samples_leaf=30, max_features=auto, max_depth=5 \n",
            "[CV]  n_estimators=209, min_samples_split=40, min_samples_leaf=30, max_features=auto, max_depth=5, total=   0.3s\n",
            "[CV] n_estimators=209, min_samples_split=40, min_samples_leaf=30, max_features=auto, max_depth=5 \n",
            "[CV]  n_estimators=209, min_samples_split=40, min_samples_leaf=30, max_features=auto, max_depth=5, total=   0.3s\n",
            "[CV] n_estimators=209, min_samples_split=40, min_samples_leaf=30, max_features=auto, max_depth=5 \n",
            "[CV]  n_estimators=209, min_samples_split=40, min_samples_leaf=30, max_features=auto, max_depth=5, total=   0.3s\n",
            "[CV] n_estimators=209, min_samples_split=40, min_samples_leaf=30, max_features=auto, max_depth=5 \n",
            "[CV]  n_estimators=209, min_samples_split=40, min_samples_leaf=30, max_features=auto, max_depth=5, total=   0.3s\n",
            "[CV] n_estimators=209, min_samples_split=40, min_samples_leaf=30, max_features=auto, max_depth=5 \n",
            "[CV]  n_estimators=209, min_samples_split=40, min_samples_leaf=30, max_features=auto, max_depth=5, total=   0.3s\n",
            "[CV] n_estimators=209, min_samples_split=40, min_samples_leaf=30, max_features=auto, max_depth=5 \n",
            "[CV]  n_estimators=209, min_samples_split=40, min_samples_leaf=30, max_features=auto, max_depth=5, total=   0.3s\n",
            "[CV] n_estimators=209, min_samples_split=15, min_samples_leaf=1, max_features=auto, max_depth=81 \n",
            "[CV]  n_estimators=209, min_samples_split=15, min_samples_leaf=1, max_features=auto, max_depth=81, total=   0.3s\n",
            "[CV] n_estimators=209, min_samples_split=15, min_samples_leaf=1, max_features=auto, max_depth=81 \n",
            "[CV]  n_estimators=209, min_samples_split=15, min_samples_leaf=1, max_features=auto, max_depth=81, total=   0.3s\n",
            "[CV] n_estimators=209, min_samples_split=15, min_samples_leaf=1, max_features=auto, max_depth=81 \n",
            "[CV]  n_estimators=209, min_samples_split=15, min_samples_leaf=1, max_features=auto, max_depth=81, total=   0.3s\n",
            "[CV] n_estimators=209, min_samples_split=15, min_samples_leaf=1, max_features=auto, max_depth=81 \n",
            "[CV]  n_estimators=209, min_samples_split=15, min_samples_leaf=1, max_features=auto, max_depth=81, total=   0.3s\n",
            "[CV] n_estimators=209, min_samples_split=15, min_samples_leaf=1, max_features=auto, max_depth=81 \n",
            "[CV]  n_estimators=209, min_samples_split=15, min_samples_leaf=1, max_features=auto, max_depth=81, total=   0.3s\n",
            "[CV] n_estimators=209, min_samples_split=15, min_samples_leaf=1, max_features=auto, max_depth=81 \n",
            "[CV]  n_estimators=209, min_samples_split=15, min_samples_leaf=1, max_features=auto, max_depth=81, total=   0.3s\n",
            "[CV] n_estimators=209, min_samples_split=15, min_samples_leaf=1, max_features=auto, max_depth=81 \n",
            "[CV]  n_estimators=209, min_samples_split=15, min_samples_leaf=1, max_features=auto, max_depth=81, total=   0.3s\n",
            "[CV] n_estimators=209, min_samples_split=15, min_samples_leaf=1, max_features=auto, max_depth=81 \n",
            "[CV]  n_estimators=209, min_samples_split=15, min_samples_leaf=1, max_features=auto, max_depth=81, total=   0.3s\n",
            "[CV] n_estimators=209, min_samples_split=15, min_samples_leaf=1, max_features=auto, max_depth=81 \n",
            "[CV]  n_estimators=209, min_samples_split=15, min_samples_leaf=1, max_features=auto, max_depth=81, total=   0.3s\n",
            "[CV] n_estimators=209, min_samples_split=15, min_samples_leaf=1, max_features=auto, max_depth=81 \n",
            "[CV]  n_estimators=209, min_samples_split=15, min_samples_leaf=1, max_features=auto, max_depth=81, total=   0.3s\n",
            "[CV] n_estimators=209, min_samples_split=15, min_samples_leaf=1, max_features=auto, max_depth=81 \n",
            "[CV]  n_estimators=209, min_samples_split=15, min_samples_leaf=1, max_features=auto, max_depth=81, total=   0.3s\n",
            "[CV] n_estimators=209, min_samples_split=15, min_samples_leaf=1, max_features=auto, max_depth=81 \n",
            "[CV]  n_estimators=209, min_samples_split=15, min_samples_leaf=1, max_features=auto, max_depth=81, total=   0.3s\n",
            "[CV] n_estimators=209, min_samples_split=15, min_samples_leaf=1, max_features=auto, max_depth=81 \n",
            "[CV]  n_estimators=209, min_samples_split=15, min_samples_leaf=1, max_features=auto, max_depth=81, total=   0.3s\n",
            "[CV] n_estimators=209, min_samples_split=15, min_samples_leaf=1, max_features=auto, max_depth=81 \n",
            "[CV]  n_estimators=209, min_samples_split=15, min_samples_leaf=1, max_features=auto, max_depth=81, total=   0.3s\n",
            "[CV] n_estimators=209, min_samples_split=15, min_samples_leaf=1, max_features=auto, max_depth=81 \n",
            "[CV]  n_estimators=209, min_samples_split=15, min_samples_leaf=1, max_features=auto, max_depth=81, total=   0.3s\n",
            "[CV] n_estimators=209, min_samples_split=15, min_samples_leaf=1, max_features=auto, max_depth=81 \n",
            "[CV]  n_estimators=209, min_samples_split=15, min_samples_leaf=1, max_features=auto, max_depth=81, total=   0.3s\n",
            "[CV] n_estimators=209, min_samples_split=15, min_samples_leaf=1, max_features=auto, max_depth=81 \n",
            "[CV]  n_estimators=209, min_samples_split=15, min_samples_leaf=1, max_features=auto, max_depth=81, total=   0.3s\n",
            "[CV] n_estimators=209, min_samples_split=15, min_samples_leaf=1, max_features=auto, max_depth=81 \n",
            "[CV]  n_estimators=209, min_samples_split=15, min_samples_leaf=1, max_features=auto, max_depth=81, total=   0.3s\n",
            "[CV] n_estimators=209, min_samples_split=15, min_samples_leaf=1, max_features=auto, max_depth=81 \n",
            "[CV]  n_estimators=209, min_samples_split=15, min_samples_leaf=1, max_features=auto, max_depth=81, total=   0.3s\n",
            "[CV] n_estimators=209, min_samples_split=15, min_samples_leaf=1, max_features=auto, max_depth=81 \n",
            "[CV]  n_estimators=209, min_samples_split=15, min_samples_leaf=1, max_features=auto, max_depth=81, total=   0.3s\n",
            "[CV] n_estimators=645, min_samples_split=45, min_samples_leaf=15, max_features=sqrt, max_depth=62 \n",
            "[CV]  n_estimators=645, min_samples_split=45, min_samples_leaf=15, max_features=sqrt, max_depth=62, total=   0.9s\n",
            "[CV] n_estimators=645, min_samples_split=45, min_samples_leaf=15, max_features=sqrt, max_depth=62 \n",
            "[CV]  n_estimators=645, min_samples_split=45, min_samples_leaf=15, max_features=sqrt, max_depth=62, total=   0.9s\n",
            "[CV] n_estimators=645, min_samples_split=45, min_samples_leaf=15, max_features=sqrt, max_depth=62 \n",
            "[CV]  n_estimators=645, min_samples_split=45, min_samples_leaf=15, max_features=sqrt, max_depth=62, total=   0.9s\n",
            "[CV] n_estimators=645, min_samples_split=45, min_samples_leaf=15, max_features=sqrt, max_depth=62 \n",
            "[CV]  n_estimators=645, min_samples_split=45, min_samples_leaf=15, max_features=sqrt, max_depth=62, total=   0.9s\n",
            "[CV] n_estimators=645, min_samples_split=45, min_samples_leaf=15, max_features=sqrt, max_depth=62 \n",
            "[CV]  n_estimators=645, min_samples_split=45, min_samples_leaf=15, max_features=sqrt, max_depth=62, total=   0.9s\n",
            "[CV] n_estimators=645, min_samples_split=45, min_samples_leaf=15, max_features=sqrt, max_depth=62 \n",
            "[CV]  n_estimators=645, min_samples_split=45, min_samples_leaf=15, max_features=sqrt, max_depth=62, total=   0.9s\n",
            "[CV] n_estimators=645, min_samples_split=45, min_samples_leaf=15, max_features=sqrt, max_depth=62 \n",
            "[CV]  n_estimators=645, min_samples_split=45, min_samples_leaf=15, max_features=sqrt, max_depth=62, total=   0.9s\n",
            "[CV] n_estimators=645, min_samples_split=45, min_samples_leaf=15, max_features=sqrt, max_depth=62 \n",
            "[CV]  n_estimators=645, min_samples_split=45, min_samples_leaf=15, max_features=sqrt, max_depth=62, total=   0.9s\n",
            "[CV] n_estimators=645, min_samples_split=45, min_samples_leaf=15, max_features=sqrt, max_depth=62 \n",
            "[CV]  n_estimators=645, min_samples_split=45, min_samples_leaf=15, max_features=sqrt, max_depth=62, total=   0.9s\n",
            "[CV] n_estimators=645, min_samples_split=45, min_samples_leaf=15, max_features=sqrt, max_depth=62 \n",
            "[CV]  n_estimators=645, min_samples_split=45, min_samples_leaf=15, max_features=sqrt, max_depth=62, total=   0.9s\n",
            "[CV] n_estimators=645, min_samples_split=45, min_samples_leaf=15, max_features=sqrt, max_depth=62 \n",
            "[CV]  n_estimators=645, min_samples_split=45, min_samples_leaf=15, max_features=sqrt, max_depth=62, total=   0.9s\n",
            "[CV] n_estimators=645, min_samples_split=45, min_samples_leaf=15, max_features=sqrt, max_depth=62 \n",
            "[CV]  n_estimators=645, min_samples_split=45, min_samples_leaf=15, max_features=sqrt, max_depth=62, total=   0.9s\n",
            "[CV] n_estimators=645, min_samples_split=45, min_samples_leaf=15, max_features=sqrt, max_depth=62 \n",
            "[CV]  n_estimators=645, min_samples_split=45, min_samples_leaf=15, max_features=sqrt, max_depth=62, total=   0.9s\n",
            "[CV] n_estimators=645, min_samples_split=45, min_samples_leaf=15, max_features=sqrt, max_depth=62 \n",
            "[CV]  n_estimators=645, min_samples_split=45, min_samples_leaf=15, max_features=sqrt, max_depth=62, total=   0.9s\n",
            "[CV] n_estimators=645, min_samples_split=45, min_samples_leaf=15, max_features=sqrt, max_depth=62 \n",
            "[CV]  n_estimators=645, min_samples_split=45, min_samples_leaf=15, max_features=sqrt, max_depth=62, total=   0.9s\n",
            "[CV] n_estimators=645, min_samples_split=45, min_samples_leaf=15, max_features=sqrt, max_depth=62 \n",
            "[CV]  n_estimators=645, min_samples_split=45, min_samples_leaf=15, max_features=sqrt, max_depth=62, total=   0.9s\n",
            "[CV] n_estimators=645, min_samples_split=45, min_samples_leaf=15, max_features=sqrt, max_depth=62 \n",
            "[CV]  n_estimators=645, min_samples_split=45, min_samples_leaf=15, max_features=sqrt, max_depth=62, total=   0.9s\n",
            "[CV] n_estimators=645, min_samples_split=45, min_samples_leaf=15, max_features=sqrt, max_depth=62 \n",
            "[CV]  n_estimators=645, min_samples_split=45, min_samples_leaf=15, max_features=sqrt, max_depth=62, total=   0.9s\n",
            "[CV] n_estimators=645, min_samples_split=45, min_samples_leaf=15, max_features=sqrt, max_depth=62 \n",
            "[CV]  n_estimators=645, min_samples_split=45, min_samples_leaf=15, max_features=sqrt, max_depth=62, total=   0.9s\n",
            "[CV] n_estimators=645, min_samples_split=45, min_samples_leaf=15, max_features=sqrt, max_depth=62 \n",
            "[CV]  n_estimators=645, min_samples_split=45, min_samples_leaf=15, max_features=sqrt, max_depth=62, total=   0.9s\n",
            "[CV] n_estimators=209, min_samples_split=35, min_samples_leaf=5, max_features=sqrt, max_depth=81 \n",
            "[CV]  n_estimators=209, min_samples_split=35, min_samples_leaf=5, max_features=sqrt, max_depth=81, total=   0.3s\n",
            "[CV] n_estimators=209, min_samples_split=35, min_samples_leaf=5, max_features=sqrt, max_depth=81 \n",
            "[CV]  n_estimators=209, min_samples_split=35, min_samples_leaf=5, max_features=sqrt, max_depth=81, total=   0.3s\n",
            "[CV] n_estimators=209, min_samples_split=35, min_samples_leaf=5, max_features=sqrt, max_depth=81 \n",
            "[CV]  n_estimators=209, min_samples_split=35, min_samples_leaf=5, max_features=sqrt, max_depth=81, total=   0.3s\n",
            "[CV] n_estimators=209, min_samples_split=35, min_samples_leaf=5, max_features=sqrt, max_depth=81 \n",
            "[CV]  n_estimators=209, min_samples_split=35, min_samples_leaf=5, max_features=sqrt, max_depth=81, total=   0.3s\n",
            "[CV] n_estimators=209, min_samples_split=35, min_samples_leaf=5, max_features=sqrt, max_depth=81 \n",
            "[CV]  n_estimators=209, min_samples_split=35, min_samples_leaf=5, max_features=sqrt, max_depth=81, total=   0.3s\n",
            "[CV] n_estimators=209, min_samples_split=35, min_samples_leaf=5, max_features=sqrt, max_depth=81 \n",
            "[CV]  n_estimators=209, min_samples_split=35, min_samples_leaf=5, max_features=sqrt, max_depth=81, total=   0.3s\n",
            "[CV] n_estimators=209, min_samples_split=35, min_samples_leaf=5, max_features=sqrt, max_depth=81 \n",
            "[CV]  n_estimators=209, min_samples_split=35, min_samples_leaf=5, max_features=sqrt, max_depth=81, total=   0.3s\n",
            "[CV] n_estimators=209, min_samples_split=35, min_samples_leaf=5, max_features=sqrt, max_depth=81 \n",
            "[CV]  n_estimators=209, min_samples_split=35, min_samples_leaf=5, max_features=sqrt, max_depth=81, total=   0.3s\n",
            "[CV] n_estimators=209, min_samples_split=35, min_samples_leaf=5, max_features=sqrt, max_depth=81 \n",
            "[CV]  n_estimators=209, min_samples_split=35, min_samples_leaf=5, max_features=sqrt, max_depth=81, total=   0.3s\n",
            "[CV] n_estimators=209, min_samples_split=35, min_samples_leaf=5, max_features=sqrt, max_depth=81 \n",
            "[CV]  n_estimators=209, min_samples_split=35, min_samples_leaf=5, max_features=sqrt, max_depth=81, total=   0.3s\n",
            "[CV] n_estimators=209, min_samples_split=35, min_samples_leaf=5, max_features=sqrt, max_depth=81 \n",
            "[CV]  n_estimators=209, min_samples_split=35, min_samples_leaf=5, max_features=sqrt, max_depth=81, total=   0.3s\n",
            "[CV] n_estimators=209, min_samples_split=35, min_samples_leaf=5, max_features=sqrt, max_depth=81 \n",
            "[CV]  n_estimators=209, min_samples_split=35, min_samples_leaf=5, max_features=sqrt, max_depth=81, total=   0.3s\n",
            "[CV] n_estimators=209, min_samples_split=35, min_samples_leaf=5, max_features=sqrt, max_depth=81 \n",
            "[CV]  n_estimators=209, min_samples_split=35, min_samples_leaf=5, max_features=sqrt, max_depth=81, total=   0.3s\n",
            "[CV] n_estimators=209, min_samples_split=35, min_samples_leaf=5, max_features=sqrt, max_depth=81 \n",
            "[CV]  n_estimators=209, min_samples_split=35, min_samples_leaf=5, max_features=sqrt, max_depth=81, total=   0.3s\n",
            "[CV] n_estimators=209, min_samples_split=35, min_samples_leaf=5, max_features=sqrt, max_depth=81 \n",
            "[CV]  n_estimators=209, min_samples_split=35, min_samples_leaf=5, max_features=sqrt, max_depth=81, total=   0.3s\n",
            "[CV] n_estimators=209, min_samples_split=35, min_samples_leaf=5, max_features=sqrt, max_depth=81 \n",
            "[CV]  n_estimators=209, min_samples_split=35, min_samples_leaf=5, max_features=sqrt, max_depth=81, total=   0.3s\n",
            "[CV] n_estimators=209, min_samples_split=35, min_samples_leaf=5, max_features=sqrt, max_depth=81 \n",
            "[CV]  n_estimators=209, min_samples_split=35, min_samples_leaf=5, max_features=sqrt, max_depth=81, total=   0.3s\n",
            "[CV] n_estimators=209, min_samples_split=35, min_samples_leaf=5, max_features=sqrt, max_depth=81 \n",
            "[CV]  n_estimators=209, min_samples_split=35, min_samples_leaf=5, max_features=sqrt, max_depth=81, total=   0.3s\n",
            "[CV] n_estimators=209, min_samples_split=35, min_samples_leaf=5, max_features=sqrt, max_depth=81 \n",
            "[CV]  n_estimators=209, min_samples_split=35, min_samples_leaf=5, max_features=sqrt, max_depth=81, total=   0.3s\n",
            "[CV] n_estimators=209, min_samples_split=35, min_samples_leaf=5, max_features=sqrt, max_depth=81 \n",
            "[CV]  n_estimators=209, min_samples_split=35, min_samples_leaf=5, max_features=sqrt, max_depth=81, total=   0.3s\n"
          ],
          "name": "stdout"
        },
        {
          "output_type": "stream",
          "text": [
            "[Parallel(n_jobs=1)]: Done 1000 out of 1000 | elapsed: 15.9min finished\n"
          ],
          "name": "stderr"
        },
        {
          "output_type": "execute_result",
          "data": {
            "text/plain": [
              "RandomizedSearchCV(cv=20, error_score=nan,\n",
              "                   estimator=RandomForestClassifier(bootstrap=True,\n",
              "                                                    ccp_alpha=0.0,\n",
              "                                                    class_weight=None,\n",
              "                                                    criterion='entropy',\n",
              "                                                    max_depth=None,\n",
              "                                                    max_features='auto',\n",
              "                                                    max_leaf_nodes=None,\n",
              "                                                    max_samples=None,\n",
              "                                                    min_impurity_decrease=0.0,\n",
              "                                                    min_impurity_split=None,\n",
              "                                                    min_samples_leaf=1,\n",
              "                                                    min_samples_split=2,\n",
              "                                                    min_weight_fraction_leaf=0.0,\n",
              "                                                    n_estimators=100,\n",
              "                                                    n_...\n",
              "                   param_distributions={'max_depth': [5, 24, 43, 62, 81, 100],\n",
              "                                        'max_features': ['auto', 'sqrt'],\n",
              "                                        'min_samples_leaf': [1, 2, 5, 10, 15,\n",
              "                                                             20, 25, 30, 35, 40,\n",
              "                                                             45],\n",
              "                                        'min_samples_split': [2, 5, 10, 15, 20,\n",
              "                                                              25, 30, 35, 40,\n",
              "                                                              45, 100],\n",
              "                                        'n_estimators': [100, 209, 318, 427,\n",
              "                                                         536, 645, 754, 863,\n",
              "                                                         972, 1081, 1190,\n",
              "                                                         1300]},\n",
              "                   pre_dispatch='2*n_jobs', random_state=42, refit=True,\n",
              "                   return_train_score=False, scoring=None, verbose=2)"
            ]
          },
          "metadata": {
            "tags": []
          },
          "execution_count": 201
        }
      ]
    },
    {
      "cell_type": "code",
      "metadata": {
        "colab": {
          "base_uri": "https://localhost:8080/"
        },
        "id": "cQklcmv-iYh3",
        "outputId": "cf4ad305-3a88-41d9-fa2d-3e04902e99b5"
      },
      "source": [
        "rf_random.best_params_"
      ],
      "execution_count": null,
      "outputs": [
        {
          "output_type": "execute_result",
          "data": {
            "text/plain": [
              "{'max_depth': 24,\n",
              " 'max_features': 'sqrt',\n",
              " 'min_samples_leaf': 20,\n",
              " 'min_samples_split': 10,\n",
              " 'n_estimators': 1300}"
            ]
          },
          "metadata": {
            "tags": []
          },
          "execution_count": 202
        }
      ]
    },
    {
      "cell_type": "code",
      "metadata": {
        "id": "hR1RZB5Fju51"
      },
      "source": [
        "predictions_cv = rf_random.predict(X_test)"
      ],
      "execution_count": null,
      "outputs": []
    },
    {
      "cell_type": "code",
      "metadata": {
        "id": "qQ2KmUyNkLiB"
      },
      "source": [
        "accuracy_rfc = metrics.accuracy_score(y_test,predictions_cv)"
      ],
      "execution_count": null,
      "outputs": []
    },
    {
      "cell_type": "code",
      "metadata": {
        "colab": {
          "base_uri": "https://localhost:8080/"
        },
        "id": "1H5Kv37gkYFT",
        "outputId": "d316270a-f629-47bb-daff-95d4b26e3d4a"
      },
      "source": [
        "accuracy_rfc"
      ],
      "execution_count": null,
      "outputs": [
        {
          "output_type": "execute_result",
          "data": {
            "text/plain": [
              "0.8461538461538461"
            ]
          },
          "metadata": {
            "tags": []
          },
          "execution_count": 205
        }
      ]
    },
    {
      "cell_type": "markdown",
      "metadata": {
        "id": "CPGwKt72z3nI"
      },
      "source": [
        "By hyperpameter tuning we can see that there is a bit increase in accuracy and predicted an accuracy of 84.61% ."
      ]
    }
  ]
}